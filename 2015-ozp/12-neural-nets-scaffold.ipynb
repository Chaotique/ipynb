{
 "metadata": {
  "kernelspec": {
   "display_name": "Python 3",
   "language": "python",
   "name": "python3"
  },
  "language_info": {
   "codemirror_mode": {
    "name": "ipython",
    "version": 3
   },
   "file_extension": ".py",
   "mimetype": "text/x-python",
   "name": "python",
   "nbconvert_exporter": "python",
   "pygments_lexer": "ipython3",
   "version": "3.4.3"
  },
  "name": "",
  "signature": "sha256:ff6ccf15d2dffe5a3c0224ceb32c75d16498ac60c6eae5b6edfcf75ec7ecbd11"
 },
 "nbformat": 3,
 "nbformat_minor": 0,
 "worksheets": [
  {
   "cells": [
    {
     "cell_type": "heading",
     "level": 1,
     "metadata": {},
     "source": [
      "Nevronska Mre\u017ea"
     ]
    },
    {
     "cell_type": "markdown",
     "metadata": {},
     "source": [
      "Spodaj je delna implementacija nevronske mre\u017ee, kot smo jo pri\u010deli snovati na predavanjih. Manjka klju\u010dni del: implementacija algoritma za u\u010denje. Za doma\u010do nalogo bo tudi potreben popravek, ki mre\u017eo prilagodi za ve\u010drazredne probleme (\u010de se ne motim, bo ta potreben samo za eno vrstico v funkciji predict). Objekta za u\u010denje in napovedovanje sta pisana skladno z zahtevami za tovrstne objekte v Orange-u, prilagoditve za sklearn vam ne bi smele vzeti dosti \u010dasa."
     ]
    },
    {
     "cell_type": "heading",
     "level": 3,
     "metadata": {},
     "source": [
      "Sigmoidna funkcija in dodajanje enic"
     ]
    },
    {
     "cell_type": "code",
     "collapsed": true,
     "input": [
      "import numpy as np\n",
      "import Orange\n",
      "\n",
      "def g(z):\n",
      "    return 1/(1+np.exp(-z))\n",
      "\n",
      "def add_ones(X):\n",
      "    return np.column_stack((np.ones(len(X)), X))"
     ],
     "language": "python",
     "metadata": {},
     "outputs": [],
     "prompt_number": 1
    },
    {
     "cell_type": "heading",
     "level": 3,
     "metadata": {},
     "source": [
      "Learner"
     ]
    },
    {
     "cell_type": "code",
     "collapsed": true,
     "input": [
      "class SVMLearner(Orange.classification.Learner):\n",
      "    def __init__(self, arch, C=1):\n",
      "        super().__init__()\n",
      "        self.arch = arch\n",
      "        self.lambda_ = lambda_\n",
      "        self.name = \"ann\"\n",
      "\n",
      "        self.theta_shape = np.array([(arch[i]+1, arch[i+1])\n",
      "                                     for i in range(len(arch)-1)])\n",
      "        ind = np.array([s1*s2 for s1, s2 in self.theta_shape])\n",
      "        self.theta_ind = np.cumsum(ind[:-1])\n",
      "        self.theta_len = sum(ind)\n",
      "\n",
      "    def init_thetas(self, epsilon=1e-5):\n",
      "        return np.random.rand(self.theta_len) * 2 * epsilon - epsilon\n",
      "\n",
      "    def shape_thetas(self, thetas):\n",
      "        t = np.split(thetas, self.theta_ind)\n",
      "        return [t[i].reshape(shape) for i, shape in enumerate(self.theta_shape)]\n",
      "\n",
      "    def h(self, a, thetas):\n",
      "        \"\"\"feed forward, prediction\"\"\"\n",
      "        thetas = self.shape_thetas(thetas)\n",
      "        for theta in thetas:\n",
      "            a = g(add_ones(a).dot(theta))\n",
      "        return a\n",
      "\n",
      "    def J(self, thetas):\n",
      "        # use matrix and vector operations. could be written in a single line\n",
      "        # use self.m as stored by the fit function\n",
      "        pass\n",
      "\n",
      "    def grad_approx(self, thetas, e=1e-1):\n",
      "        return np.array([(self.J(thetas+eps) - self.J(thetas-eps))/(2*e)\n",
      "                         for eps in np.identity(len(thetas)) * e])\n",
      "\n",
      "    def backprop(self, thetas):\n",
      "        # cca 10 lines of code\n",
      "        pass\n",
      "\n",
      "    def fit(self, X, y, W=None):\n",
      "        self.X, self.y = X, y\n",
      "        self.m = self.X.shape[0]\n",
      "        thetas = self.init_thetas()\n",
      "\n",
      "        thetas, fmin, info = fmin_l_bfgs_b(self.J, thetas, self.backprop,\n",
      "                                           callback=self.callback,\n",
      "                                           factr=10)\n",
      "\n",
      "        model = NeuralNetClassifier(self.domain, thetas)\n",
      "        model.h = self.h\n",
      "        return model\n",
      "\n",
      "    def test(self, a):\n",
      "        thetas = np.array([-30, 10, 20, -20, 20, -20, -10, 20, 20])\n",
      "        print(self.h(a, thetas))"
     ],
     "language": "python",
     "metadata": {},
     "outputs": [],
     "prompt_number": 2
    },
    {
     "cell_type": "heading",
     "level": 3,
     "metadata": {},
     "source": [
      "Classifier"
     ]
    },
    {
     "cell_type": "code",
     "collapsed": true,
     "input": [
      "class NeuralNetClassifier(Orange.classification.Model):\n",
      "    \"\"\"Neural network classifier based on a set of binary classifiers.\"\"\"\n",
      "    def __init__(self, domain, thetas):\n",
      "        super().__init__(domain)\n",
      "        self.thetas = thetas  # model parameters\n",
      "\n",
      "    def predict(self, X):\n",
      "        y_hat = np.ravel(self.h(X, self.thetas))\n",
      "        # following works only for binary classifiers, correct it for multiclass\n",
      "        return np.vstack((1-y_hat, y_hat)).T"
     ],
     "language": "python",
     "metadata": {},
     "outputs": [],
     "prompt_number": 3
    },
    {
     "cell_type": "heading",
     "level": 3,
     "metadata": {},
     "source": [
      "Testiranje"
     ]
    },
    {
     "cell_type": "markdown",
     "metadata": {},
     "source": [
      "Ne pozabite preveriti vsako vrstico, ki jo napi\u0161ete. Prav tako ne priporo\u010dam, da va\u0161o kodo za u\u010denje pi\u0161ete neposredno v zgornje ogrodje. Najprej sku\u0161ajte kodo za u\u010denje spisati vrstico za vrstico v Pythonovski lupini, preglejte, \u010de so va\u0161e matrike in vektorji pri\u010dakovanih dimenzij. Vse skupaj najprej implementirajte za mre\u017eo z enim samim skritim nivojem in \u0161ele potem, ko stvar delaju, razvijte splo\u0161no razli\u010dico za poljubno \u0161tevilo nivojev."
     ]
    },
    {
     "cell_type": "markdown",
     "metadata": {},
     "source": [
      "Ne pozabite skalirati podatkov!"
     ]
    },
    {
     "cell_type": "markdown",
     "metadata": {},
     "source": [
      "Enostavno testiranje z zelo majhnimi podatki bi bilo mo\u017eno na primer z:"
     ]
    },
    {
     "cell_type": "code",
     "collapsed": true,
     "input": [
      "data = Orange.data.Table(\"xor\")\n",
      "np.random.seed(42)\n",
      "train, test = Orange.evaluation.sample(data, 5)\n",
      "\n",
      "ann = NeuralNetLearner((data.X.shape[1], 5, 4), lambda_=0.1)"
     ],
     "language": "python",
     "metadata": {},
     "outputs": [],
     "prompt_number": null
    },
    {
     "cell_type": "markdown",
     "metadata": {},
     "source": [
      "V kon\u010dni razli\u010dici bi lahko delovala tudi spodnja koda"
     ]
    },
    {
     "cell_type": "code",
     "collapsed": true,
     "input": [
      "res = Orange.evaluation.CrossValidation(data, [ann], k=5)\n",
      "print(Orange.evaluation.AUC(res))"
     ],
     "language": "python",
     "metadata": {},
     "outputs": [],
     "prompt_number": null
    }
   ],
   "metadata": {}
  }
 ]
}