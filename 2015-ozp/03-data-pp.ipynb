{
 "metadata": {
  "name": "",
  "signature": "sha256:2f9bed2398f81a9791bd607d9469fa8d5f1baaf41a9b765db84ce46cda6f4a90"
 },
 "nbformat": 3,
 "nbformat_minor": 0,
 "worksheets": [
  {
   "cells": [
    {
     "cell_type": "code",
     "collapsed": false,
     "input": [
      "import Orange\n",
      "from collections import Counter, defaultdict\n",
      "from matplotlib import pyplot as plt\n",
      "import scipy\n",
      "import sklearn\n",
      "import numpy as np\n",
      "%matplotlib inline"
     ],
     "language": "python",
     "metadata": {},
     "outputs": [],
     "prompt_number": 255
    },
    {
     "cell_type": "code",
     "collapsed": false,
     "input": [
      "data = Orange.data.Table(\"data/all-1000.tab\")\n",
      "md = Orange.data.Table(\"data/md.tab\")"
     ],
     "language": "python",
     "metadata": {},
     "outputs": [],
     "prompt_number": 256
    },
    {
     "cell_type": "markdown",
     "metadata": {},
     "source": [
      "The data for this project were collected as part of the Rockefeller University Smell Study. We collected perceptual ratings of 476 different odors at two different intensities (\u201chigh\u201d and \u201clow\u201d). 20 of the 476 odors were replicated, so that each subject rated the perception of 992 stimuli (476 odors plus 20 odors that were replicated; each at two different intensities). Data from 49 subjects are provided for 338 odors (including the 20 replicated ones), while the data for the 138 odors left will be used for the leaderboard (69 odors) and the final test set (69 odors). "
     ]
    },
    {
     "cell_type": "code",
     "collapsed": false,
     "input": [
      "print(\"%d odors tested by each subject\" % (2*(476+20)))\n",
      "print(\"%d lines in training set\" % (2*(338+20)*49))\n",
      "print(\"\")"
     ],
     "language": "python",
     "metadata": {},
     "outputs": [
      {
       "output_type": "stream",
       "stream": "stdout",
       "text": [
        "992 odors tested by each subject\n",
        "35084 lines in training set\n",
        "\n"
       ]
      }
     ],
     "prompt_number": 257
    },
    {
     "cell_type": "code",
     "collapsed": false,
     "input": [
      "cids = set(str(d[\"CID\"]) for d in data)\n",
      "print(\"%d rows in data, %d unique cids\" % (len(data), len(cids)))\n",
      "print(\"%d subjects\" % len(set(str(d[\"subject #\"]) for d in data)))"
     ],
     "language": "python",
     "metadata": {},
     "outputs": [
      {
       "output_type": "stream",
       "stream": "stdout",
       "text": [
        "14455 rows in data, 280 unique cids\n",
        "49 subjects"
       ]
      },
      {
       "output_type": "stream",
       "stream": "stdout",
       "text": [
        "\n"
       ]
      }
     ],
     "prompt_number": 258
    },
    {
     "cell_type": "code",
     "collapsed": false,
     "input": [
      "md_cids = set(str(d[\"CID\"]) for d in md)\n",
      "print(\"%d rows in mol descriptors, %d unique chemicals, %d features\" % \n",
      "      (len(md), len(md_cids), len(md.domain.attributes)))"
     ],
     "language": "python",
     "metadata": {},
     "outputs": [
      {
       "output_type": "stream",
       "stream": "stdout",
       "text": [
        "476 rows in mol descriptors, 476 unique chemicals, 4869 features\n"
       ]
      }
     ],
     "prompt_number": 259
    },
    {
     "cell_type": "code",
     "collapsed": false,
     "input": [
      "data.domain.metas"
     ],
     "language": "python",
     "metadata": {},
     "outputs": [
      {
       "metadata": {},
       "output_type": "pyout",
       "prompt_number": 260,
       "text": [
        "(StringVariable('CID'),\n",
        " StringVariable('Odor'),\n",
        " StringVariable('Replicate'),\n",
        " StringVariable('Intensity'),\n",
        " StringVariable('Dilution'),\n",
        " StringVariable('subject #'))"
       ]
      }
     ],
     "prompt_number": 260
    },
    {
     "cell_type": "code",
     "collapsed": false,
     "input": [
      "Counter([str(d[\"Intensity\"]) for d in data])"
     ],
     "language": "python",
     "metadata": {},
     "outputs": [
      {
       "metadata": {},
       "output_type": "pyout",
       "prompt_number": 261,
       "text": [
        "Counter({'high': 10143, 'low': 4312})"
       ]
      }
     ],
     "prompt_number": 261
    },
    {
     "cell_type": "code",
     "collapsed": false,
     "input": [
      "yid = data.domain.attributes[0]\n",
      "cid = list(cids)[1]\n",
      "cid_data = [d for d in data if d[\"CID\"] == cid]\n",
      "x = [d[yid] for d in cid_data]\n",
      "plt.hist(x);"
     ],
     "language": "python",
     "metadata": {},
     "outputs": [
      {
       "metadata": {},
       "output_type": "display_data",
       "png": "[encoded data removed]",
       "text": [
        "<matplotlib.figure.Figure at 0x119bb6240>"
       ]
      }
     ],
     "prompt_number": 365
    },
    {
     "cell_type": "code",
     "collapsed": false,
     "input": [
      "subjects = set(str(d[\"subject #\"]) for d in data)"
     ],
     "language": "python",
     "metadata": {},
     "outputs": [],
     "prompt_number": 263
    },
    {
     "cell_type": "code",
     "collapsed": false,
     "input": [
      "average = lambda x: sum(x) / len(x)\n",
      "cid_intensity_list = defaultdict(list)\n",
      "for d in data:\n",
      "    cid_intensity_list[str(d[\"CID\"])].append(float(d[yid]))\n",
      "cid_intensity = {}\n",
      "for k in cid_intensity_list:\n",
      "    cid_intensity[k] = average(cid_intensity_list[k])"
     ],
     "language": "python",
     "metadata": {},
     "outputs": [],
     "prompt_number": 264
    },
    {
     "cell_type": "code",
     "collapsed": false,
     "input": [
      "plt.hist(list(cid_intensity.values()));"
     ],
     "language": "python",
     "metadata": {},
     "outputs": [
      {
       "metadata": {},
       "output_type": "pyout",
       "prompt_number": 265,
       "text": [
        "(array([ 29.,  28.,  21.,  14.,  25.,  30.,  34.,  40.,  47.,  12.]),\n",
        " array([  2.12244898,  10.92857143,  19.73469388,  28.54081633,\n",
        "         37.34693878,  46.15306122,  54.95918367,  63.76530612,\n",
        "         72.57142857,  81.37755102,  90.18367347]),\n",
        " <a list of 10 Patch objects>)"
       ]
      },
      {
       "metadata": {},
       "output_type": "display_data",
       "png": "[encoded data removed]",
       "text": [
        "<matplotlib.figure.Figure at 0x1131ffcc0>"
       ]
      }
     ],
     "prompt_number": 265
    },
    {
     "cell_type": "code",
     "collapsed": false,
     "input": [
      "domain = Orange.data.Domain(md.domain.attributes, yid, md.domain.metas)"
     ],
     "language": "python",
     "metadata": {},
     "outputs": [],
     "prompt_number": 266
    },
    {
     "cell_type": "code",
     "collapsed": false,
     "input": [
      "cid2md = {str(d[\"CID\"]): d for d in md}"
     ],
     "language": "python",
     "metadata": {},
     "outputs": [],
     "prompt_number": 267
    },
    {
     "cell_type": "code",
     "collapsed": false,
     "input": [
      "da = []\n",
      "for cid in cids:\n",
      "    da.append(cid2md[cid])"
     ],
     "language": "python",
     "metadata": {},
     "outputs": [],
     "prompt_number": 268
    },
    {
     "cell_type": "code",
     "collapsed": false,
     "input": [
      "new_data = Orange.data.Table.from_domain(domain)\n",
      "for cid in cids:\n",
      "    new_data.append(list(cid2md[cid]) + [cid_intensity[cid]])\n",
      "    new_data[-1][\"CID\"] = cid"
     ],
     "language": "python",
     "metadata": {},
     "outputs": [],
     "prompt_number": 269
    },
    {
     "cell_type": "code",
     "collapsed": false,
     "input": [
      "# new_data.save(\"data/rdata-all.tab\")\n",
      "imputed = Orange.preprocess.Impute(new_data)\n",
      "imputed.X = sklearn.preprocessing.StandardScaler().fit_transform(imputed.X)"
     ],
     "language": "python",
     "metadata": {},
     "outputs": [],
     "prompt_number": 270
    },
    {
     "cell_type": "code",
     "collapsed": false,
     "input": [
      "maj = Orange.regression.MeanLearner()\n",
      "lasso = Orange.regression.LassoRegressionLearner(alpha=0.1)\n",
      "tree = Orange.classification.SimpleTreeLearner()\n",
      "forest = Orange.classification.SimpleRandomForestLearner(n_estimators=10)\n",
      "ridge = Orange.regression.RidgeRegressionLearner(alpha=0.01)"
     ],
     "language": "python",
     "metadata": {},
     "outputs": [],
     "prompt_number": 271
    },
    {
     "cell_type": "code",
     "collapsed": false,
     "input": [
      "res = Orange.evaluation.CrossValidation(imputed, [ridge, maj], k=5)\n",
      "Orange.evaluation.RMSE(res)"
     ],
     "language": "python",
     "metadata": {},
     "outputs": [
      {
       "metadata": {},
       "output_type": "pyout",
       "prompt_number": 369,
       "text": [
        "array([ 28.91540981,  24.75806686])"
       ]
      }
     ],
     "prompt_number": 369
    },
    {
     "cell_type": "code",
     "collapsed": false,
     "input": [
      "alphas = 1/(10**(np.linspace(0, 10, 50)+0.1))\n",
      "fitted = sklearn.linear_model.LassoCV(alphas=alphas).fit(imputed.X, imputed.Y)\n",
      "# fitted.predict(imputed.X)"
     ],
     "language": "python",
     "metadata": {},
     "outputs": [
      {
       "output_type": "stream",
       "stream": "stderr",
       "text": [
        "/Users/blaz/.env/p3/lib/python3.4/site-packages/sklearn/linear_model/coordinate_descent.py:490: ConvergenceWarning: Objective did not converge. You might want to increase the number of iterations\n",
        "  ConvergenceWarning)\n"
       ]
      }
     ],
     "prompt_number": 273
    },
    {
     "cell_type": "code",
     "collapsed": false,
     "input": [
      "alphas[0]"
     ],
     "language": "python",
     "metadata": {},
     "outputs": [
      {
       "metadata": {},
       "output_type": "pyout",
       "prompt_number": 274,
       "text": [
        "0.79432823472428149"
       ]
      }
     ],
     "prompt_number": 274
    },
    {
     "cell_type": "code",
     "collapsed": false,
     "input": [
      "corr = [(scipy.stats.pearsonr(imputed.X[:, i], imputed.Y)[1], i) for i in range(len(imputed.domain.attributes))]\n",
      "p_threshold = 0.001 / len(imputed.domain.attributes)\n",
      "sel = [i for (p, i) in corr if p < p_threshold]"
     ],
     "language": "python",
     "metadata": {},
     "outputs": [],
     "prompt_number": 295
    },
    {
     "cell_type": "code",
     "collapsed": false,
     "input": [
      "selected = Orange.data.Table(imputed.X[:, sel], imputed.Y)"
     ],
     "language": "python",
     "metadata": {},
     "outputs": [],
     "prompt_number": 296
    },
    {
     "cell_type": "code",
     "collapsed": false,
     "input": [
      "len(selected.domain.attributes)"
     ],
     "language": "python",
     "metadata": {},
     "outputs": [
      {
       "metadata": {},
       "output_type": "pyout",
       "prompt_number": 297,
       "text": [
        "248"
       ]
      }
     ],
     "prompt_number": 297
    },
    {
     "cell_type": "code",
     "collapsed": false,
     "input": [
      "sel = sorted([(abs(scipy.stats.pearsonr(selected.X[:, i], selected.Y)[0]), i) for i in range(selected.X.shape[1])], reverse=True)\n",
      "topk = Orange.data.Table(selected.X[:, [i for _, i in sel[:10]]], selected.Y)"
     ],
     "language": "python",
     "metadata": {},
     "outputs": [],
     "prompt_number": 383
    },
    {
     "cell_type": "code",
     "collapsed": false,
     "input": [
      "from Orange.regression.linear_bfgs import LinearRegressionLearner as LR\n",
      "lin = LR(lambda_=100000)\n",
      "res = Orange.evaluation.CrossValidation(topk, [lin, ridge, maj], k=5)\n",
      "Orange.evaluation.RMSE(res)"
     ],
     "language": "python",
     "metadata": {},
     "outputs": [
      {
       "metadata": {},
       "output_type": "pyout",
       "prompt_number": 375,
       "text": [
        "array([ 54.32735056,  21.815794  ,  24.75806686])"
       ]
      }
     ],
     "prompt_number": 375
    },
    {
     "cell_type": "code",
     "collapsed": false,
     "input": [
      "len(topk.domain.attributes)"
     ],
     "language": "python",
     "metadata": {},
     "outputs": [
      {
       "metadata": {},
       "output_type": "pyout",
       "prompt_number": 358,
       "text": [
        "5"
       ]
      }
     ],
     "prompt_number": 358
    },
    {
     "cell_type": "code",
     "collapsed": false,
     "input": [
      "k = 10\n",
      "X, y = imputed.X, imputed.Y\n",
      "kf = sklearn.cross_validation.KFold(len(y), n_folds=5)\n",
      "rmse = []\n",
      "for train_index, test_index in kf:\n",
      "    X_train, X_test = X[train_index], X[test_index]\n",
      "    y_train, y_test = y[train_index], y[test_index]\n",
      "    \n",
      "    scores = sorted([(abs(scipy.stats.pearsonr(X_train[:, i], y_train)[0]), i) \n",
      "                     for i in range(X_train.shape[1])], reverse=True)\n",
      "    X_sel_tr = X_train[:, [i for _, i in scores[:k]]]\n",
      "    X_sel_tst = X_test[:, [i for _, i in scores[:k]]]\n",
      "\n",
      "    lrn = sklearn.linear_model.Ridge(alpha=0.01, fit_intercept=True, solver=\"lsqr\").fit(X_sel_tr, y_train)\n",
      "    pred = lrn.predict(X_sel_tst)\n",
      "    rmse.append(np.sqrt(sum((pred - y_test)**2)/len(y_test)))\n",
      "np.mean(rmse)"
     ],
     "language": "python",
     "metadata": {},
     "outputs": [
      {
       "metadata": {},
       "output_type": "pyout",
       "prompt_number": 400,
       "text": [
        "21.56792512690236"
       ]
      }
     ],
     "prompt_number": 400
    },
    {
     "cell_type": "code",
     "collapsed": false,
     "input": [
      "res = Orange.evaluation.CrossValidation(topk, [lin, maj], k=5)\n",
      "Orange.evaluation.RMSE(res)"
     ],
     "language": "python",
     "metadata": {},
     "outputs": [
      {
       "metadata": {},
       "output_type": "pyout",
       "prompt_number": 339,
       "text": [
        "array([ 36.24188519,  24.75806686])"
       ]
      }
     ],
     "prompt_number": 339
    },
    {
     "cell_type": "code",
     "collapsed": false,
     "input": [],
     "language": "python",
     "metadata": {},
     "outputs": [
      {
       "metadata": {},
       "output_type": "pyout",
       "prompt_number": 315,
       "text": [
        "<Orange.evaluation.testing.CrossValidation at 0x11858deb8>"
       ]
      }
     ],
     "prompt_number": 315
    },
    {
     "cell_type": "code",
     "collapsed": false,
     "input": [
      "len(data)"
     ],
     "language": "python",
     "metadata": {},
     "outputs": [
      {
       "metadata": {},
       "output_type": "pyout",
       "prompt_number": 288,
       "text": [
        "14455"
       ]
      }
     ],
     "prompt_number": 288
    },
    {
     "cell_type": "code",
     "collapsed": false,
     "input": [
      "plt.hist(topk.X[:,0])"
     ],
     "language": "python",
     "metadata": {},
     "outputs": [
      {
       "metadata": {},
       "output_type": "pyout",
       "prompt_number": 379,
       "text": [
        "(array([  23.,   45.,   47.,  115.,   19.,   11.,    6.,    8.,    5.,    1.]),\n",
        " array([-1.89239465, -1.29969164, -0.70698862, -0.1142856 ,  0.47841742,\n",
        "         1.07112044,  1.66382346,  2.25652647,  2.84922949,  3.44193251,\n",
        "         4.03463553]),\n",
        " <a list of 10 Patch objects>)"
       ]
      },
      {
       "metadata": {},
       "output_type": "display_data",
       "png": "[encoded data removed]",
       "text": [
        "<matplotlib.figure.Figure at 0x11855acf8>"
       ]
      }
     ],
     "prompt_number": 379
    },
    {
     "cell_type": "code",
     "collapsed": false,
     "input": [
      "imputed.save(\"imp.tab\")"
     ],
     "language": "python",
     "metadata": {},
     "outputs": [],
     "prompt_number": 401
    },
    {
     "cell_type": "code",
     "collapsed": false,
     "input": [],
     "language": "python",
     "metadata": {},
     "outputs": []
    }
   ],
   "metadata": {}
  }
 ]
}