{
 "cells": [
  {
   "cell_type": "markdown",
   "metadata": {},
   "source": [
    "## Ocenjevanje podobnosti besedil"
   ]
  },
  {
   "cell_type": "code",
   "execution_count": 1,
   "metadata": {},
   "outputs": [],
   "source": [
    "from collections import Counter\n",
    "from itertools import combinations"
   ]
  },
  {
   "cell_type": "markdown",
   "metadata": {},
   "source": [
    "Pripravimo nekaj kratkih stavkov katerih podobnost bi želeli oceniti. Uporabimo slovar."
   ]
  },
  {
   "cell_type": "code",
   "execution_count": 14,
   "metadata": {},
   "outputs": [],
   "source": [
    "corpus = {\n",
    "    \"pahor\": \"V prvem krogu volitev je z veliko glasov zmagal sedanji predsednik Slovenije g. Pahor\",\n",
    "    \"sarec\": \"Na volitvah se je z 25 odstotki glasov slovencev bil v prvem krogu uspešen tudi g. Šarec\",\n",
    "    \"dragic\": \"Dragić je ekipo Miamija popeljal do druge zmage v košarkaškem derbiju in zadel tri trojke!\",\n",
    "    \"doncic\": \"Dončić je odlično metal za tri in ekipi Madrida s petimi trojkami pomagal k zmagi.\"\n",
    "}"
   ]
  },
  {
   "cell_type": "code",
   "execution_count": 15,
   "metadata": {},
   "outputs": [
    {
     "data": {
      "text/plain": [
       "dict_keys(['pahor', 'sarec', 'dragic', 'doncic'])"
      ]
     },
     "execution_count": 15,
     "metadata": {},
     "output_type": "execute_result"
    }
   ],
   "source": [
    "corpus.keys()"
   ]
  },
  {
   "cell_type": "markdown",
   "metadata": {},
   "source": [
    "Besedila lahko predstavimo z vsebnostjo podnizov oziroma terk. Tu nas bo zanimalo samo, ali se je določena terka pojavila v besedilu ali ne. Bolj informativna predstavitev bi bila ta, kjer bi za vsako terko poročali tudi o številu njenih pojavitev v besedilu. Začnimo z kratkim stavkom, ki ga bomo prestavili s terko, nato pa spišimo generator terk in preverimo, ali ta deluje."
   ]
  },
  {
   "cell_type": "code",
   "execution_count": 16,
   "metadata": {},
   "outputs": [],
   "source": [
    "s = \"Dončić je košarkaš.\""
   ]
  },
  {
   "cell_type": "code",
   "execution_count": 17,
   "metadata": {},
   "outputs": [],
   "source": [
    "def kmers(s, k=3):\n",
    "    for i in range(len(s)-k+1):\n",
    "        yield s[i:i+k]"
   ]
  },
  {
   "cell_type": "code",
   "execution_count": 18,
   "metadata": {},
   "outputs": [
    {
     "data": {
      "text/plain": [
       "['Don',\n",
       " 'onč',\n",
       " 'nči',\n",
       " 'čić',\n",
       " 'ić ',\n",
       " 'ć j',\n",
       " ' je',\n",
       " 'je ',\n",
       " 'e k',\n",
       " ' ko',\n",
       " 'koš',\n",
       " 'oša',\n",
       " 'šar',\n",
       " 'ark',\n",
       " 'rka',\n",
       " 'kaš',\n",
       " 'aš.']"
      ]
     },
     "execution_count": 18,
     "metadata": {},
     "output_type": "execute_result"
    }
   ],
   "source": [
    "list(kmers(s, k=3))"
   ]
  },
  {
   "cell_type": "markdown",
   "metadata": {},
   "source": [
    "Dela! Pretvorimo sedaj naš slovar besedil v slovar množice terk. Potem preverimo, katere terke so skupne besedilu o Pahorju in besedilu o Dragiću."
   ]
  },
  {
   "cell_type": "code",
   "execution_count": 30,
   "metadata": {},
   "outputs": [],
   "source": [
    "data = {key: set(kmers(corpus[key], 3)) for key in data.keys()}"
   ]
  },
  {
   "cell_type": "code",
   "execution_count": 31,
   "metadata": {},
   "outputs": [
    {
     "data": {
      "text/plain": [
       "{' je', ' zm', 'al ', 'e z', 'em ', 'je ', 'mag', 'zma'}"
      ]
     },
     "execution_count": 31,
     "metadata": {},
     "output_type": "execute_result"
    }
   ],
   "source": [
    "data[\"pahor\"] & data[\"dragic\"]"
   ]
  },
  {
   "cell_type": "markdown",
   "metadata": {},
   "source": [
    "Če bi zgoraj namesto z množico term želeli delati z slovarjem terk, kjer bi ključ bila terka vrednost pa število njenih pojavitev, bi namesto \"set\" lahko uporabili \"Counter\". A tu bomo delali z množicami. Podobnost med besedili bomo zato ocenili z številom skupnih terk, ter to število normalizirali s številom vseh terk para besedil. Tako mero podobnosti imenuje jaccardova."
   ]
  },
  {
   "cell_type": "code",
   "execution_count": 32,
   "metadata": {},
   "outputs": [],
   "source": [
    "def jaccard(k1, k2):\n",
    "    return len(data[k1] & data[k2]) / len(data[k1] | data[k2])"
   ]
  },
  {
   "cell_type": "code",
   "execution_count": 35,
   "metadata": {},
   "outputs": [
    {
     "data": {
      "text/plain": [
       "0.17391304347826086"
      ]
     },
     "execution_count": 35,
     "metadata": {},
     "output_type": "execute_result"
    }
   ],
   "source": [
    "jaccard(\"doncic\", \"dragic\")"
   ]
  },
  {
   "cell_type": "markdown",
   "metadata": {},
   "source": [
    "Čas da izpišemo vse podobnosti parov besedil in ugotovimo, ali so rezultati smiselni."
   ]
  },
  {
   "cell_type": "code",
   "execution_count": 36,
   "metadata": {},
   "outputs": [
    {
     "name": "stdout",
     "output_type": "stream",
     "text": [
      "pahor      sarec       0.24\n",
      "pahor      dragic      0.05\n",
      "pahor      doncic      0.06\n",
      "sarec      dragic      0.03\n",
      "sarec      doncic      0.02\n",
      "dragic     doncic      0.17\n"
     ]
    }
   ],
   "source": [
    "for k1, k2 in combinations(data.keys(), r=2):\n",
    "    print(\"{:10s} {:10s}  {:4.2f}\".format(k1, k2, jaccard(k1, k2)))"
   ]
  },
  {
   "cell_type": "markdown",
   "metadata": {},
   "source": [
    "Rezultati so smiselni. Fino. Zanimivo, kako tako enostavna predstavitev besedil in mera po Jaccardu dobro loči med podobnimi in različnimi besedili."
   ]
  },
  {
   "cell_type": "code",
   "execution_count": null,
   "metadata": {},
   "outputs": [],
   "source": []
  }
 ],
 "metadata": {
  "kernelspec": {
   "display_name": "Python 3",
   "language": "python",
   "name": "python3"
  },
  "language_info": {
   "codemirror_mode": {
    "name": "ipython",
    "version": 3
   },
   "file_extension": ".py",
   "mimetype": "text/x-python",
   "name": "python",
   "nbconvert_exporter": "python",
   "pygments_lexer": "ipython3",
   "version": "3.6.2"
  }
 },
 "nbformat": 4,
 "nbformat_minor": 2
}
