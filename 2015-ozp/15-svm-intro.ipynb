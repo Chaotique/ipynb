{
 "cells": [
  {
   "cell_type": "markdown",
   "metadata": {},
   "source": [
    "# Metoda podpornih vektorjev: primarna oblika"
   ]
  },
  {
   "cell_type": "markdown",
   "metadata": {},
   "source": [
    "Implementacija metode podpornih vektorjev z linearno mejno ravnino. Izhajamo iz primarnega zapisa modela. Parametre modela poiščemo z gradientnim spustom oziroma tehniko BFGS. Vse skupaj je zelo podobno logistični regresiji, razlikuje se le cenilna funkcija, ki jo optimiziramo. Implementacijo je potrebno jemati z veliko rezerve: metoda SVM je postala znana predvsem zaradi uporabe jeder in njene dualne oblike, česar v tej, spodnji implementaciji, nismo vključili."
   ]
  },
  {
   "cell_type": "code",
   "execution_count": 1,
   "metadata": {
    "collapsed": false
   },
   "outputs": [],
   "source": [
    "import numpy as np\n",
    "from matplotlib import pyplot as plt\n",
    "from sklearn import datasets\n",
    "import Orange\n",
    "from sklearn.preprocessing import StandardScaler\n",
    "from scipy.optimize import fmin_l_bfgs_b\n",
    "%matplotlib inline"
   ]
  },
  {
   "cell_type": "markdown",
   "metadata": {},
   "source": [
    "Priprava podatkov."
   ]
  },
  {
   "cell_type": "code",
   "execution_count": 2,
   "metadata": {
    "collapsed": false
   },
   "outputs": [
    {
     "data": {
      "image/png": "[encoded data removed]",
      "text/plain": [
       "<matplotlib.figure.Figure at 0x10f5bb4a8>"
      ]
     },
     "metadata": {},
     "output_type": "display_data"
    }
   ],
   "source": [
    "colors = np.array(['b', 'y'])\n",
    "X, y = datasets.make_blobs(n_samples=100, centers=[[0, 2], [1, 1]], cluster_std=0.7)\n",
    "data = Orange.data.Table(X, y)\n",
    "plt.scatter(X[:, 0], X[:, 1], color=colors[y], s=20);"
   ]
  },
  {
   "cell_type": "markdown",
   "metadata": {},
   "source": [
    "Implementacija, skladna z klasifikatorjem v okolju Orange."
   ]
  },
  {
   "cell_type": "code",
   "execution_count": 3,
   "metadata": {
    "collapsed": false
   },
   "outputs": [],
   "source": [
    "def add_ones(X):\n",
    "    return np.column_stack((np.ones(len(X)), X))\n",
    "    \n",
    "class SVMLearner(Orange.classification.Learner):\n",
    "    def __init__(self, C=1):\n",
    "        super().__init__()\n",
    "        self.C = C\n",
    "        self.name = \"svm\"\n",
    "        \n",
    "    def J_grad(self, thetas):\n",
    "        z = self.y * self.X.dot(thetas)\n",
    "        J = self.C * np.sum(np.maximum(0, 1 - z)) + np.sum(thetas**2)/2\n",
    "        grad = thetas + self.C * np.sum(self.yx[z<1], axis=0)  \n",
    "        return J, grad\n",
    "\n",
    "    def J(self, thetas):\n",
    "        return self.C * np.sum(np.maximum(0, 1 - self.y * self.X.dot(thetas))) + np.sum(thetas**2)/2\n",
    "\n",
    "    def grad_approx(self, thetas, e=1e-1):\n",
    "        return np.array([(self.J(thetas+eps) - self.J(thetas-eps))/(2*e)\n",
    "                         for eps in np.identity(len(thetas)) * e])\n",
    "\n",
    "    def grad(self, thetas):\n",
    "        z = self.y * self.X.dot(thetas)\n",
    "        return thetas + self.C * np.sum(self.yx[z<1], axis=0)\n",
    "\n",
    "    def fit_storage(self, data):\n",
    "        self.X, y = add_ones(data.X), np.copy(data.Y)\n",
    "        self.scaler = StandardScaler().fit(self.X)\n",
    "        self.X = self.scaler.transform(self.X)\n",
    "        self.y = (y-0.5) * 2\n",
    "        self.yx = - self.y[:, None] * self.X\n",
    "        thetas = np.random.rand(self.X.shape[1]) * 0.01\n",
    "        \n",
    "        thetas, fmin, info = fmin_l_bfgs_b(self.J_grad, thetas)\n",
    "\n",
    "        self.info = info\n",
    "        self.thetas = thetas\n",
    "        return SVMModel(thetas, self.scaler)\n",
    "\n",
    "    def grad_test(self):\n",
    "        self.X, self.y = datasets.make_blobs(n_samples=100, centers=[[0, -4], [1, 1]], cluster_std=0.7)\n",
    "        thetas = np.random.rand(self.X.shape[1]) * 0.01\n",
    "        self.yx = - self.y[:, None] * self.X\n",
    "        print(self.grad_approx(thetas))\n",
    "        print(self.grad(thetas))\n",
    "\n",
    "class SVMModel(Orange.classification.Model):\n",
    "    \"\"\"Classifier for gradient boosting.\"\"\"\n",
    "    def __init__(self, thetas, scaler):\n",
    "        self.thetas = thetas\n",
    "        self.scaler = scaler\n",
    "    \n",
    "    def predict(self, X):\n",
    "        \"\"\"Given a data instance or table of data instances returns predicted class.\"\"\"\n",
    "        X = scaler.transform(add_ones(X))\n",
    "        return 0"
   ]
  },
  {
   "cell_type": "markdown",
   "metadata": {},
   "source": [
    "Test in izris odločitvene meje. Slednji je preprost, saj z implementirano tehniko neposredno poiščemo njeno normalo in sečišče osi y."
   ]
  },
  {
   "cell_type": "code",
   "execution_count": 4,
   "metadata": {
    "collapsed": false
   },
   "outputs": [
    {
     "data": {
      "text/plain": [
       "array([ 0.00379885,  0.81599527, -0.87174073])"
      ]
     },
     "execution_count": 4,
     "metadata": {},
     "output_type": "execute_result"
    }
   ],
   "source": [
    "svm = SVMLearner(C=0.1)\n",
    "x = svm(data)\n",
    "x.thetas"
   ]
  },
  {
   "cell_type": "code",
   "execution_count": 5,
   "metadata": {
    "collapsed": false
   },
   "outputs": [
    {
     "data": {
      "image/png": "[encoded data removed]",
      "text/plain": [
       "<matplotlib.figure.Figure at 0x111795ba8>"
      ]
     },
     "metadata": {},
     "output_type": "display_data"
    }
   ],
   "source": [
    "X = svm.X\n",
    "y = svm.y\n",
    "plt.scatter(X[:, 1], X[:, 2], color=colors[((y+1)/2).astype(int)], s=20, alpha=0.7)\n",
    "x1 = np.array([-2, 2])\n",
    "x2 = (-svm.thetas[0] - svm.thetas[1] * x1) / svm.thetas[2]\n",
    "plt.plot(x1, x2, c=\"k\");"
   ]
  }
 ],
 "metadata": {
  "kernelspec": {
   "display_name": "Python 3",
   "language": "python",
   "name": "python3"
  },
  "language_info": {
   "codemirror_mode": {
    "name": "ipython",
    "version": 3
   },
   "file_extension": ".py",
   "mimetype": "text/x-python",
   "name": "python",
   "nbconvert_exporter": "python",
   "pygments_lexer": "ipython3",
   "version": "3.4.1"
  }
 },
 "nbformat": 4,
 "nbformat_minor": 0
}
