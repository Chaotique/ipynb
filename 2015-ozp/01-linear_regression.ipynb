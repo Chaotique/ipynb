{
 "metadata": {
  "name": "",
  "signature": "sha256:3d75a276bf5090ed048145ba2bc29ed93782a5302ed85379a2a21c51f83f5acc"
 },
 "nbformat": 3,
 "nbformat_minor": 0,
 "worksheets": [
  {
   "cells": [
    {
     "cell_type": "code",
     "collapsed": false,
     "input": [
      "import numpy as np\n",
      "from matplotlib import pyplot as plt\n",
      "%matplotlib inline"
     ],
     "language": "python",
     "metadata": {},
     "outputs": [],
     "prompt_number": 1
    },
    {
     "cell_type": "heading",
     "level": 1,
     "metadata": {},
     "source": [
      "Create Some Data"
     ]
    },
    {
     "cell_type": "code",
     "collapsed": false,
     "input": [
      "np.random.seed(42)\n",
      "x = np.random.random_sample(10)\n",
      "y = 1 - (x-0.5)**2 + np.random.normal(0, 0.1, len(x))"
     ],
     "language": "python",
     "metadata": {},
     "outputs": [],
     "prompt_number": 2
    },
    {
     "cell_type": "code",
     "collapsed": false,
     "input": [
      "plt.plot(x, y, \"o\");"
     ],
     "language": "python",
     "metadata": {},
     "outputs": [
      {
       "metadata": {},
       "output_type": "display_data",
       "png": "[encoded data removed]",
       "text": [
        "<matplotlib.figure.Figure at 0x103da47b8>"
       ]
      }
     ],
     "prompt_number": 3
    },
    {
     "cell_type": "code",
     "collapsed": false,
     "input": [
      "X = np.column_stack((np.ones(len(x)), x))"
     ],
     "language": "python",
     "metadata": {},
     "outputs": [],
     "prompt_number": 4
    },
    {
     "cell_type": "code",
     "collapsed": false,
     "input": [
      "X"
     ],
     "language": "python",
     "metadata": {},
     "outputs": [
      {
       "metadata": {},
       "output_type": "pyout",
       "prompt_number": 5,
       "text": [
        "array([[ 1.        ,  0.37454012],\n",
        "       [ 1.        ,  0.95071431],\n",
        "       [ 1.        ,  0.73199394],\n",
        "       [ 1.        ,  0.59865848],\n",
        "       [ 1.        ,  0.15601864],\n",
        "       [ 1.        ,  0.15599452],\n",
        "       [ 1.        ,  0.05808361],\n",
        "       [ 1.        ,  0.86617615],\n",
        "       [ 1.        ,  0.60111501],\n",
        "       [ 1.        ,  0.70807258]])"
       ]
      }
     ],
     "prompt_number": 5
    },
    {
     "cell_type": "heading",
     "level": 1,
     "metadata": {},
     "source": [
      "Linear Regression"
     ]
    },
    {
     "cell_type": "code",
     "collapsed": false,
     "input": [
      "def gradient_descent(X, y, alpha=0.01, epochs=1000):\n",
      "    \"\"\"For a matrix x and vector y return a linear regression model.\"\"\"\n",
      "    theta = np.zeros(X.shape[1]).T\n",
      "    for i in range(epochs):\n",
      "        theta = theta - alpha * (X.dot(theta) - y).dot(X)\n",
      "    return theta"
     ],
     "language": "python",
     "metadata": {},
     "outputs": [],
     "prompt_number": 6
    },
    {
     "cell_type": "code",
     "collapsed": false,
     "input": [
      "theta = gradient_descent(X, y)"
     ],
     "language": "python",
     "metadata": {},
     "outputs": [],
     "prompt_number": 7
    },
    {
     "cell_type": "code",
     "collapsed": false,
     "input": [
      "%matplotlib inline\n",
      "mm = np.array([min(X[:, 1]), max(X[:, 1])])\n",
      "Xmm = np.column_stack((np.ones(len(mm)), mm))\n",
      "plt.plot(x, y, \"o\");\n",
      "plt.plot(Xmm, Xmm.dot(theta));"
     ],
     "language": "python",
     "metadata": {},
     "outputs": [
      {
       "metadata": {},
       "output_type": "display_data",
       "png": "[encoded data removed]",
       "text": [
        "<matplotlib.figure.Figure at 0x103eedfd0>"
       ]
      }
     ],
     "prompt_number": 8
    },
    {
     "cell_type": "code",
     "collapsed": false,
     "input": [
      "%pylab osx\n",
      "def traced_gradient_descent(X, y, alpha=0.01, epochs=1000):\n",
      "    \"\"\"For a matrix x and vector y return a linear regression model.\"\"\"\n",
      "    theta = np.zeros(X.shape[1]).T\n",
      "    for i in range(epochs):\n",
      "        theta = theta - alpha * (X.dot(theta) - y).dot(X)\n",
      "        mm = np.array([min(X[:, 1]), max(X[:, 1])])\n",
      "        Xmm = np.column_stack((np.ones(len(mm)), mm))\n",
      "        plt.close()\n",
      "        plt.plot(x, y, \"o\");\n",
      "        plt.plot(xmm, Xmm.dot(theta))\n",
      "        plt.savefig(\"tmp/%03d.png\" % i)\n",
      "    return theta\n",
      "%matplotlib inline"
     ],
     "language": "python",
     "metadata": {},
     "outputs": [
      {
       "output_type": "stream",
       "stream": "stdout",
       "text": [
        "Populating the interactive namespace from numpy and matplotlib\n"
       ]
      }
     ],
     "prompt_number": 9
    },
    {
     "cell_type": "heading",
     "level": 1,
     "metadata": {},
     "source": [
      "Exact Solution"
     ]
    },
    {
     "cell_type": "code",
     "collapsed": false,
     "input": [
      "def analytical(X, y):\n",
      "    return numpy.linalg.inv(X.T.dot(X)).dot(X.T.dot(y))"
     ],
     "language": "python",
     "metadata": {},
     "outputs": [],
     "prompt_number": 10
    },
    {
     "cell_type": "heading",
     "level": 1,
     "metadata": {},
     "source": [
      "Polynomial Regression"
     ]
    },
    {
     "cell_type": "code",
     "collapsed": false,
     "input": [
      "def poly_expand(X, k=9):\n",
      "    for _ in range(k-1):\n",
      "        X = np.hstack((X, np.multiply(X[:, 1], X[:, -1]).reshape(len(X), 1)))\n",
      "    return X"
     ],
     "language": "python",
     "metadata": {},
     "outputs": [],
     "prompt_number": 11
    },
    {
     "cell_type": "code",
     "collapsed": false,
     "input": [
      "poly_degree = 7\n",
      "Z = poly_expand(X, poly_degree)\n",
      "theta = analytical(Z, y)"
     ],
     "language": "python",
     "metadata": {},
     "outputs": [],
     "prompt_number": 12
    },
    {
     "cell_type": "code",
     "collapsed": false,
     "input": [
      "plt.plot(Z[:, 1], y, \"o\")\n",
      "xmin, xmax = Z[:, 1].min(), Z[:, 1].max()\n",
      "x_e = np.arange(xmin, xmax, (xmax-xmin)/100.)\n",
      "x_e = np.vstack((np.ones(len(x_e)), x_e)).T\n",
      "x_e = poly_expand(x_e, poly_degree)\n",
      "plt.plot(x_e[:, 1], x_e.dot(theta));"
     ],
     "language": "python",
     "metadata": {},
     "outputs": [
      {
       "metadata": {},
       "output_type": "display_data",
       "png": "[encoded data removed]",
       "text": [
        "<matplotlib.figure.Figure at 0x103f89518>"
       ]
      }
     ],
     "prompt_number": 13
    },
    {
     "cell_type": "code",
     "collapsed": false,
     "input": [
      "theta"
     ],
     "language": "python",
     "metadata": {},
     "outputs": [
      {
       "metadata": {},
       "output_type": "pyout",
       "prompt_number": 14,
       "text": [
        "array([  8.16367802e+00,  -2.39058280e+02,   2.45538574e+03,\n",
        "        -1.13030795e+04,   2.69855591e+04,  -3.48087313e+04,\n",
        "         2.30411548e+04,  -6.14050687e+03])"
       ]
      }
     ],
     "prompt_number": 14
    },
    {
     "cell_type": "heading",
     "level": 1,
     "metadata": {},
     "source": [
      "Regularization"
     ]
    },
    {
     "cell_type": "code",
     "collapsed": false,
     "input": [
      "def regularized(X, y, r=0.1):\n",
      "    L = np.eye(X.shape[1]) * r\n",
      "    L[0] = 0\n",
      "    return numpy.linalg.pinv(X.T.dot(X) + L).dot(X.T.dot(y))"
     ],
     "language": "python",
     "metadata": {},
     "outputs": [],
     "prompt_number": 15
    },
    {
     "cell_type": "code",
     "collapsed": false,
     "input": [
      "poly_degree = 9\n",
      "Z = poly_expand(X, poly_degree)\n",
      "theta = regularized(Z, y, r=0.01)\n",
      "theta"
     ],
     "language": "python",
     "metadata": {},
     "outputs": [
      {
       "metadata": {},
       "output_type": "pyout",
       "prompt_number": 16,
       "text": [
        "array([ 0.66666565,  0.70289269, -0.1217962 , -0.28924435, -0.24671833,\n",
        "       -0.15534204, -0.05860226,  0.03240896,  0.11507416,  0.18886789])"
       ]
      }
     ],
     "prompt_number": 16
    },
    {
     "cell_type": "code",
     "collapsed": false,
     "input": [
      "plt.plot(Z[:, 1], y, \"o\")\n",
      "xmin, xmax = Z[:, 1].min(), Z[:, 1].max()\n",
      "x_e = np.arange(xmin, xmax, (xmax-xmin)/100.)\n",
      "x_e = np.vstack((np.ones(len(x_e)), x_e)).T\n",
      "x_e = poly_expand(x_e, poly_degree)\n",
      "plt.plot(x_e[:, 1], x_e.dot(theta));"
     ],
     "language": "python",
     "metadata": {},
     "outputs": [
      {
       "metadata": {},
       "output_type": "display_data",
       "png": "[encoded data removed]",
       "text": [
        "<matplotlib.figure.Figure at 0x10405d3c8>"
       ]
      }
     ],
     "prompt_number": 17
    }
   ],
   "metadata": {}
  }
 ]
}