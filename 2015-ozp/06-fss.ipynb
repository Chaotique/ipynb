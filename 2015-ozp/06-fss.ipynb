{
 "metadata": {
  "name": "",
  "signature": "sha256:f000409ddd29818a27030626589fe8f82adb911474fb71212c75f0b9febb0db4"
 },
 "nbformat": 3,
 "nbformat_minor": 0,
 "worksheets": [
  {
   "cells": [
    {
     "cell_type": "heading",
     "level": 1,
     "metadata": {},
     "source": [
      "Izbor zna\u010dilk (angl. shrinkage and feature subset selection)"
     ]
    },
    {
     "cell_type": "code",
     "collapsed": false,
     "input": [
      "import numpy as np\n",
      "import Orange\n",
      "from matplotlib import pyplot as plt\n",
      "from scipy.stats.stats import pearsonr\n",
      "from sklearn import preprocessing\n",
      "%matplotlib inline"
     ],
     "language": "python",
     "metadata": {},
     "outputs": [],
     "prompt_number": 1
    },
    {
     "cell_type": "heading",
     "level": 2,
     "metadata": {},
     "source": [
      "Podatki"
     ]
    },
    {
     "cell_type": "code",
     "collapsed": false,
     "input": [
      "data = Orange.data.Table(\"imp.tab\")\n",
      "print(data.domain.class_var)"
     ],
     "language": "python",
     "metadata": {},
     "outputs": [
      {
       "output_type": "stream",
       "stream": "stdout",
       "text": [
        "INTENSITY/STRENGTH\n"
       ]
      }
     ],
     "prompt_number": 2
    },
    {
     "cell_type": "code",
     "collapsed": false,
     "input": [
      "plt.hist(data.Y);"
     ],
     "language": "python",
     "metadata": {},
     "outputs": [
      {
       "metadata": {},
       "output_type": "display_data",
       "png": "[encoded data removed]",
       "text": [
        "<matplotlib.figure.Figure at 0x1087d3240>"
       ]
      }
     ],
     "prompt_number": 3
    },
    {
     "cell_type": "code",
     "collapsed": false,
     "input": [
      "data.domain.class_var"
     ],
     "language": "python",
     "metadata": {},
     "outputs": [
      {
       "metadata": {},
       "output_type": "pyout",
       "prompt_number": 4,
       "text": [
        "ContinuousVariable('INTENSITY/STRENGTH')"
       ]
      }
     ],
     "prompt_number": 4
    },
    {
     "cell_type": "heading",
     "level": 2,
     "metadata": {},
     "source": [
      "Primerjava razli\u010dnih tehnik regresije"
     ]
    },
    {
     "cell_type": "code",
     "collapsed": false,
     "input": [
      "lr = Orange.regression.LinearRegressionLearner()\n",
      "mean = Orange.regression.MeanLearner()\n",
      "ridge = Orange.regression.RidgeRegressionLearner(alpha = 10)\n",
      "lasso = Orange.regression.LassoRegressionLearner(alpha = 1)\n",
      "elastic = Orange.regression.ElasticNetLearner()\n",
      "elasticCV = Orange.regression.ElasticNetCVLearner()\n",
      "forest = Orange.classification.SimpleRandomForestLearner(n_estimators=10)"
     ],
     "language": "python",
     "metadata": {},
     "outputs": [],
     "prompt_number": 5
    },
    {
     "cell_type": "code",
     "collapsed": false,
     "input": [
      "np.random.seed(42)\n",
      "learners = [mean, ridge, lasso]\n",
      "res = Orange.evaluation.CrossValidation(data, learners, k=5)\n",
      "Orange.evaluation.RMSE(res)"
     ],
     "language": "python",
     "metadata": {},
     "outputs": [
      {
       "metadata": {},
       "output_type": "pyout",
       "prompt_number": 6,
       "text": [
        "array([ 24.75862269,  28.12171263,  19.63513677])"
       ]
      }
     ],
     "prompt_number": 6
    },
    {
     "cell_type": "code",
     "collapsed": false,
     "input": [
      "X = data.X[:, np.min(data.X, axis=0) != np.max(data.X, axis=0)]\n",
      "X.shape"
     ],
     "language": "python",
     "metadata": {},
     "outputs": [
      {
       "metadata": {},
       "output_type": "pyout",
       "prompt_number": 7,
       "text": [
        "(280, 3012)"
       ]
      }
     ],
     "prompt_number": 7
    },
    {
     "cell_type": "heading",
     "level": 2,
     "metadata": {},
     "source": [
      "Ocenjevanje atributov in permutacijski test"
     ]
    },
    {
     "cell_type": "code",
     "collapsed": false,
     "input": [
      "pc = [np.abs(pearsonr(X[:, i], data.Y)[0]) for i in range(X.shape[1])]\n",
      "plt.hist(pc, 50, color=\"yellow\", normed=True);"
     ],
     "language": "python",
     "metadata": {},
     "outputs": [
      {
       "metadata": {},
       "output_type": "display_data",
       "png": "[encoded data removed]",
       "text": [
        "<matplotlib.figure.Figure at 0x10df36128>"
       ]
      }
     ],
     "prompt_number": 8
    },
    {
     "cell_type": "code",
     "collapsed": false,
     "input": [
      "y = np.copy(data.Y)\n",
      "np.random.seed(42)\n",
      "pc_null = []\n",
      "for i in range(5):\n",
      "    np.random.shuffle(y)\n",
      "    pc_null.extend([np.abs(pearsonr(X[:, i], y)[0]) for i in range(X.shape[1])])\n",
      "plt.hist(pc_null, 50, color=\"yellow\", normed=True);"
     ],
     "language": "python",
     "metadata": {},
     "outputs": [
      {
       "metadata": {},
       "output_type": "display_data",
       "png": "[encoded data removed]",
       "text": [
        "<matplotlib.figure.Figure at 0x10fd2f9e8>"
       ]
      }
     ],
     "prompt_number": 9
    },
    {
     "cell_type": "code",
     "collapsed": false,
     "input": [
      "plt.hist(pc, 50, color=\"yellow\", normed=True);\n",
      "plt.hist(pc_null, 50, color=\"blue\", normed=True, histtype = 'step', lw=3);\n",
      "p = 0.01\n",
      "threshold = np.sort(pc_null)[(1-p)*len(pc_null)]\n",
      "plt.vlines(threshold, plt.ylim()[0], plt.ylim()[1], lw=3, color=\"k\");"
     ],
     "language": "python",
     "metadata": {},
     "outputs": [
      {
       "metadata": {},
       "output_type": "display_data",
       "png": "[encoded data removed]",
       "text": [
        "<matplotlib.figure.Figure at 0x10ff7af98>"
       ]
      }
     ],
     "prompt_number": 10
    },
    {
     "cell_type": "code",
     "collapsed": false,
     "input": [
      "XF = X[:, pc > threshold]"
     ],
     "language": "python",
     "metadata": {},
     "outputs": [],
     "prompt_number": 11
    },
    {
     "cell_type": "code",
     "collapsed": false,
     "input": [
      "filtered = Orange.data.Table(XF, data.Y)"
     ],
     "language": "python",
     "metadata": {},
     "outputs": [],
     "prompt_number": 12
    },
    {
     "cell_type": "code",
     "collapsed": false,
     "input": [
      "learners = [mean, lr, ridge, lasso, elastic, forest]\n",
      "res = Orange.evaluation.CrossValidation(filtered, learners, k=5)\n",
      "rmse = Orange.evaluation.RMSE(res)\n",
      "print(\"\\n\".join(\"%10s %5.3f\" % (lrn.name, r) for lrn, r in zip(learners, rmse)))"
     ],
     "language": "python",
     "metadata": {},
     "outputs": [
      {
       "output_type": "stream",
       "stream": "stdout",
       "text": [
        "      mean 24.759\n",
        "    linreg 38.443\n",
        "     ridge 26.848\n",
        "     lasso 19.389\n",
        "   elastic 19.040\n",
        " simple rf 19.404\n"
       ]
      }
     ],
     "prompt_number": 13
    },
    {
     "cell_type": "heading",
     "level": 2,
     "metadata": {},
     "source": [
      "Razredi za izbor zna\u010dilk"
     ]
    },
    {
     "cell_type": "code",
     "collapsed": false,
     "input": [
      "class RemoveConstant(Orange.preprocess.preprocess.Preprocess):\n",
      "    def __call__(self, data):\n",
      "        oks = np.min(data.X, axis=0) != np.max(data.X, axis=0)\n",
      "        atts = [data.domain.attributes[i] for i, ok in enumerate(oks) if ok]\n",
      "        domain = Orange.data.Domain(atts, data.domain.class_vars, data.domain.metas)\n",
      "        return Orange.data.Table(domain, data)"
     ],
     "language": "python",
     "metadata": {},
     "outputs": [],
     "prompt_number": 14
    },
    {
     "cell_type": "code",
     "collapsed": false,
     "input": [
      "remove_constant_attributes = RemoveConstant()\n",
      "pdata = remove_constant_attributes(data)\n",
      "len(pdata.domain.attributes)"
     ],
     "language": "python",
     "metadata": {},
     "outputs": [
      {
       "metadata": {},
       "output_type": "pyout",
       "prompt_number": 15,
       "text": [
        "3012"
       ]
      }
     ],
     "prompt_number": 15
    },
    {
     "cell_type": "code",
     "collapsed": false,
     "input": [
      "class SelectByPermutationTest:\n",
      "    def __init__(self, p=0.01, measure=lambda x, y: np.abs(pearsonr(x, y)), n_permutations=1):\n",
      "        self.__dict__ = vars()\n",
      "        \n",
      "    def __call__(self, data):\n",
      "        y = np.copy(data.Y)\n",
      "        X = data.X\n",
      "        null = []\n",
      "        for i in range(self.n_permutations):\n",
      "            np.random.shuffle(y)\n",
      "            null.extend([self.measure(X[:, i], y)[0] for i in range(X.shape[1])])\n",
      "\n",
      "        ss = np.sort(null)\n",
      "        index = int((1-self.p)*len(null))\n",
      "        threshold = ss[index]\n",
      "\n",
      "        scores = [self.measure(X[:, i], data.Y)[0] for i in range(X.shape[1])]\n",
      "        atts = [att for score, att in zip(scores, data.domain.attributes) if score > threshold]\n",
      "        domain = Orange.data.Domain(atts, data.domain.class_vars, data.domain.metas)\n",
      "        return Orange.data.Table(domain, data)"
     ],
     "language": "python",
     "metadata": {},
     "outputs": [],
     "prompt_number": 16
    },
    {
     "cell_type": "code",
     "collapsed": false,
     "input": [
      "rc = RemoveConstant()\n",
      "fss = SelectByPermutationTest(p=0.005)\n",
      "rc_data = rc(data)\n",
      "fss_data = fss(rc_data)"
     ],
     "language": "python",
     "metadata": {},
     "outputs": [],
     "prompt_number": 17
    },
    {
     "cell_type": "raw",
     "metadata": {},
     "source": [
      "Test delovanja"
     ]
    },
    {
     "cell_type": "code",
     "collapsed": false,
     "input": [
      "np.random.seed(42)\n",
      "select_by_permutations = SelectByPermutationTest(p=0.01)\n",
      "fss_data = select_by_permutations(pdata)"
     ],
     "language": "python",
     "metadata": {},
     "outputs": [],
     "prompt_number": 18
    },
    {
     "cell_type": "code",
     "collapsed": false,
     "input": [
      "len(fss_data.domain.attributes), len(pdata.domain.attributes), len(data.domain.attributes)"
     ],
     "language": "python",
     "metadata": {},
     "outputs": [
      {
       "metadata": {},
       "output_type": "pyout",
       "prompt_number": 19,
       "text": [
        "(1422, 3012, 4869)"
       ]
      }
     ],
     "prompt_number": 19
    },
    {
     "cell_type": "heading",
     "level": 2,
     "metadata": {},
     "source": [
      "Napa\u010dna uporaba izbora zna\u010dilk"
     ]
    },
    {
     "cell_type": "markdown",
     "metadata": {},
     "source": [
      "Pre\u010dno preverjanje lahko po\u017eenemo na predprocesiranih podatkih. Ali pa\u010d ne?"
     ]
    },
    {
     "cell_type": "code",
     "collapsed": false,
     "input": [
      "elastic = Orange.regression.ElasticNetLearner()"
     ],
     "language": "python",
     "metadata": {},
     "outputs": [],
     "prompt_number": 20
    },
    {
     "cell_type": "code",
     "collapsed": false,
     "input": [
      "res = Orange.evaluation.CrossValidation(fss_data, [ridge])\n",
      "Orange.evaluation.RMSE(res)"
     ],
     "language": "python",
     "metadata": {},
     "outputs": [
      {
       "metadata": {},
       "output_type": "pyout",
       "prompt_number": 21,
       "text": [
        "array([ 24.86436154])"
       ]
      }
     ],
     "prompt_number": 21
    },
    {
     "cell_type": "markdown",
     "metadata": {},
     "source": [
      "Rezultat se nekoliko izbolj\u0161a. Smo pa pri predprocesiranju obdelali tako u\u010dne kot testne podatke, oziroma podatke, ki so bili v pre\u010dnem prevejanju uporabljeni kot testni. Pri tem smo goljufali in se odlo\u010dali na podlagi vrednosti razreda, ki ga sicer pri testnih podatkih nimamo. Ocena to\u010dnosti je torej preoptimisti\u010dna."
     ]
    },
    {
     "cell_type": "heading",
     "level": 2,
     "metadata": {},
     "source": [
      "Pravilna uporaba (izbor zna\u010dilk znotraj pre\u010dnega preverjanja)"
     ]
    },
    {
     "cell_type": "code",
     "collapsed": false,
     "input": [
      "elastic_fss = Orange.regression.ElasticNetLearner()\n",
      "elastic_fss.preprocessors.extend([remove_constant_attributes, select_by_permutations])\n",
      "res = Orange.evaluation.CrossValidation(data, [elastic, elastic_fss], k=5)\n",
      "Orange.evaluation.RMSE(res)"
     ],
     "language": "python",
     "metadata": {},
     "outputs": [
      {
       "metadata": {},
       "output_type": "pyout",
       "prompt_number": 22,
       "text": [
        "array([ 19.36593621,  19.32480041])"
       ]
      }
     ],
     "prompt_number": 22
    },
    {
     "cell_type": "heading",
     "level": 2,
     "metadata": {},
     "source": [
      "Nekoliko \u010duden eksperiment"
     ]
    },
    {
     "cell_type": "markdown",
     "metadata": {},
     "source": [
      "Regresorje bomo ocenjevali na naklju\u010dnih podatkih. Pred pre\u010dnim preverjanjem bomo iz podatkov izbrali samo z razredom najbolj korelirane zna\u010dilke. Pre\u010dno preverjanje bomo torej pognali na podatkih z izbranimi zna\u010dilkami."
     ]
    },
    {
     "cell_type": "code",
     "collapsed": false,
     "input": [
      "n, m = 20, 1000\n",
      "X = np.random.rand(n, m)\n",
      "X = preprocessing.scale(X, axis=0)\n",
      "Y = np.random.random(n)"
     ],
     "language": "python",
     "metadata": {},
     "outputs": [],
     "prompt_number": 23
    },
    {
     "cell_type": "code",
     "collapsed": false,
     "input": [
      "random_data = Orange.data.Table(X, Y)"
     ],
     "language": "python",
     "metadata": {},
     "outputs": [],
     "prompt_number": 24
    },
    {
     "cell_type": "code",
     "collapsed": false,
     "input": [
      "mean = Orange.regression.MeanLearner()\n",
      "ridge = Orange.regression.RidgeRegressionLearner(alpha = 10)"
     ],
     "language": "python",
     "metadata": {},
     "outputs": [],
     "prompt_number": 35
    },
    {
     "cell_type": "markdown",
     "metadata": {},
     "source": [
      "Pre\u010dno preverjanje na naklju\u010dnih podatkih da rezultate, ki so podobne napovedi s povpre\u010dno vrednostjo na u\u010dni mno\u017eici"
     ]
    },
    {
     "cell_type": "code",
     "collapsed": false,
     "input": [
      "res = Orange.evaluation.CrossValidation(random_data, learners, k=3)\n",
      "Orange.evaluation.RMSE(res)"
     ],
     "language": "python",
     "metadata": {},
     "outputs": [
      {
       "metadata": {},
       "output_type": "pyout",
       "prompt_number": 36,
       "text": [
        "array([ 0.38667815,  0.39490426])"
       ]
      }
     ],
     "prompt_number": 36
    },
    {
     "cell_type": "markdown",
     "metadata": {},
     "source": [
      "Iz podatkov zberemo zna\u010dilke. Pri $p=0.01$ bi teh moralo biti pribli\u017eno $m\\times p$"
     ]
    },
    {
     "cell_type": "code",
     "collapsed": false,
     "input": [
      "np.random.seed(42)\n",
      "select_by_permutations = SelectByPermutationTest(p=0.01)\n",
      "rnd_fss = select_by_permutations(remove_constant_attributes(random_data))\n",
      "len(rnd_fss.domain.attributes)"
     ],
     "language": "python",
     "metadata": {},
     "outputs": [
      {
       "metadata": {},
       "output_type": "pyout",
       "prompt_number": 43,
       "text": [
        "11"
       ]
      }
     ],
     "prompt_number": 43
    },
    {
     "cell_type": "markdown",
     "metadata": {},
     "source": [
      "In sedaj test: zakaj je napaka na naklju\u010dnih podatkih, iz katerih smo izbrali najbolj informativne zna\u010dilke, sedaj tako nizka?"
     ]
    },
    {
     "cell_type": "code",
     "collapsed": false,
     "input": [
      "res = Orange.evaluation.CrossValidation(rnd_fss, [mean, ridge], k=5)\n",
      "Orange.evaluation.RMSE(res)"
     ],
     "language": "python",
     "metadata": {},
     "outputs": [
      {
       "metadata": {},
       "output_type": "pyout",
       "prompt_number": 38,
       "text": [
        "array([ 0.35156914,  0.17616507])"
       ]
      }
     ],
     "prompt_number": 38
    },
    {
     "cell_type": "heading",
     "level": 2,
     "metadata": {},
     "source": [
      "Pravilna uporaba izbora zna\u010dilk in pre\u010dnega preverjanja"
     ]
    },
    {
     "cell_type": "code",
     "collapsed": false,
     "input": [
      "ridge_fss = Orange.regression.RidgeRegressionLearner()\n",
      "ridge_fss.preprocessors.extend([remove_constant_attributes, select_by_permutations])\n",
      "res = Orange.evaluation.CrossValidation(random_data, [mean, ridge, ridge_fss], k=5)\n",
      "Orange.evaluation.RMSE(res)"
     ],
     "language": "python",
     "metadata": {},
     "outputs": [
      {
       "metadata": {},
       "output_type": "pyout",
       "prompt_number": 39,
       "text": [
        "array([ 0.35156914,  0.42746937,  0.4496296 ])"
       ]
      }
     ],
     "prompt_number": 39
    },
    {
     "cell_type": "markdown",
     "metadata": {},
     "source": [
      "Rezultati so tu o\u010ditno druga\u010dni kot zgoraj, (pravilni) izbor zna\u010dilk na u\u010dnih podatkih pa pri napovedih na testnih podatkih ne pomaga"
     ]
    }
   ],
   "metadata": {}
  }
 ]
}