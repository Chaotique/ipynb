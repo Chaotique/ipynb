{
 "cells": [
  {
   "cell_type": "markdown",
   "metadata": {
    "deletable": true,
    "editable": true
   },
   "source": [
    "Ocenjevanje in tehnike izbora značilk\n",
    "==="
   ]
  },
  {
   "cell_type": "code",
   "execution_count": 1,
   "metadata": {
    "collapsed": true,
    "deletable": true,
    "editable": true
   },
   "outputs": [],
   "source": [
    "import Orange\n",
    "import numpy as np\n",
    "import matplotlib.pyplot as plt\n",
    "import bisect\n",
    "from scipy import stats\n",
    "from operator import itemgetter\n",
    "from Orange.preprocess.preprocess import Preprocess\n",
    "%matplotlib inline"
   ]
  },
  {
   "cell_type": "markdown",
   "metadata": {
    "deletable": true,
    "editable": true
   },
   "source": [
    "Podatki\n",
    "---\n",
    "V tem zapisu raziskujemo, ali ima kajenje sploh kakšne posledice. Recimo, na [limfocite](https://sl.wikipedia.org/wiki/Limfocit), to je na vrsto belih krvnih telesc. Še najbolj sistematično bomo posledice opazovali tako, da pogledamo, kaj se dogaja v celicah limfocitov, in to tako, da opazujemo, ali je pri celicah kadilcev kakšna razlika med izražanjem vseh genov, torej med tem, koliko so geni aktivni pri proizvajanju proteinov (še bolj direktno bi bilo, da bi zmerili, koliko je posameznih proteinov v celicah, a je ta tehnologija dražja in manj dostopna). Ok, tule nas je morda malce zaneslo pri domeni, ampak na koncu bo enostavno. Imamo primere (ženske kadilke ali nekadilke) in meritve izražanj genov v njihovih limfocitih (atributi). Uporabimo podatke, ki so prosto na voljo na spletu v bazi [GEO](https://www.ncbi.nlm.nih.gov/sites/GDSbrowser?acc=GDS3713). Da bo zadeva potekala hitreje, spodaj delamo na podatkih, kjer smo naključno izbrali 1000 značilk."
   ]
  },
  {
   "cell_type": "code",
   "execution_count": 2,
   "metadata": {
    "collapsed": false,
    "deletable": true,
    "editable": true
   },
   "outputs": [
    {
     "name": "stdout",
     "output_type": "stream",
     "text": [
      "Instances: 79, Features: 14093\n"
     ]
    },
    {
     "data": {
      "text/plain": [
       "['cigarette smoke', 'control']"
      ]
     },
     "execution_count": 2,
     "metadata": {},
     "output_type": "execute_result"
    }
   ],
   "source": [
    "file_name = \"data/smoking-large.tab\"\n",
    "# file_name = \"data/smoking-small.tab\"\n",
    "data = Orange.data.Table(file_name)\n",
    "print(\"Instances: %d, Features: %d\" % (len(data), len(data.domain.attributes)))\n",
    "data.domain.class_var.values"
   ]
  },
  {
   "cell_type": "code",
   "execution_count": 3,
   "metadata": {
    "collapsed": false,
    "deletable": true,
    "editable": true
   },
   "outputs": [],
   "source": [
    "X0 = data.X[data.Y==0]\n",
    "X1 = data.X[data.Y==1];"
   ]
  },
  {
   "cell_type": "markdown",
   "metadata": {
    "deletable": true,
    "editable": true
   },
   "source": [
    "Vizualizirajmo, kako so porazdeljene vrednosti izbranega atributa pri posameznem razredu (še boljši od razsevnega diagrama, ki ga tu prikazujemu, bi bil kakšen hitrogram vrednosti)."
   ]
  },
  {
   "cell_type": "code",
   "execution_count": 4,
   "metadata": {
    "collapsed": false,
    "deletable": true,
    "editable": true
   },
   "outputs": [
    {
     "data": {
      "text/plain": [
       "(40, 14093)"
      ]
     },
     "execution_count": 4,
     "metadata": {},
     "output_type": "execute_result"
    }
   ],
   "source": [
    "X1.shape"
   ]
  },
  {
   "cell_type": "code",
   "execution_count": 5,
   "metadata": {
    "collapsed": false,
    "deletable": true,
    "editable": true
   },
   "outputs": [
    {
     "data": {
      "image/png": "[encoded data removed]",
      "text/plain": [
       "<matplotlib.figure.Figure at 0x10fa37630>"
      ]
     },
     "metadata": {},
     "output_type": "display_data"
    }
   ],
   "source": [
    "def plot_class_points(att_id):\n",
    "    plt.figure(figsize=(5, 2))\n",
    "    plt.scatter(X0[:, att_id], np.ones(X0.shape[0]))\n",
    "    plt.scatter(X1[:, att_id], np.ones(X1.shape[0])*2)\n",
    "    plt.yticks([1, 2], data.domain.class_var.values)\n",
    "    plt.ylim(0.3, 2.8);\n",
    "    plt.xlabel(\"expression of %s\" % data.domain.attributes[att_id].name)\n",
    "\n",
    "plot_class_points(3)"
   ]
  },
  {
   "cell_type": "code",
   "execution_count": 6,
   "metadata": {
    "collapsed": false,
    "deletable": true,
    "editable": true
   },
   "outputs": [
    {
     "data": {
      "image/png": "[encoded data removed]",
      "text/plain": [
       "<matplotlib.figure.Figure at 0x10b75eb00>"
      ]
     },
     "metadata": {},
     "output_type": "display_data"
    }
   ],
   "source": [
    "plot_class_points(2)"
   ]
  },
  {
   "cell_type": "markdown",
   "metadata": {
    "deletable": true,
    "editable": true
   },
   "source": [
    "Zanima nas, ali obstajajo značilke, katerih vrednosti pri posameznem razredu so različne. Zgoraj vidimo, da prva značilka (indeks značilke 0) malce bolje loči med razredoma kot tretja značilka (indeks 2)."
   ]
  },
  {
   "cell_type": "markdown",
   "metadata": {
    "deletable": true,
    "editable": true
   },
   "source": [
    "Ocenjevanje informativnosti značilk\n",
    "--\n",
    "Zgornjo intuicijo o tem, katera značilka bolje ločuje med razredi, je moč kvantificirati. Uporabimo [Studentovo t-statistiko](https://en.wikipedia.org/wiki/Paired_difference_test) za ocenjevanje razlik med dvema skupinama meritev $X_1$ in $X_2$. Želimo, da bi bila povprečna vrednost med tema skupinama čim bolj drugačna, torej absolutna razlika med njima čim večja, ter da bi razsipanje vrednosti znotraj skupin bilo čim manjše. Pri slednjem bi bilo dobro upoštevati tudi število primerov v posamezni skupine. Vse skupaj strnemo v enačbo za t-statistiko:\n",
    "\n",
    "$$t=\\frac{\\bar{X_1}-\\bar{X_2}}{\\sqrt{\\frac{s_1^2}{n_1}+\\frac{s_2^2}{n_2}}}$$\n",
    "\n",
    "kjer sta $s_1$ in $s_2$ standardna odklona vzorcev $X_1$ in $X_2$. Zanima nas povprečna vrednost t-statistike, torej $|t|$. Za njen izračun uporabimo funkcijo iz paketa scipy. "
   ]
  },
  {
   "cell_type": "code",
   "execution_count": 7,
   "metadata": {
    "collapsed": false,
    "deletable": true,
    "editable": true
   },
   "outputs": [
    {
     "data": {
      "text/plain": [
       "array([ 1.79696383,  0.6598319 ,  0.51208726,  2.28699144,  0.29968853])"
      ]
     },
     "execution_count": 7,
     "metadata": {},
     "output_type": "execute_result"
    }
   ],
   "source": [
    "scores = np.abs(stats.ttest_ind(X0, X1, axis=0))[0]\n",
    "scores[:5]"
   ]
  },
  {
   "cell_type": "markdown",
   "metadata": {
    "deletable": true,
    "editable": true
   },
   "source": [
    "Ocenjene vrednosti dobro podpirajo našo ugotovitev, da prvi atribut bolje loči od tretjega. Zanima pa nas, kakšna je porazdelitev atributnih ocen."
   ]
  },
  {
   "cell_type": "code",
   "execution_count": 8,
   "metadata": {
    "collapsed": false,
    "deletable": true,
    "editable": true
   },
   "outputs": [
    {
     "data": {
      "image/png": "[encoded data removed]",
      "text/plain": [
       "<matplotlib.figure.Figure at 0x1103b34e0>"
      ]
     },
     "metadata": {},
     "output_type": "display_data"
    }
   ],
   "source": [
    "plt.hist(scores, 50)\n",
    "plt.ylabel(\"št. atributov\")\n",
    "plt.xlabel(\"ocena atributa\");"
   ]
  },
  {
   "cell_type": "markdown",
   "metadata": {
    "deletable": true,
    "editable": true
   },
   "source": [
    "Katera značilka najbolje loči naša razreda?"
   ]
  },
  {
   "cell_type": "code",
   "execution_count": 9,
   "metadata": {
    "collapsed": false,
    "deletable": true,
    "editable": true
   },
   "outputs": [
    {
     "data": {
      "text/plain": [
       "[(7794, 7.8535032182462308),\n",
       " (8050, 7.6887508659502251),\n",
       " (7232, 7.5466419572662868)]"
      ]
     },
     "execution_count": 9,
     "metadata": {},
     "output_type": "execute_result"
    }
   ],
   "source": [
    "ind_score = sorted(enumerate(scores), key=itemgetter(1), reverse=True)\n",
    "ind_score[:3]"
   ]
  },
  {
   "cell_type": "code",
   "execution_count": 10,
   "metadata": {
    "collapsed": false,
    "deletable": true,
    "editable": true
   },
   "outputs": [
    {
     "data": {
      "image/png": "[encoded data removed]",
      "text/plain": [
       "<matplotlib.figure.Figure at 0x110611be0>"
      ]
     },
     "metadata": {},
     "output_type": "display_data"
    }
   ],
   "source": [
    "plot_class_points(ind_score[0][0])"
   ]
  },
  {
   "cell_type": "markdown",
   "metadata": {
    "deletable": true,
    "editable": true
   },
   "source": [
    "Permutacijski test\n",
    "--\n",
    "Naši podatki vsebujejo veliko število atributov in relativno majhno število primerov. Prav lahko bi se zgodilo, da je kakšen od teh atributov informativen popolnoma naključno, torej, da so meritve bile slučajno take, da so ravno ločile izbrani dve skupini. Kakšna bi bila potem porazdelitev atributnih ocen, torej porezdelitev pri naključnih meritvah? Do naključnih meritev lahko pridemo tako, da vrednosti za dani atribut premešamo, še lažje pa to storimo za vse atribute naenkrat tako, da premešamo vrednosti razredne spremenljivke. Po tej permutaciji ocenimo značilke. Da vse skupaj ne bo odvisno od ene same permutacije razredov, postopek nekajkrat ponovimo."
   ]
  },
  {
   "cell_type": "code",
   "execution_count": 11,
   "metadata": {
    "collapsed": false,
    "deletable": true,
    "editable": true
   },
   "outputs": [],
   "source": [
    "np.random.seed(42)\n",
    "\n",
    "def scores_by_class_permutation(data, k=5):\n",
    "    y = np.copy(data.Y)\n",
    "    X = data.X\n",
    "    scores_null = np.array([])\n",
    "    for i in range(k):\n",
    "        np.random.shuffle(y)\n",
    "        scores_null = np.hstack((\n",
    "            scores_null,\n",
    "            np.abs(stats.ttest_ind(X[y == 0], X[y == 1], axis=0)[0])\n",
    "        ))\n",
    "    return scores_null\n",
    "\n",
    "null = scores_by_class_permutation(data)"
   ]
  },
  {
   "cell_type": "code",
   "execution_count": 12,
   "metadata": {
    "collapsed": false,
    "deletable": true,
    "editable": true
   },
   "outputs": [
    {
     "data": {
      "image/png": "[encoded data removed]",
      "text/plain": [
       "<matplotlib.figure.Figure at 0x10f89da90>"
      ]
     },
     "metadata": {},
     "output_type": "display_data"
    }
   ],
   "source": [
    "plt.hist(null, 50)\n",
    "plt.ylabel(\"št. atributov\")\n",
    "plt.xlabel(\"ocena atributa\");"
   ]
  },
  {
   "cell_type": "markdown",
   "metadata": {
    "deletable": true,
    "editable": true
   },
   "source": [
    "Porazdelitev z naključnimi podatki je dosti ožja od te z realnimi podatki."
   ]
  },
  {
   "cell_type": "code",
   "execution_count": 13,
   "metadata": {
    "collapsed": false,
    "deletable": true,
    "editable": true
   },
   "outputs": [
    {
     "data": {
      "image/png": "[encoded data removed]",
      "text/plain": [
       "<matplotlib.figure.Figure at 0x10f4a5438>"
      ]
     },
     "metadata": {},
     "output_type": "display_data"
    }
   ],
   "source": [
    "plt.hist(scores, 50, color=\"0.7\", normed=True)\n",
    "plt.hist(null, 50, color=\"blue\", normed=True, histtype='step', lw=2)\n",
    "p = 0.001\n",
    "\n",
    "threshold = np.sort(null)[int((1-p)*len(null))]\n",
    "plt.vlines(threshold, plt.ylim()[0], plt.ylim()[1], lw=2, color=\"k\")\n",
    "plt.xlabel(\"ocena atributa\")\n",
    "plt.savefig(\"tmp.pdf\");"
   ]
  },
  {
   "cell_type": "markdown",
   "metadata": {
    "deletable": true,
    "editable": true
   },
   "source": [
    "Zgoraj smo namenoma postavili mejo (črna vertikalna črta) tako, da je desno od meje samo zelo majhen delež ocen, ki so bile pridobljene na naključnih podatkih (porazdelitev označena z modro črto). Za vse atribute, ki so bili ocenjeni desno od te meje, lahko trdimo, da je vrednost njihove ocene taka, da bi jo težko dobili na naključnih podatkih. Verjetnost, da bi se to zgodilo, je enaka vrednosti $p$, na podlagi katere smo mejo določili. Če bi radi to verjetnost še zmanjšali, ustrezno zmanjšamo vrednost $p$. Koliko je sploh takih atributov?"
   ]
  },
  {
   "cell_type": "code",
   "execution_count": 14,
   "metadata": {
    "collapsed": false,
    "deletable": true,
    "editable": true
   },
   "outputs": [
    {
     "data": {
      "text/plain": [
       "1327"
      ]
     },
     "execution_count": 14,
     "metadata": {},
     "output_type": "execute_result"
    }
   ],
   "source": [
    "np.sum(scores > threshold)"
   ]
  },
  {
   "cell_type": "markdown",
   "metadata": {
    "deletable": true,
    "editable": true
   },
   "source": [
    "V podatkih je torej samo desetina atributov, za katere kaže, da so povezani z razredom. To je pravzaprav za naš problem zelo veliko. Spomnimo se, preučujemo učinke kajenja in kot vse kaže obstaja kar ena desetina vseh opazovanih genov, katerih izražanje v limfocitih se zaradi kajenja spremeni."
   ]
  },
  {
   "cell_type": "markdown",
   "metadata": {
    "deletable": true,
    "editable": true
   },
   "source": [
    "Izbor značilk\n",
    "---\n",
    "Zgoraj smo ravno pridelali metodo za ocenjevanje in izbor značilk po principu filtriranja. Ocenjevanje nam pomaga pri razpoznavi tistih značilk, ki so za naš problem pomembne. Če bi bili biologi, bi nas seznam genov, ki so najbolj različno izraženi pri dveh skupinah (kadilke, nekadilke) močno zanimali. A nismo, tako da bomo to zaenkrat preskočili (se boste pa s tem pozabavili pri domači nalogi na problemu, kjer bo informativnost značilk moč enostavno interpretirati). Tu razmislimo o drugačni uporabi filtriranja značilk. In sicer, v povezavi z napovednimi modeli. Ideja je, da lahko dober izbor značilk pomaga h gradnji bolj točnih modelov, ali pa vsaj pomaga k poenostavitvi problema tako, da so lahko ti odvisni od manj parametrov in jih je zato hitreje naučiti in se morda lahko manj prilegajo k učnim podatkom.\n",
    "\n",
    "Za poskus, ali zgornje drži, zgradimo razred za predprocesiranje podatkov, ki iz podatkov izloči $k$ najbolje informativnih atributov in vrne podatke, ki te vsebujejo."
   ]
  },
  {
   "cell_type": "code",
   "execution_count": 15,
   "metadata": {
    "collapsed": false,
    "deletable": true,
    "editable": true
   },
   "outputs": [],
   "source": [
    "class SelectBestFeatures(Preprocess):\n",
    "    def __init__(self,\n",
    "                 k=10,\n",
    "                 measure=lambda X, y: np.abs(stats.ttest_ind(X[y == 0], X[y == 1], axis=0)[0])\n",
    "                 ):\n",
    "        self.k = k\n",
    "        self.measure = measure\n",
    "\n",
    "    def __call__(self, data):\n",
    "        scores = self.measure(data.X, data.Y)\n",
    "        ind = set(list(zip(*sorted(zip(scores, range(len(\n",
    "            data.domain.attributes))), reverse=True)[:self.k]))[1])\n",
    "        att = [a for i, a in enumerate(data.domain.attributes) if i in ind]\n",
    "        domain = Orange.data.Domain(att, data.domain.class_vars)\n",
    "        new = data.from_table(domain, data)\n",
    "        print(\"selecting x \", len(new.domain.attributes))\n",
    "        return new"
   ]
  },
  {
   "cell_type": "code",
   "execution_count": 16,
   "metadata": {
    "collapsed": false,
    "deletable": true,
    "editable": true
   },
   "outputs": [
    {
     "name": "stdout",
     "output_type": "stream",
     "text": [
      "selecting x  10\n"
     ]
    },
    {
     "data": {
      "text/plain": [
       "10"
      ]
     },
     "execution_count": 16,
     "metadata": {},
     "output_type": "execute_result"
    }
   ],
   "source": [
    "fss = SelectBestFeatures(k=10)\n",
    "selected = fss(data)\n",
    "len(selected.domain.attributes)"
   ]
  },
  {
   "cell_type": "code",
   "execution_count": 17,
   "metadata": {
    "collapsed": false,
    "deletable": true,
    "editable": true
   },
   "outputs": [
    {
     "data": {
      "text/plain": [
       "array([ 0.92405063,  0.72151899])"
      ]
     },
     "execution_count": 17,
     "metadata": {},
     "output_type": "execute_result"
    }
   ],
   "source": [
    "data = Orange.data.Table(file_name)\n",
    "lr = Orange.classification.LogisticRegressionLearner()\n",
    "knn = Orange.classification.KNNLearner()\n",
    "res = Orange.evaluation.CrossValidation(data, [lr, knn], k=5, random_state=42)\n",
    "Orange.evaluation.scoring.CA(res)"
   ]
  },
  {
   "cell_type": "code",
   "execution_count": 18,
   "metadata": {
    "collapsed": false,
    "deletable": true,
    "editable": true
   },
   "outputs": [
    {
     "data": {
      "text/plain": [
       "array([ 0.78481013,  0.88607595])"
      ]
     },
     "execution_count": 18,
     "metadata": {},
     "output_type": "execute_result"
    }
   ],
   "source": [
    "np.random.seed(42)\n",
    "res = Orange.evaluation.CrossValidation(selected, [lr, knn], k=5, random_state=42)\n",
    "Orange.evaluation.scoring.CA(res)"
   ]
  },
  {
   "cell_type": "markdown",
   "metadata": {
    "deletable": true,
    "editable": true
   },
   "source": [
    "Ni slabo. Z veliko manj atributi dosegamo podobno točnosti pri logistični regresiji in k-najbližjih sosedov."
   ]
  },
  {
   "cell_type": "code",
   "execution_count": 19,
   "metadata": {
    "collapsed": false,
    "deletable": true,
    "editable": true
   },
   "outputs": [
    {
     "name": "stdout",
     "output_type": "stream",
     "text": [
      "selecting x  20\n"
     ]
    }
   ],
   "source": [
    "fss = SelectBestFeatures(k=20)\n",
    "selected_20 = fss(data)"
   ]
  },
  {
   "cell_type": "code",
   "execution_count": 20,
   "metadata": {
    "collapsed": false,
    "deletable": true,
    "editable": true
   },
   "outputs": [
    {
     "data": {
      "text/plain": [
       "array([ 0.92405063,  0.92405063])"
      ]
     },
     "execution_count": 20,
     "metadata": {},
     "output_type": "execute_result"
    }
   ],
   "source": [
    "np.random.seed(42)\n",
    "res = Orange.evaluation.CrossValidation(selected_20, [lr, knn], k=5, random_state=42)\n",
    "Orange.evaluation.scoring.CA(res)"
   ]
  },
  {
   "cell_type": "markdown",
   "metadata": {
    "deletable": true,
    "editable": true
   },
   "source": [
    "Točnost logistični regresiji malce pade, k-najbližjim sosedom pa še naraste. Razlog za razliko med rezultati obeh metod je v tem, kako obravnavata značilke. Logistična regresija sama najde ustrezne uteži značilk, dočim je teža značilk pri k-najboližjih sosedih enaka, saj je ta metoda odvisna od mere za razdaljo med primeri in večina mer (tudi privzeta, ki je evklidska razdalja) med značilkami ne ločuje oziroma jih ne uteži."
   ]
  },
  {
   "cell_type": "markdown",
   "metadata": {
    "deletable": true,
    "editable": true
   },
   "source": [
    "Pa je naš pristop res pravi? Naredimo (en malce odštekan) eksperiment. Uničimo podatke, izberimo nekaj najboljših značilk in poženimo prečno preverjanje. Podatke bomo \"uničili\" tako, kot smo to naredili pri permutacijskem testu: premešali bomo vrednosti razredne spremenljivke."
   ]
  },
  {
   "cell_type": "code",
   "execution_count": 21,
   "metadata": {
    "collapsed": true,
    "deletable": true,
    "editable": true
   },
   "outputs": [],
   "source": [
    "y = np.copy(data.Y)\n",
    "np.random.shuffle(y)\n",
    "destroyed = Orange.data.Table(data.X, y)"
   ]
  },
  {
   "cell_type": "code",
   "execution_count": 22,
   "metadata": {
    "collapsed": false,
    "deletable": true,
    "editable": true
   },
   "outputs": [
    {
     "data": {
      "text/plain": [
       "array([ 0.46835443,  0.44303797])"
      ]
     },
     "execution_count": 22,
     "metadata": {},
     "output_type": "execute_result"
    }
   ],
   "source": [
    "res = Orange.evaluation.CrossValidation(destroyed, [lr, knn], k=5, random_state=42)\n",
    "Orange.evaluation.scoring.CA(res)"
   ]
  },
  {
   "cell_type": "code",
   "execution_count": 23,
   "metadata": {
    "collapsed": false,
    "deletable": true,
    "editable": true
   },
   "outputs": [
    {
     "name": "stdout",
     "output_type": "stream",
     "text": [
      "selecting x  10\n"
     ]
    },
    {
     "data": {
      "text/plain": [
       "array([ 0.83544304,  0.79746835])"
      ]
     },
     "execution_count": 23,
     "metadata": {},
     "output_type": "execute_result"
    }
   ],
   "source": [
    "fss = SelectBestFeatures(k=10)\n",
    "selected_10 = fss(destroyed)\n",
    "res = Orange.evaluation.CrossValidation(selected_10, [lr, knn], k=5, random_state=42)\n",
    "Orange.evaluation.scoring.CA(res)"
   ]
  },
  {
   "cell_type": "markdown",
   "metadata": {
    "deletable": true,
    "editable": true
   },
   "source": [
    "Huh! Naša taktika izbora se obnese celo na čisto zanič podatkih. Hm. Pa je to res tisto, kar smo želeli? Seveda ne. Na naključnih podatkih bi morala točnost napovedi biti mizerna (bralec: kakšna točno?). Tako pa je skoraj odlična. Le zakaj? Kaj smo storili z izborom destih najboljših atributov na naključnih podatkih? Čemu pravzaprav služi prečno preverjanje po opravljenem izboru?\n",
    "\n",
    "Prečno preverjanje nam tu pokaže le, da smo med številnimi atributi izbrali tiste, ki so, čeprav po naklučju, dobro povezani z razredom. Seveda med razredom obstaja, saj smo ravno take atribute izbrali. In pri tem upoštevali vrednost razreda. V naslednjem koraku pa smo se delali, torej pri prečnem preverjanju, da poznamo samo del primerov (učna množica), drugega dela pa ne (testna množica). A ta del smo že videli. Kje? Pri predhodnem izboru atributov, seveda. Taktika predhodnega izbora atributov, ki ji sledi prečno preverjanje, je goljufija."
   ]
  },
  {
   "cell_type": "markdown",
   "metadata": {
    "deletable": true,
    "editable": true
   },
   "source": [
    "Izbor značilk kot predprocesiranje pri učenju\n",
    "---\n",
    "Tale naslov je pravzaprav čuden. Kaj nismo to ravnokar počeli in pokazali, kako napačen je postopek. Da, ampak smo predprocesiranje vključili na napačnem koncu. Predprocesiranje podatkov je namreč korak, ki je del učenja, in ga moramo torej poganjati znotraj prečnega preverjanja. Torej, prečno moramo preveriti celoten postopek, tako ocenjevanje atributov, izbor le teh, in potem gradnjo modelov. Vse to lahko torej počnemo le na učni množici, testiramo pa na popolnoma ločeni množici, ki je pri ocenjevanju in izboru atributov nismo upoštevali."
   ]
  },
  {
   "cell_type": "code",
   "execution_count": 24,
   "metadata": {
    "collapsed": true,
    "deletable": true,
    "editable": true
   },
   "outputs": [],
   "source": [
    "lr = Orange.classification.LogisticRegressionLearner()\n",
    "fss = SelectBestFeatures(k=20)\n",
    "knn_fss = Orange.classification.KNNLearner()\n",
    "knn_fss.preprocessors = knn_fss.preprocessors + [fss]\n",
    "knn = Orange.classification.KNNLearner()"
   ]
  },
  {
   "cell_type": "code",
   "execution_count": 25,
   "metadata": {
    "collapsed": false,
    "deletable": true,
    "editable": true
   },
   "outputs": [
    {
     "name": "stdout",
     "output_type": "stream",
     "text": [
      "selecting x  20\n",
      "selecting x  20\n",
      "selecting x  20\n",
      "selecting x  20\n",
      "selecting x  20\n"
     ]
    },
    {
     "data": {
      "text/plain": [
       "array([ 0.72151899,  0.83544304])"
      ]
     },
     "execution_count": 25,
     "metadata": {},
     "output_type": "execute_result"
    }
   ],
   "source": [
    "res = Orange.evaluation.CrossValidation(data, [knn, knn_fss], k=5, random_state=42)\n",
    "Orange.evaluation.scoring.CA(res)"
   ]
  },
  {
   "cell_type": "markdown",
   "metadata": {
    "deletable": true,
    "editable": true
   },
   "source": [
    "Tole je bil test, ali dela dobro: za k-najbližjih sosedov predprocesiranje fino pomaga. Spomnimo se: tokrat smo predprocesirali podatke samo na učni množici. Sledi še poskus z pravo uporabo predprocesiranja, a na \"uničenem\" naboru podatkov."
   ]
  },
  {
   "cell_type": "code",
   "execution_count": 26,
   "metadata": {
    "collapsed": false,
    "deletable": true,
    "editable": true
   },
   "outputs": [
    {
     "name": "stdout",
     "output_type": "stream",
     "text": [
      "selecting x  20\n",
      "selecting x  20\n",
      "selecting x  20\n",
      "selecting x  20\n",
      "selecting x  20\n"
     ]
    },
    {
     "data": {
      "text/plain": [
       "array([ 0.4556962])"
      ]
     },
     "execution_count": 26,
     "metadata": {},
     "output_type": "execute_result"
    }
   ],
   "source": [
    "res = Orange.evaluation.CrossValidation(destroyed, [knn_fss], k=5, random_state=42)\n",
    "Orange.evaluation.scoring.CA(res)"
   ]
  },
  {
   "cell_type": "markdown",
   "metadata": {
    "deletable": true,
    "editable": true
   },
   "source": [
    "Dobro, fino, ne dela. Tako kot smo pričakovali in kot mora biti. Tokrat nismo goljufali in dobili pravo oceno točnosti."
   ]
  },
  {
   "cell_type": "markdown",
   "metadata": {
    "deletable": true,
    "editable": true
   },
   "source": [
    "Nekratkovidno ocenjevanje atributov\n",
    "---\n",
    "Tu bomo ustvarili en težek nabor podatkov. Težek zato, ker na njem pade velika večin učnih algoritmov. Oziroma, morda skoraj vsi. Oziroma, vsi moderni učni algoritmi (morda pa se motim, ampak resno ne poznam algoritma, ki bi bil spodnjim podatkom kos). Oziroma, skoraj vedno odpovejo. Bomo videli, kje in zakaj.\n",
    "\n",
    "Podatki pa so:"
   ]
  },
  {
   "cell_type": "code",
   "execution_count": 27,
   "metadata": {
    "collapsed": false,
    "deletable": true,
    "editable": true
   },
   "outputs": [],
   "source": [
    "def create_tricky(n=300, m=10):\n",
    "    \"\"\"Create data set with n instances and m features.\"\"\"\n",
    "    np.random.seed(42)\n",
    "    X = np.random.rand(n, m)\n",
    "    y = (X[:, 0] > 0.5) == (X[:, 1] > 0.5)\n",
    "    return Orange.data.Table(X, y)\n",
    "\n",
    "tricky_data = create_tricky(300, 10)"
   ]
  },
  {
   "cell_type": "markdown",
   "metadata": {
    "deletable": true,
    "editable": true
   },
   "source": [
    "Izgleda sicer silno enostavno. Razred je binaren, odvisen samo od dveh atributov in ima vrednost 1 ko imata ta vrednost nad 0.5, in 0 sicer. Problem pa dejansko je, da brez vedenja ***obeh*** atributov ne moramo vedeti, kakšen bo razred. Mere, kot smo jo vpeljali zgoraj (spomnimo se, t-statistika), pri tem problemu popolnoma odpovejo, saj ocenjujejo po en sam atribut v odsotnosti vseh ostalih."
   ]
  },
  {
   "cell_type": "code",
   "execution_count": 28,
   "metadata": {
    "collapsed": false,
    "deletable": true,
    "editable": true
   },
   "outputs": [
    {
     "data": {
      "text/plain": [
       "array([ 0.52333333,  0.50333333,  0.85333333])"
      ]
     },
     "execution_count": 28,
     "metadata": {},
     "output_type": "execute_result"
    }
   ],
   "source": [
    "maj = Orange.classification.MajorityLearner()\n",
    "rf = Orange.classification.RandomForestLearner(n_estimators=200)\n",
    "res = Orange.evaluation.CrossValidation(tricky_data, [maj, lr, rf], k=10, random_state=42)\n",
    "Orange.evaluation.scoring.CA(res)"
   ]
  },
  {
   "cell_type": "markdown",
   "metadata": {
    "deletable": true,
    "editable": true
   },
   "source": [
    "Logistična regresija zgreši popolnoma. Njena točnost je nekje tam, kjer je model, ki vedno napoveduje večinski razred učne množice. Se pa presenetljivo dobro obnašajo na tem primeru naključni gozdovi. Ti delujejo po principu \"slepa kura zrno najde\", saj v zgornjem vozlišču pri vsakokratni gradnji le po naklučju zberejo ali prvi ali drugi atribut. Pri desetih atributih je verjetnost za to 20%. Ko je v zgornjem vozlišču izbran eden od teh dveh atributov, bo drevo pravo in bo v naslednjem vozlišču zbran komplementarni atribut. Model bom v tem primeru popoln. Varianta je tudi, da do takega izbora pride v nekorenskih vozliščih, kar bi vodilo do manj popolnih modelov. Ni pa izbor \"pravega\" atributa tu načrten.\n",
    "\n",
    "Naključni gozd lahko uporabimo za ocenjevanje atributov. Načinov za to je več. Izumitelj Leo Brieman je na primer predlagal, da v te namene zgradimo gozd na bootsrap vzorcu podatkov, ter ga vrednotimo na preostalih podatkih, torej teh, ki niso zajeti v vzorcu (t.im. vzorec *out-of-bag*). Za izdelani model napovedno vrednost atributo ocenimo tako, da v out-of-bag vrednosti tega atributa premešamo (tako, kot smo to počeli pri permutacijskem testu). Atributi, pri katerih bo na ta način točnost na testni množici padla, so bolj pomembni. Drug, hitrejši način pa je, da pregledamo drevesa v gozdovih in preštejemo, kolikokrat je posamezni atribut v drevesu uporaben in kje, pri čemer damo višjo težo uporabi bližje korenu drevesa. Ta način ocenjevanja atributov je odvisen samo od modela in ne potrebuje ločene testne množice.\n",
    "\n",
    "Spodaj nas zanima, kako dobre so take ocene. Prvi in drugi atribut, iz katerih smo izračunali vrednost razreda, bi morala biti najbolje ocenjena in biti na prvem mestu."
   ]
  },
  {
   "cell_type": "code",
   "execution_count": 29,
   "metadata": {
    "collapsed": true,
    "deletable": true,
    "editable": true
   },
   "outputs": [],
   "source": [
    "def position(indices, scores):\n",
    "    \"\"\"Positions of scores with index in indices in sorted list of scores\"\"\"\n",
    "    s = sorted(scores)\n",
    "    n = len(scores)\n",
    "    return [bisect.bisect(s, scores[i]) for i in indices]\n",
    "\n",
    "def score_positions(positions, n):\n",
    "    np = len(positions)\n",
    "    return [1-(n-p-i)/(n-np) for i, p in enumerate(positions)]\n",
    "\n",
    "def score_scores(indices, scores):\n",
    "    positions = position(indices, scores)\n",
    "    positions.sort(reverse=True)\n",
    "    return score_positions(positions, len(scores))"
   ]
  },
  {
   "cell_type": "code",
   "execution_count": 30,
   "metadata": {
    "collapsed": false,
    "deletable": true,
    "editable": true
   },
   "outputs": [
    {
     "name": "stdout",
     "output_type": "stream",
     "text": [
      "[5, 4] 6\n"
     ]
    },
    {
     "data": {
      "text/plain": [
       "[0.75, 0.75]"
      ]
     },
     "execution_count": 30,
     "metadata": {},
     "output_type": "execute_result"
    }
   ],
   "source": [
    "# sanity check here\n",
    "scores = [10, 20, 3, 5, 2, 30]\n",
    "positions = position([0,1], scores)\n",
    "positions.sort(reverse=True)\n",
    "print(positions, len(scores))\n",
    "score_positions(positions, len(scores))"
   ]
  },
  {
   "cell_type": "code",
   "execution_count": 31,
   "metadata": {
    "collapsed": false,
    "deletable": true,
    "editable": true
   },
   "outputs": [
    {
     "data": {
      "text/plain": [
       "([1.0, 1.0], [1.0, 1.0])"
      ]
     },
     "execution_count": 31,
     "metadata": {},
     "output_type": "execute_result"
    }
   ],
   "source": [
    "forest = rf(tricky_data)\n",
    "relief = Orange.preprocess.score.ReliefF()\n",
    "scores = relief(tricky_data)\n",
    "ind = [0, 1]\n",
    "score_scores(ind, scores), score_scores(ind, forest.skl_model.feature_importances_)"
   ]
  },
  {
   "cell_type": "markdown",
   "metadata": {
    "deletable": true,
    "editable": true
   },
   "source": [
    "Super, dela. Po oceni iz naključnega gozda sta naša informativna atributa najbolje ocenjena. Ocene smo izračunali tudi z metodo [Relief](https://en.wikipedia.org/wiki/Relief_(feature_selection) - avtorji izpopolnjene različice te ocene so iz FRI, Kononenko in Robnik Šikonja! Ideja ocenjevanja s to oceno je naslednja. Vzemi nek naključen referenči primer in bližnji primer z istim (nearHit) ter bližnji primer z različnim razredom (nearMis). Pri primeru nearHit za informativen atribut pričakujemo, da se vrednost atributa ne bo spremenila prav dosti, pri nearMiss pa, da je sprememba atributa precejšnja. Iz te intuicije lahko izpišemo enačbo za oceno atributov, oceno samo pa izračunamo na podlagi večkratnega vzorčenja referenčnih primerov. Zgoraj kaže, da tudi Relief dela odlično.\n",
    "\n",
    "Sedaj pa zvečajmo število atributov v našem podatkovnem naboru in znova preglejmo, kako deluje ocenjevanje z naključnim gozdom in Relief-om."
   ]
  },
  {
   "cell_type": "code",
   "execution_count": 32,
   "metadata": {
    "collapsed": false,
    "deletable": true,
    "editable": true
   },
   "outputs": [
    {
     "data": {
      "text/plain": [
       "([0.9897959183673469, 0.9795918367346939],\n",
       " [0.9285714285714286, 0.8979591836734694])"
      ]
     },
     "execution_count": 32,
     "metadata": {},
     "output_type": "execute_result"
    }
   ],
   "source": [
    "tricky_data = create_tricky(300, 100)\n",
    "forest = rf(tricky_data)\n",
    "relief = Orange.preprocess.score.ReliefF()\n",
    "scores = relief(tricky_data)\n",
    "score_scores(ind, scores), score_scores(ind, forest.skl_model.feature_importances_)"
   ]
  },
  {
   "cell_type": "markdown",
   "metadata": {
    "deletable": true,
    "editable": true
   },
   "source": [
    "Relief dela odlično, naključni gozdovi pa že malo šepajo. Kaj se zgodi, ko število atributov večamo, kakšna je odvisnost med številom atributov in uspešnostjo metod ocenjevanja?"
   ]
  },
  {
   "cell_type": "code",
   "execution_count": 33,
   "metadata": {
    "collapsed": false,
    "deletable": true,
    "editable": true
   },
   "outputs": [
    {
     "name": "stdout",
     "output_type": "stream",
     "text": [
      " 10 1.00 1.00\n",
      " 20 1.00 0.97\n",
      " 50 1.00 0.82\n",
      "100 0.98 0.91\n",
      "200 0.91 0.82\n",
      "500 0.81 0.69\n",
      "1000 0.66 0.03\n",
      "5000 0.57 0.50\n",
      "10000 0.79 0.69\n"
     ]
    }
   ],
   "source": [
    "def average(lst):\n",
    "    return np.sum(lst, axis=0)/len(lst)\n",
    "\n",
    "# for n in [10, 20, 50, 100, 500, 1000]:\n",
    "for n in [10, 20, 50, 100, 200, 500, 1000, 5000, 10000]:\n",
    "    positions = []\n",
    "    for _ in range(100):\n",
    "        tricky_data = create_tricky(300, n)\n",
    "        forest = rf(tricky_data)\n",
    "        relief = Orange.preprocess.score.ReliefF()\n",
    "        scores = relief(tricky_data)\n",
    "        ps = average(score_scores(ind, scores)), average(score_scores(ind, forest.skl_model.feature_importances_))\n",
    "        positions.append(ps)\n",
    "    print(\"%3d \" % n + \"%4.2f %4.2f\" % tuple(average(np.array(positions))))"
   ]
  },
  {
   "cell_type": "markdown",
   "metadata": {
    "deletable": true,
    "editable": true
   },
   "source": [
    "Tu precej odpovesta obe metodi. Pravzaprav bi to ocenjevanje moralo potekati tako, da bi ga lahko pognali večkrat in izračunali povprečno pozicijo obeh atributov v nizu ocen."
   ]
  }
 ],
 "metadata": {
  "kernelspec": {
   "display_name": "Python 3",
   "language": "python",
   "name": "python3"
  },
  "language_info": {
   "codemirror_mode": {
    "name": "ipython",
    "version": 3
   },
   "file_extension": ".py",
   "mimetype": "text/x-python",
   "name": "python",
   "nbconvert_exporter": "python",
   "pygments_lexer": "ipython3",
   "version": "3.5.2"
  }
 },
 "nbformat": 4,
 "nbformat_minor": 2
}
