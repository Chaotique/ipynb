{
 "cells": [
  {
   "cell_type": "code",
   "execution_count": 1,
   "metadata": {
    "collapsed": false
   },
   "outputs": [],
   "source": [
    "import Orange\n",
    "import random\n",
    "import scipy\n",
    "import numpy as np\n",
    "import itertools\n",
    "from matplotlib import pyplot as plt\n",
    "import collections\n",
    "from operator import itemgetter\n",
    "%matplotlib inline"
   ]
  },
  {
   "cell_type": "markdown",
   "metadata": {},
   "source": [
    "# Klasifikatorji v Orange-u"
   ]
  },
  {
   "cell_type": "markdown",
   "metadata": {},
   "source": [
    "Poleg [sklearn-a](http://scikit-learn.org/) je [Orange](http://orange.biolab.si), vsaj tako mislimo na FRI :-), eno pomembnejših okolij za strojno učenje v Pythonu. Med sklearn-om in Orangeom je kar nekaj razlik, med pomembnejšimi pa je vsekakor ta, da se Orange bolj ukvarja z opisom podatkov ter stremi k simboličnem učenju, torej učenju, pri katerih je pomembno razumeti tudi strukturo problema in odkrite vzorce. O slednjem tu ne bo govora. Namen tega zapisa je namreč raje predstaviti osnovne koncepte Orange in pa to, kako lahko v Orangeu razvijem nov, uporaben klasifikator. Konkretno, naš cilj je razviti logistično regresijo in jo zapakirati v obliko, ki bo univerzalno uporabna v Orange-u. Tudi za klasifikacijske primere, ki niso samo binarni. A po vrsti: najprej k podatkom."
   ]
  },
  {
   "cell_type": "markdown",
   "metadata": {},
   "source": [
    "## Podatki"
   ]
  },
  {
   "cell_type": "markdown",
   "metadata": {},
   "source": [
    "Preberemo podatke o [rožicah](https://en.wikipedia.org/wiki/Iris_flower_data_set). Kje sploh je vhodna datoteka? Instalacija Orange pride z nekaj primeri podatkov, med katerimi je tudi datoteka iris.tab. Lahko jo poiščeš nekje na tvojem disku, Orange pa jo med datotekami zna poiskati tudi sam. Spodaj preberemo in malo pobrskamo po podatkih."
   ]
  },
  {
   "cell_type": "code",
   "execution_count": 2,
   "metadata": {
    "collapsed": true
   },
   "outputs": [],
   "source": [
    "iris = Orange.data.Table(\"iris\")"
   ]
  },
  {
   "cell_type": "code",
   "execution_count": 3,
   "metadata": {
    "collapsed": false
   },
   "outputs": [
    {
     "data": {
      "text/plain": [
       "[[5.100, 3.500, 1.400, 0.200 | Iris-setosa],\n",
       " [4.900, 3.000, 1.400, 0.200 | Iris-setosa],\n",
       " [4.700, 3.200, 1.300, 0.200 | Iris-setosa],\n",
       " [4.600, 3.100, 1.500, 0.200 | Iris-setosa],\n",
       " [5.000, 3.600, 1.400, 0.200 | Iris-setosa],\n",
       " ...\n",
       "]"
      ]
     },
     "execution_count": 3,
     "metadata": {},
     "output_type": "execute_result"
    }
   ],
   "source": [
    "iris"
   ]
  },
  {
   "cell_type": "code",
   "execution_count": 4,
   "metadata": {
    "collapsed": false
   },
   "outputs": [
    {
     "data": {
      "text/plain": [
       "array([[ 5.1,  3.5,  1.4,  0.2],\n",
       "       [ 4.9,  3. ,  1.4,  0.2],\n",
       "       [ 4.7,  3.2,  1.3,  0.2],\n",
       "       [ 4.6,  3.1,  1.5,  0.2],\n",
       "       [ 5. ,  3.6,  1.4,  0.2]])"
      ]
     },
     "execution_count": 4,
     "metadata": {},
     "output_type": "execute_result"
    }
   ],
   "source": [
    "iris.X[:5]"
   ]
  },
  {
   "cell_type": "code",
   "execution_count": 5,
   "metadata": {
    "collapsed": false
   },
   "outputs": [
    {
     "data": {
      "text/plain": [
       "array([ 0.,  0.,  0.,  0.,  0.])"
      ]
     },
     "execution_count": 5,
     "metadata": {},
     "output_type": "execute_result"
    }
   ],
   "source": [
    "iris.Y[:5]"
   ]
  },
  {
   "cell_type": "code",
   "execution_count": 6,
   "metadata": {
    "collapsed": false
   },
   "outputs": [
    {
     "data": {
      "text/plain": [
       "True"
      ]
     },
     "execution_count": 6,
     "metadata": {},
     "output_type": "execute_result"
    }
   ],
   "source": [
    "iris[90].get_class() in [\"Iris-versicolor\", \"Iris-virginica\"]"
   ]
  },
  {
   "cell_type": "markdown",
   "metadata": {},
   "source": [
    "Naša logistična regresija zna v osnovi obravnavati samo binarne probleme. Kasneje jo bomo zapakirali v ovojnivo, ki bo znala ta algoritem uporabiti in ga razširiti na večrazredne primere. A si do takrat raje pripravimo binarne podatke, na katerih bomo preiskušali osnovno verzijo algoritma. Naš iris (podatki o rožicah, ki smo si jih ogledovali zgoraj) ima tri vrednosti razredov. Spodaj izberemo samo primere, ki pripadajo dvem izbranim razredom. Tu dodatno še spremenimo domeno, kjer trirazredno spremenljivko zamenjamo s to s samo dvemi razredi."
   ]
  },
  {
   "cell_type": "code",
   "execution_count": 7,
   "metadata": {
    "collapsed": false
   },
   "outputs": [],
   "source": [
    "targets = [\"Iris-versicolor\", \"Iris-virginica\"]\n",
    "flower = Orange.data.domain.DiscreteVariable(\"flower\", values=targets)\n",
    "domain = Orange.data.Domain(iris.domain.attributes, flower)\n",
    "table = [d for d in iris if d.get_class() in targets]\n",
    "random.shuffle(table)\n",
    "data = Orange.data.Table(domain, table)"
   ]
  },
  {
   "cell_type": "code",
   "execution_count": 8,
   "metadata": {
    "collapsed": false
   },
   "outputs": [
    {
     "data": {
      "text/plain": [
       "[[4.900, 2.400, 3.300, 1.000 | Iris-versicolor],\n",
       " [6.700, 3.000, 5.000, 1.700 | Iris-versicolor],\n",
       " [6.100, 3.000, 4.600, 1.400 | Iris-versicolor]\n",
       "]"
      ]
     },
     "execution_count": 8,
     "metadata": {},
     "output_type": "execute_result"
    }
   ],
   "source": [
    "data[:3]"
   ]
  },
  {
   "cell_type": "code",
   "execution_count": 9,
   "metadata": {
    "collapsed": false
   },
   "outputs": [
    {
     "data": {
      "text/plain": [
       "(array([ 0.,  0.,  0.]), array([ 0.,  1.,  0.]))"
      ]
     },
     "execution_count": 9,
     "metadata": {},
     "output_type": "execute_result"
    }
   ],
   "source": [
    "data.Y[:3], data.Y[-3:]"
   ]
  },
  {
   "cell_type": "markdown",
   "metadata": {},
   "source": [
    "## Gradnja modelov in razvrščanje"
   ]
  },
  {
   "cell_type": "markdown",
   "metadata": {},
   "source": [
    "V Orangeu so learnerji in so model. Learnerji so objekti, ki lahko sprejmejo podatke in zgradijo model (klasifikator). Modeli so objekti, ki sprejmejo atributni opis primera in znajo napovedati razre, ali še bolje, verjetnosti razrednih vrednosti. Primer spodaj uporablja učni algoritem klasifikacijskega drevesa. Najprej pridobimo instanco learnerja, temu damo podatke, zgradimo model, nato pa model kar izpišemo."
   ]
  },
  {
   "cell_type": "code",
   "execution_count": 10,
   "metadata": {
    "collapsed": false
   },
   "outputs": [],
   "source": [
    "tree_learner = Orange.classification.SimpleTreeLearner()"
   ]
  },
  {
   "cell_type": "code",
   "execution_count": 11,
   "metadata": {
    "collapsed": false
   },
   "outputs": [],
   "source": [
    "tree = tree_learner(data)"
   ]
  },
  {
   "cell_type": "code",
   "execution_count": 12,
   "metadata": {
    "collapsed": false
   },
   "outputs": [
    {
     "name": "stdout",
     "output_type": "stream",
     "text": [
      "\n",
      "petal width ([50.0, 50.0])\n",
      ": <=1.75\n",
      "   petal length ([49.0, 5.0])\n",
      "   : <=5.35\n",
      "      petal length ([49.0, 3.0])\n",
      "      : <=4.95\n",
      "         sepal length ([47.0, 1.0])\n",
      "         : <=4.95 --> Iris-versicolor ([1.0, 1.0])\n",
      "         : >4.95 --> Iris-versicolor ([46.0, 0.0])\n",
      "      : >4.95\n",
      "         petal width ([2.0, 2.0])\n",
      "         : <=1.55 --> Iris-virginica ([0.0, 2.0])\n",
      "         : >1.55 --> Iris-versicolor ([2.0, 0.0])\n",
      "   : >5.35 --> Iris-virginica ([0.0, 2.0])\n",
      ": >1.75\n",
      "   petal length ([1.0, 45.0])\n",
      "   : <=4.85 --> Iris-virginica ([1.0, 2.0])\n",
      "   : >4.85 --> Iris-virginica ([0.0, 43.0])\n"
     ]
    }
   ],
   "source": [
    "print(tree.to_string())"
   ]
  },
  {
   "cell_type": "markdown",
   "metadata": {},
   "source": [
    "Poiščimo verjetnosti za prvih pet primerov. Ker imamo dva razreda, bodo verjetnosti podane v matriki, za vsak primer (vrstica) in stolpec (Iris versicolor ali virginica)."
   ]
  },
  {
   "cell_type": "code",
   "execution_count": 13,
   "metadata": {
    "collapsed": false
   },
   "outputs": [],
   "source": [
    "ex = data[:5]"
   ]
  },
  {
   "cell_type": "code",
   "execution_count": 14,
   "metadata": {
    "collapsed": false
   },
   "outputs": [
    {
     "data": {
      "text/plain": [
       "[[4.900, 2.400, 3.300, 1.000 | Iris-versicolor],\n",
       " [6.700, 3.000, 5.000, 1.700 | Iris-versicolor],\n",
       " [6.100, 3.000, 4.600, 1.400 | Iris-versicolor],\n",
       " [5.800, 2.700, 4.100, 1.000 | Iris-versicolor],\n",
       " [5.200, 2.700, 3.900, 1.400 | Iris-versicolor]\n",
       "]"
      ]
     },
     "execution_count": 14,
     "metadata": {},
     "output_type": "execute_result"
    }
   ],
   "source": [
    "ex"
   ]
  },
  {
   "cell_type": "code",
   "execution_count": 15,
   "metadata": {
    "collapsed": false
   },
   "outputs": [
    {
     "data": {
      "text/plain": [
       "array([[ 0.5,  0.5],\n",
       "       [ 1. ,  0. ],\n",
       "       [ 1. ,  0. ],\n",
       "       [ 1. ,  0. ],\n",
       "       [ 1. ,  0. ]])"
      ]
     },
     "execution_count": 15,
     "metadata": {},
     "output_type": "execute_result"
    }
   ],
   "source": [
    "tree(data, 1)[:5]"
   ]
  },
  {
   "cell_type": "markdown",
   "metadata": {},
   "source": [
    "## Prečno preverjanje"
   ]
  },
  {
   "cell_type": "markdown",
   "metadata": {},
   "source": [
    "Ena od pogostih uporab learnerjev, torej objektov, ki se znajo naučiti modelov iz podatkov, je, da jih lahko posredujemo funkcijam in razredom, ki uporabljajo learnerje in z njimi nekaj počno na podatkih. Tipičen primer je vrednotenje in primerjava klasifikacijskih metod. Spodaj je primer prečnega preverjanja in primerjave dveh metod strojnega učenja. Za oceno uspešnosti učenja smo uporabili klasifikacijsko točnost."
   ]
  },
  {
   "cell_type": "code",
   "execution_count": 16,
   "metadata": {
    "collapsed": false
   },
   "outputs": [],
   "source": [
    "tree_learner = Orange.classification.SimpleTreeLearner()\n",
    "rf_learner = Orange.classification.RandomForestLearner()\n",
    "knn_learner = Orange.classification.KNNLearner()\n",
    "res = Orange.evaluation.CrossValidation(data, [tree_learner, rf_learner, knn_learner])"
   ]
  },
  {
   "cell_type": "code",
   "execution_count": 17,
   "metadata": {
    "collapsed": false
   },
   "outputs": [
    {
     "data": {
      "text/plain": [
       "array([ 0.89,  0.91,  0.94])"
      ]
     },
     "execution_count": 17,
     "metadata": {},
     "output_type": "execute_result"
    }
   ],
   "source": [
    "Orange.evaluation.CA(res)"
   ]
  },
  {
   "cell_type": "markdown",
   "metadata": {},
   "source": [
    "## Logistična regresija na oranžen način"
   ]
  },
  {
   "cell_type": "markdown",
   "metadata": {},
   "source": [
    "Zdaj, ko vemo, kako se obnašajo objekti, ki se učijo in objekti, ki znajo klasificirati, lahko na ta način implementiramo logistično regresijo. Uporabimo kodo iz prejšnjih predavanj, in vse skupaj zapakiramo v dva razreda, enega za učenje in drugega za klasifikacijo."
   ]
  },
  {
   "cell_type": "code",
   "execution_count": 18,
   "metadata": {
    "collapsed": false
   },
   "outputs": [],
   "source": [
    "def sigmoid(z):\n",
    "    return 1. / (1 + np.exp(-z))\n",
    "\n",
    "class LogRegLearner(Orange.classification.Learner):\n",
    "    \"\"\"Wraps logistic regression into an Orange learner\"\"\"\n",
    "    def __init__(self):\n",
    "        super().__init__()\n",
    "        self.name = \"logreg\"\n",
    "        self.X, self.y = None, None\n",
    "        \n",
    "    def J(self, theta):\n",
    "        yh = sigmoid(self.X.dot(theta))\n",
    "        return -sum(self.y*np.log(yh) + (1-self.y)*np.log(1-yh))\n",
    "\n",
    "    def dJ(self, theta):\n",
    "        return -(self.y - sigmoid(self.X.dot(theta))).dot(self.X)\n",
    "\n",
    "    def optimize(self):\n",
    "        res = scipy.optimize.fmin_l_bfgs_b(self.J, np.zeros(self.X.shape[1]).T, self.dJ)\n",
    "        return res[0]\n",
    "\n",
    "    def fit_storage(self, data):\n",
    "        self.X = np.column_stack((np.ones(len(data)), data.X))\n",
    "        self.y = data.Y\n",
    "        theta = self.optimize()\n",
    "        return LogRegModel(data.domain, theta)\n",
    "        \n",
    "class LogRegModel(Orange.classification.Model):\n",
    "    def __init__(self, domain, theta):\n",
    "        super().__init__(domain)\n",
    "        self.theta = theta\n",
    "\n",
    "    def predict_storage(self, data, ret=1):\n",
    "        \"\"\"Given a data instance or table of data instances returns predicted class.\"\"\"\n",
    "        X = data.X\n",
    "        X1 = np.column_stack((np.ones(len(X)), X))\n",
    "        y_hat = sigmoid(X1.dot(self.theta))\n",
    "        res = np.column_stack((1-y_hat, y_hat))\n",
    "        return res"
   ]
  },
  {
   "cell_type": "markdown",
   "metadata": {},
   "source": [
    "Dela? Poskusimo."
   ]
  },
  {
   "cell_type": "code",
   "execution_count": 19,
   "metadata": {
    "collapsed": false
   },
   "outputs": [],
   "source": [
    "lrl = LogRegLearner()"
   ]
  },
  {
   "cell_type": "code",
   "execution_count": 20,
   "metadata": {
    "collapsed": false
   },
   "outputs": [],
   "source": [
    "lr = lrl(data)"
   ]
  },
  {
   "cell_type": "code",
   "execution_count": 21,
   "metadata": {
    "collapsed": false
   },
   "outputs": [
    {
     "data": {
      "text/plain": [
       "(array([0, 0, 0, 0, 0, 0, 1, 1, 1, 0]),\n",
       " array([[  9.99999999e-01,   5.35170986e-10],\n",
       "        [  7.23938847e-01,   2.76061153e-01],\n",
       "        [  9.99840382e-01,   1.59617676e-04],\n",
       "        [  9.99999985e-01,   1.48109667e-08],\n",
       "        [  9.99985190e-01,   1.48103831e-05],\n",
       "        [  9.98801398e-01,   1.19860220e-03],\n",
       "        [  4.92776975e-08,   9.99999951e-01],\n",
       "        [  3.86083735e-04,   9.99613916e-01],\n",
       "        [  4.50208781e-09,   9.99999995e-01],\n",
       "        [  9.99959763e-01,   4.02370316e-05]]))"
      ]
     },
     "execution_count": 21,
     "metadata": {},
     "output_type": "execute_result"
    }
   ],
   "source": [
    "lr(data[0:10], 2)"
   ]
  },
  {
   "cell_type": "code",
   "execution_count": 22,
   "metadata": {
    "collapsed": false
   },
   "outputs": [
    {
     "data": {
      "text/plain": [
       "array([ 0.,  0.,  0.,  0.,  0.,  0.,  1.,  1.,  1.,  0.])"
      ]
     },
     "execution_count": 22,
     "metadata": {},
     "output_type": "execute_result"
    }
   ],
   "source": [
    "data.Y[:10]"
   ]
  },
  {
   "cell_type": "markdown",
   "metadata": {},
   "source": [
    "Zgleda, da dela. Preiskusimo vse skupaj še s prečnim preverjanjem"
   ]
  },
  {
   "cell_type": "code",
   "execution_count": 23,
   "metadata": {
    "collapsed": false
   },
   "outputs": [],
   "source": [
    "titanic = Orange.data.Table(\"titanic\")\n",
    "\n",
    "logreg = LogRegLearner()\n",
    "tree = Orange.classification.SimpleTreeLearner()\n",
    "rf = Orange.classification.RandomForestLearner()"
   ]
  },
  {
   "cell_type": "code",
   "execution_count": 24,
   "metadata": {
    "collapsed": false
   },
   "outputs": [
    {
     "data": {
      "text/plain": [
       "array([ 0.7760109 ,  0.78736938,  0.78736938])"
      ]
     },
     "execution_count": 24,
     "metadata": {},
     "output_type": "execute_result"
    }
   ],
   "source": [
    "learners = [logreg, tree, rf]\n",
    "res = Orange.evaluation.CrossValidation(titanic, learners, k=5)\n",
    "Orange.evaluation.CA(res)"
   ]
  },
  {
   "cell_type": "markdown",
   "metadata": {},
   "source": [
    "Uf, sploh ni slabo. Kaj bi šele bilo, če bi vključili še kakšno regularizacijo, ali pa še kakšno drugo finto."
   ]
  },
  {
   "cell_type": "markdown",
   "metadata": {},
   "source": [
    "## Izbor parametra metode"
   ]
  },
  {
   "cell_type": "markdown",
   "metadata": {},
   "source": [
    "Točnost napovednih modelov je odvisna od nastavitev (parametrov), ki jih ti modeli uporabljajo pri učenju. Na primer, pri regularizirani logistični regresije bo točnost na testnih podatkih prav gotovo odvisna od stopnje regularizacije. To stopnjo bi bilo dobro nastaviti na vrednost, pri kateri pričakujemo, da bo točnost metode na novih podatkih največja. Spodaj pokažemo, kako se spreminja točnost v odvisnosti od nastavitve parametra metode (gozd naključnih dreves, parameter je število dreves v ansamblu)."
   ]
  },
  {
   "cell_type": "code",
   "execution_count": 25,
   "metadata": {
    "collapsed": false
   },
   "outputs": [],
   "source": [
    "ns = [1, 5, 10, 20, 50, 100]\n",
    "learners = [Orange.classification.RandomForestLearner(n_estimators=n) for n in ns]\n",
    "data = Orange.data.Table(\"heart_disease\")\n",
    "res = Orange.evaluation.CrossValidation(data, learners, k=5)"
   ]
  },
  {
   "cell_type": "code",
   "execution_count": 26,
   "metadata": {
    "collapsed": false
   },
   "outputs": [
    {
     "data": {
      "text/plain": [
       "array([ 0.71075788,  0.78040374,  0.8183637 ,  0.79093915,  0.81570767,\n",
       "        0.8161541 ])"
      ]
     },
     "execution_count": 26,
     "metadata": {},
     "output_type": "execute_result"
    }
   ],
   "source": [
    "scores = Orange.evaluation.AUC(res)\n",
    "scores"
   ]
  },
  {
   "cell_type": "markdown",
   "metadata": {},
   "source": [
    "Kateri je potem najbolj primeren parameter?"
   ]
  },
  {
   "cell_type": "code",
   "execution_count": 27,
   "metadata": {
    "collapsed": false
   },
   "outputs": [
    {
     "data": {
      "text/plain": [
       "(0.81836369648869645, 10)"
      ]
     },
     "execution_count": 27,
     "metadata": {},
     "output_type": "execute_result"
    }
   ],
   "source": [
    "max(zip(scores, ns))"
   ]
  },
  {
   "cell_type": "markdown",
   "metadata": {},
   "source": [
    "# Ovojnica za učenje z oceno parametra metode"
   ]
  },
  {
   "cell_type": "markdown",
   "metadata": {},
   "source": [
    "Napišimo sedaj razred, ki sprejme metodo učenja (learner), ime parametra, katerega optimalno vrednost glede na izbrano metodo ocenjevanja točnosti bi radi izbrali, in možne vrednosti tega parametra, ki bi jih radi ovrednotili. Vse skupaj torej zavijemo v ovojnico, ki sedaj predstavlja nov učni algoritem, torej tak, ki poišče ustrezno vrednost parametra in s to vrednostjo potem na celotnih učnih podatkih zgradi napovedni model. Iskanje prave vrednosti parametra je torej postal del učne metode."
   ]
  },
  {
   "cell_type": "code",
   "execution_count": 28,
   "metadata": {
    "collapsed": false
   },
   "outputs": [
    {
     "name": "stdout",
     "output_type": "stream",
     "text": [
      "10 2\n"
     ]
    }
   ],
   "source": [
    "def f(a=1, b=2):\n",
    "    print(a, b)\n",
    "\n",
    "z = {\"a\": 10}\n",
    "f(**z)"
   ]
  },
  {
   "cell_type": "code",
   "execution_count": 29,
   "metadata": {
    "collapsed": true
   },
   "outputs": [],
   "source": [
    "class GuessParameterLearner(Orange.classification.Learner):\n",
    "    \"\"\"Wraps logistic regression into an Orange learner\"\"\"\n",
    "    def __init__(self, learner, param_name, values):\n",
    "        super().__init__()\n",
    "        self.learner = learner\n",
    "        self.param_name = param_name\n",
    "        self.values = values\n",
    "        \n",
    "    def fit_storage(self, data):\n",
    "        # internal cross-validation on training data first\n",
    "        learners = [self.learner(**{self.param_name: v}) for v in self.values]\n",
    "        res = Orange.evaluation.CrossValidation(data, learners, k=3)\n",
    "        scores = Orange.evaluation.AUC(res)\n",
    "        v_star = max(zip(scores, self.values))[1]\n",
    "        learner = self.learner(**{self.param_name: v_star})\n",
    "        model = learner(data)\n",
    "        return GuessParameterClassifier(model.domain, model, v_star)\n",
    "    \n",
    "class GuessParameterClassifier(Orange.classification.Model):\n",
    "    def __init__(self, domain, model, v):\n",
    "        super().__init__(domain)\n",
    "        self.model = model\n",
    "        self.v_star = v\n",
    "\n",
    "    def predict_storage(self, data, ret=1):\n",
    "        \"\"\"Given a data instance or table of data instances returns predicted class.\"\"\"\n",
    "        return self.model(data, 1)"
   ]
  },
  {
   "cell_type": "markdown",
   "metadata": {},
   "source": [
    "Uporabimo sedaj zgornje, v novi razred zavijemo metodo gradnje naključnih dreves, in preverimo, če vse skupaj deluje v Orange-u v sklopu prečnega preverjanja."
   ]
  },
  {
   "cell_type": "code",
   "execution_count": 30,
   "metadata": {
    "collapsed": false
   },
   "outputs": [],
   "source": [
    "learner = GuessParameterLearner(Orange.classification.RandomForestLearner, \"n_estimators\", [1, 10, 20])"
   ]
  },
  {
   "cell_type": "code",
   "execution_count": 31,
   "metadata": {
    "collapsed": false
   },
   "outputs": [
    {
     "data": {
      "text/plain": [
       "learner"
      ]
     },
     "execution_count": 31,
     "metadata": {},
     "output_type": "execute_result"
    }
   ],
   "source": [
    "learner(data)"
   ]
  },
  {
   "cell_type": "code",
   "execution_count": 32,
   "metadata": {
    "collapsed": false
   },
   "outputs": [],
   "source": [
    "res = Orange.evaluation.CrossValidation(data, [learner], k=5, store_models=True)"
   ]
  },
  {
   "cell_type": "code",
   "execution_count": 33,
   "metadata": {
    "collapsed": false
   },
   "outputs": [
    {
     "data": {
      "text/plain": [
       "array([ 0.81443603])"
      ]
     },
     "execution_count": 33,
     "metadata": {},
     "output_type": "execute_result"
    }
   ],
   "source": [
    "Orange.evaluation.AUC(res)"
   ]
  },
  {
   "cell_type": "code",
   "execution_count": 34,
   "metadata": {
    "collapsed": false
   },
   "outputs": [],
   "source": [
    "a = res.models[3][0]"
   ]
  },
  {
   "cell_type": "code",
   "execution_count": 35,
   "metadata": {
    "collapsed": false
   },
   "outputs": [
    {
     "data": {
      "text/plain": [
       "10"
      ]
     },
     "execution_count": 35,
     "metadata": {},
     "output_type": "execute_result"
    }
   ],
   "source": [
    "a.v_star"
   ]
  }
 ],
 "metadata": {
  "kernelspec": {
   "display_name": "Python 3",
   "language": "python",
   "name": "python3"
  },
  "language_info": {
   "codemirror_mode": {
    "name": "ipython",
    "version": 3
   },
   "file_extension": ".py",
   "mimetype": "text/x-python",
   "name": "python",
   "nbconvert_exporter": "python",
   "pygments_lexer": "ipython3",
   "version": "3.5.0"
  }
 },
 "nbformat": 4,
 "nbformat_minor": 0
}
