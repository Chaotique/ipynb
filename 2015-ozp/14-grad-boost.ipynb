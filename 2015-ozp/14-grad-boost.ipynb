{
 "metadata": {
  "name": "",
  "signature": "sha256:271f868e49ff21cec5548c328044e3b837160874d7b46b3179c9dac36f173b1c"
 },
 "nbformat": 3,
 "nbformat_minor": 0,
 "worksheets": [
  {
   "cells": [
    {
     "cell_type": "heading",
     "level": 1,
     "metadata": {},
     "source": [
      "Gradient Boosting"
     ]
    },
    {
     "cell_type": "code",
     "collapsed": false,
     "input": [
      "import Orange\n",
      "from Orange.classification import Learner, Model\n",
      "import numpy as np"
     ],
     "language": "python",
     "metadata": {},
     "outputs": [],
     "prompt_number": 1
    },
    {
     "cell_type": "markdown",
     "metadata": {},
     "source": [
      "Razred za Gradient Boosting, ki ustreza Orange-ovem objektu za u\u010denje (Learner) in napovedovanje (Model). Implementirali smo tri razli\u010dne gradiente, ki ustrezajo razli\u010dnim cenovnim funkcijam (funkcijam napak), katerih vrednost minimiziramo."
     ]
    },
    {
     "cell_type": "code",
     "collapsed": false,
     "input": [
      "class GradBoostRLearner(Learner):\n",
      "    \"\"\"Gradient Boosting for Regression.\"\"\"\n",
      "\n",
      "    def __init__(self, learner, n_estimators=10, epsilon=1e-5, loss=\"squared\"):\n",
      "        super().__init__()\n",
      "        self.n_estimators = n_estimators\n",
      "        self.learner = learner  # base learner\n",
      "        self.name = \"gb \" + self.learner.name + \" \" + loss\n",
      "        self.epsilon = epsilon\n",
      "        losses = {\"huber\": self.grad_huber_loss, \n",
      "                  \"squared\": self.grad_squared_loss, \n",
      "                  \"abs\": self.grad_abs_loss}\n",
      "        self.loss = losses[loss]\n",
      "        \n",
      "    def grad_squared_loss(self, y, f):\n",
      "        \"\"\"Negative gradiant for squared loss.\"\"\"\n",
      "        return y - f\n",
      "    \n",
      "    def grad_abs_loss(self, y, f):\n",
      "        \"\"\"Negative gradient for absolute loss.\"\"\"\n",
      "        return np.sign(y - f)\n",
      "    \n",
      "    def grad_huber_loss(self, y, f, delta=0.5):\n",
      "        \"\"\"Negative gradient for Huber loss.\"\"\"\n",
      "        r0 = y - f\n",
      "        r1 = delta * np.sign(r0)\n",
      "        return np.vstack((r0, r1)).T[np.arange(y.shape[0]), (np.abs(r0)>delta).astype(int)]\n",
      "    \n",
      "    def fit_storage(self, data):\n",
      "        \"\"\"Fitter. Learns a set of models for gradient boosting.\"\"\"\n",
      "        ml = Orange.regression.MeanLearner()\n",
      "        model = ml(data)\n",
      "        y = data.Y\n",
      "        f = model(data)\n",
      "        res = self.loss(y, f)\n",
      "        models = [model]\n",
      "        \n",
      "        for i in range(self.n_estimators):\n",
      "            data = Orange.data.Table(data.X, res)\n",
      "            model = self.learner(data)\n",
      "            f += model(data)\n",
      "            res = self.loss(y, f)\n",
      "            models.append(model)\n",
      "        return GradBoostRModel(models)\n",
      "    \n",
      "class GradBoostRModel(Model):\n",
      "    \"\"\"Classifier for gradient boosting.\"\"\"\n",
      "    def __init__(self, models):\n",
      "        self.models = models\n",
      "    \n",
      "    def predict(self, X):\n",
      "        \"\"\"Given a data instance or table of data instances returns predicted class.\"\"\"\n",
      "        return sum([m(X) for m in self.models])"
     ],
     "language": "python",
     "metadata": {},
     "outputs": [],
     "prompt_number": 2
    },
    {
     "cell_type": "markdown",
     "metadata": {},
     "source": [
      "Podatki za testiranje."
     ]
    },
    {
     "cell_type": "code",
     "collapsed": false,
     "input": [
      "X = np.random.rand(100, 2)\n",
      "y = X[:, 0] ** 2 + X[:, 1] ** 2 + 3 * X[:, 0] * X[:, 1]\n",
      "poly = Orange.data.Table(X, y)\n",
      "\n",
      "housing = Orange.data.Table(\"housing\")"
     ],
     "language": "python",
     "metadata": {},
     "outputs": [],
     "prompt_number": 3
    },
    {
     "cell_type": "markdown",
     "metadata": {},
     "source": [
      "U\u010dni algoritmi."
     ]
    },
    {
     "cell_type": "code",
     "collapsed": false,
     "input": [
      "ml = Orange.regression.MeanLearner()\n",
      "stree = Orange.classification.SimpleTreeLearner(max_depth=3)\n",
      "rf = Orange.classification.SimpleRandomForestLearner(n_estimators=50)\n",
      "lr = Orange.regression.LinearRegressionLearner()\n",
      "gb_sq = GradBoostRLearner(stree, n_estimators=50, loss=\"squared\")\n",
      "gb_abs = GradBoostRLearner(stree, n_estimators=50, loss=\"abs\")\n",
      "gb_huber = GradBoostRLearner(stree, n_estimators=50, loss=\"huber\")"
     ],
     "language": "python",
     "metadata": {},
     "outputs": [],
     "prompt_number": 4
    },
    {
     "cell_type": "code",
     "collapsed": false,
     "input": [
      "learners = [ml, lr, rf, gb_sq, gb_abs, gb_huber]\n",
      "res = Orange.evaluation.CrossValidation(poly, learners, k=10)"
     ],
     "language": "python",
     "metadata": {},
     "outputs": [],
     "prompt_number": 5
    },
    {
     "cell_type": "code",
     "collapsed": false,
     "input": [
      "print(\"\\n\".join(\"{:>30} {:.2f}\".format(m.name, r)\n",
      "                for m, r in zip(learners, Orange.evaluation.RMSE(res))))"
     ],
     "language": "python",
     "metadata": {},
     "outputs": [
      {
       "output_type": "stream",
       "stream": "stdout",
       "text": [
        "                          mean 1.10\n",
        "                        linreg 0.31\n",
        "                     simple rf 0.36\n",
        "        gb simple tree squared 0.32\n",
        "            gb simple tree abs 2.43\n",
        "          gb simple tree huber 0.28\n"
       ]
      }
     ],
     "prompt_number": 6
    }
   ],
   "metadata": {}
  }
 ]
}