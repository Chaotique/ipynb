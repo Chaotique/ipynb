{
 "cells": [
  {
   "cell_type": "code",
   "execution_count": 2,
   "metadata": {
    "collapsed": true
   },
   "outputs": [],
   "source": [
    "from operator import itemgetter\n",
    "from math import log2"
   ]
  },
  {
   "cell_type": "markdown",
   "metadata": {},
   "source": [
    "Viterbi algorithm\n",
    "========="
   ]
  },
  {
   "cell_type": "code",
   "execution_count": 3,
   "metadata": {
    "collapsed": false
   },
   "outputs": [],
   "source": [
    "start_p = {\"F\": 0.5, \"L\": 0.5}\n",
    "E = {(\"F\", \"o\"): 0.5, (\"F\", \"-\"): 0.5, (\"L\", \"o\"): 0.9, (\"L\", \"-\"): 0.1}\n",
    "T = {(\"F\", \"F\"): 0.8, (\"F\", \"L\"): 0.2, \n",
    "     (\"L\", \"F\"): 0.1, (\"L\", \"L\"): 0.9}\n",
    "states = start_p.keys()\n",
    "x = \"-o-o-oo--oooo-o\""
   ]
  },
  {
   "cell_type": "markdown",
   "metadata": {},
   "source": [
    "Viterbi in probability space\n",
    "--------------------------"
   ]
  },
  {
   "cell_type": "code",
   "execution_count": 4,
   "metadata": {
    "collapsed": false
   },
   "outputs": [],
   "source": [
    "V = []  # probability of the most probable path ending in state k with observation xi\n",
    "P = []  # a previous state for which transition was most probable\n",
    "\n",
    "for xi in x:\n",
    "    prev = {l: max((V[-1][k] * T[k, l], k) for k in states) if V else (start_p[l], \"0\")\n",
    "            for l in states}\n",
    "    V.append({l: E[l, xi] * prev[l][0] for l in states})\n",
    "    P.append({l: prev[l][1] for l in states})\n"
   ]
  },
  {
   "cell_type": "code",
   "execution_count": 5,
   "metadata": {
    "collapsed": false
   },
   "outputs": [
    {
     "data": {
      "text/plain": [
       "([{'F': 0.25, 'L': 0.05},\n",
       "  {'F': 0.1, 'L': 0.045000000000000005},\n",
       "  {'F': 0.04000000000000001, 'L': 0.004050000000000001},\n",
       "  {'F': 0.016000000000000004, 'L': 0.0072000000000000015},\n",
       "  {'F': 0.006400000000000002, 'L': 0.0006480000000000001},\n",
       "  {'F': 0.002560000000000001, 'L': 0.0011520000000000005},\n",
       "  {'F': 0.0010240000000000004, 'L': 0.0009331200000000005},\n",
       "  {'F': 0.0004096000000000002, 'L': 8.398080000000005e-05},\n",
       "  {'F': 0.00016384000000000008, 'L': 8.192000000000004e-06},\n",
       "  {'F': 6.553600000000003e-05, 'L': 2.9491200000000013e-05},\n",
       "  {'F': 2.6214400000000015e-05, 'L': 2.3887872000000012e-05},\n",
       "  {'F': 1.0485760000000006e-05, 'L': 1.934917632000001e-05},\n",
       "  {'F': 4.1943040000000025e-06, 'L': 1.5672832819200008e-05},\n",
       "  {'F': 1.6777216000000011e-06, 'L': 1.410554953728001e-06},\n",
       "  {'F': 6.710886400000005e-07, 'L': 1.1425495125196809e-06}],\n",
       " [{'F': '0', 'L': '0'},\n",
       "  {'F': 'F', 'L': 'F'},\n",
       "  {'F': 'F', 'L': 'L'},\n",
       "  {'F': 'F', 'L': 'F'},\n",
       "  {'F': 'F', 'L': 'L'},\n",
       "  {'F': 'F', 'L': 'F'},\n",
       "  {'F': 'F', 'L': 'L'},\n",
       "  {'F': 'F', 'L': 'L'},\n",
       "  {'F': 'F', 'L': 'F'},\n",
       "  {'F': 'F', 'L': 'F'},\n",
       "  {'F': 'F', 'L': 'L'},\n",
       "  {'F': 'F', 'L': 'L'},\n",
       "  {'F': 'F', 'L': 'L'},\n",
       "  {'F': 'F', 'L': 'L'},\n",
       "  {'F': 'F', 'L': 'L'}])"
      ]
     },
     "execution_count": 5,
     "metadata": {},
     "output_type": "execute_result"
    }
   ],
   "source": [
    "V, P"
   ]
  },
  {
   "cell_type": "code",
   "execution_count": 6,
   "metadata": {
    "collapsed": false
   },
   "outputs": [
    {
     "name": "stdout",
     "output_type": "stream",
     "text": [
      "End state: L. P=0.0000\n"
     ]
    }
   ],
   "source": [
    "end_state, prob = max(V[-1].items(), key=itemgetter(1))\n",
    "print(\"End state: {}. P={:.4f}\".format(end_state, prob))"
   ]
  },
  {
   "cell_type": "code",
   "execution_count": 7,
   "metadata": {
    "collapsed": false
   },
   "outputs": [
    {
     "name": "stdout",
     "output_type": "stream",
     "text": [
      "Path: FFFFFFFFFLLLLLL\n"
     ]
    }
   ],
   "source": [
    "path = [end_state]\n",
    "for prev in reversed(P[1:]):\n",
    "    path.append(prev[path[-1]])\n",
    "path.reverse()\n",
    "print(\"Path: {}\".format(\"\".join(path)))"
   ]
  },
  {
   "cell_type": "markdown",
   "metadata": {},
   "source": [
    "Viterbi in log space\n",
    "-------------------"
   ]
  },
  {
   "cell_type": "code",
   "execution_count": 8,
   "metadata": {
    "collapsed": false
   },
   "outputs": [],
   "source": [
    "V = []  # probability of the most probable path ending in state k with observation xi\n",
    "P = []  # a previous state for which transition was most probable\n",
    "\n",
    "TL = {k: log2(v) for k, v in T.items()}\n",
    "EL = {k: log2(v) for k, v in E.items()}\n",
    "SL = {k: log2(v) for k, v in start_p.items()}\n",
    "    \n",
    "for xi in x:\n",
    "    prev = {l: max((V[-1][k] + TL[k, l], k) for k in states) if V else (SL[l], \"0\")\n",
    "            for l in states}\n",
    "    V.append({l: EL[l, xi] + prev[l][0] for l in states})\n",
    "    P.append({l: prev[l][1] for l in states})"
   ]
  },
  {
   "cell_type": "code",
   "execution_count": 9,
   "metadata": {
    "collapsed": false
   },
   "outputs": [
    {
     "name": "stdout",
     "output_type": "stream",
     "text": [
      "Path: FFFFFFFFFLLLLLL\n"
     ]
    }
   ],
   "source": [
    "path = [end_state]\n",
    "for prev in reversed(P[1:]):\n",
    "    path.append(prev[path[-1]])\n",
    "path.reverse()\n",
    "print(\"Path: {}\".format(\"\".join(path)))"
   ]
  },
  {
   "cell_type": "markdown",
   "metadata": {},
   "source": [
    "Viterbi in a nice function\n",
    "-------------------------"
   ]
  },
  {
   "cell_type": "code",
   "execution_count": 10,
   "metadata": {
    "collapsed": true
   },
   "outputs": [],
   "source": [
    "def viterbi(s, T, E, P0):\n",
    "    \"\"\"\n",
    "    Return most probable state path given sequence,\n",
    "    transition and emission matrix\n",
    "    \"\"\"\n",
    "    T = {k: log2(v) for k, v in T.items()}\n",
    "    E = {k: log2(v) for k, v in E.items()}\n",
    "    P0 = {k: log2(v) for k, v in P0.items()}\n",
    "    states = start_p.keys()\n",
    "    \n",
    "    V, P = [], []\n",
    "    for si in s:\n",
    "        prev = {l: max((V[-1][k] + T[k, l], k) for k in states) if V else (P0[l], \"0\")\n",
    "                for l in states}\n",
    "        V.append({l: E[l, si] + prev[l][0] for l in states})\n",
    "        P.append({l: prev[l][1] for l in states})\n",
    "\n",
    "    end_state, prob = max(V[-1].items(), key=itemgetter(1))\n",
    "    path = [end_state]\n",
    "    for prev in reversed(P[1:]):\n",
    "        path.append(prev[path[-1]])\n",
    "    path.reverse()\n",
    "    return path, prob, V, P"
   ]
  },
  {
   "cell_type": "markdown",
   "metadata": {},
   "source": [
    "Try a function on a loaded coin case\n",
    "---"
   ]
  },
  {
   "cell_type": "code",
   "execution_count": 96,
   "metadata": {
    "collapsed": true
   },
   "outputs": [],
   "source": [
    "P0 = {\"F\": 0.5, \"L\": 0.5}\n",
    "E = {(\"F\", \"o\"): 0.5, (\"F\", \"-\"): 0.5, (\"L\", \"o\"): 0.9, (\"L\", \"-\"): 0.1}\n",
    "T = {(\"F\", \"F\"): 0.8, (\"F\", \"L\"): 0.2, \n",
    "     (\"L\", \"F\"): 0.1, (\"L\", \"L\"): 0.9}\n",
    "x = \"-o-o-oo--oooo-o\""
   ]
  },
  {
   "cell_type": "code",
   "execution_count": 97,
   "metadata": {
    "collapsed": false
   },
   "outputs": [
    {
     "name": "stdout",
     "output_type": "stream",
     "text": [
      "Path: FFFFFFFFFLLLLLL\n",
      "Probability: 1.143e-06\n"
     ]
    }
   ],
   "source": [
    "path, p, dpt, P = viterbi(x, T, E, P0)\n",
    "print(\"Path: {}\".format(\"\".join(path)))\n",
    "print(\"Probability: {:.3e}\".format(2**p))"
   ]
  },
  {
   "cell_type": "markdown",
   "metadata": {},
   "source": [
    "Joint probability of observed sequence x and a path\n",
    "---"
   ]
  },
  {
   "cell_type": "code",
   "execution_count": 116,
   "metadata": {
    "collapsed": true
   },
   "outputs": [],
   "source": [
    "from operator import mul\n",
    "from functools import reduce\n",
    "\n",
    "def pair_walk(s):\n",
    "    \"\"\"Generate k-mers from a sequence\"\"\"\n",
    "    for i in range(len(s)-1):\n",
    "        yield s[i], s[i+1]\n",
    "\n",
    "product = lambda x: reduce(mul, x, 1)\n",
    "\n",
    "def joint_probability(x, path, T, E, P0):\n",
    "    p = P0[path[0]]\n",
    "    p *= product(E[s1, xi] * T[s1, s2] for (xi, (s1, s2)) in zip(x, pair_walk(path)))\n",
    "    p *= E[path[-1], x[-1]]\n",
    "    return p"
   ]
  },
  {
   "cell_type": "code",
   "execution_count": 117,
   "metadata": {
    "collapsed": false
   },
   "outputs": [
    {
     "name": "stdout",
     "output_type": "stream",
     "text": [
      "2.856e-08 LFFFFFFFFLLLLLL\n"
     ]
    }
   ],
   "source": [
    "jp = joint_probability(x, path, T, E, P0)\n",
    "print(\"{:.3e} {}\".format(jp, \"\".join(path)))"
   ]
  },
  {
   "cell_type": "code",
   "execution_count": 118,
   "metadata": {
    "collapsed": false
   },
   "outputs": [
    {
     "name": "stdout",
     "output_type": "stream",
     "text": [
      "1.763e-09 LFFFFFFFFLLLLLF\n"
     ]
    }
   ],
   "source": [
    "path[-1] = \"F\"\n",
    "jp = joint_probability(x, path, T, E, P0)\n",
    "print(\"{:.3e} {}\".format(jp, \"\".join(path)))"
   ]
  },
  {
   "cell_type": "code",
   "execution_count": 119,
   "metadata": {
    "collapsed": false
   },
   "outputs": [
    {
     "name": "stdout",
     "output_type": "stream",
     "text": [
      "2.856e-08 LFFFFFFFFLLLLLL\n"
     ]
    }
   ],
   "source": [
    "path[-1] = \"L\"; path[0] = \"L\"\n",
    "jp = joint_probability(x, path, T, E, P0)\n",
    "print(\"{:.3e} {}\".format(jp, \"\".join(path)))"
   ]
  },
  {
   "cell_type": "markdown",
   "metadata": {},
   "source": [
    "Going crazy\n",
    "-----------\n",
    "Construct a random path, compute joint probability, report best path every 1000 paths. Assume the same probability for the states and multinomial model. (This is of course a wrong solution to the problem and is rather an academic exercise -- consider increasing the problem to longer paths)."
   ]
  },
  {
   "cell_type": "code",
   "execution_count": 138,
   "metadata": {
    "collapsed": false
   },
   "outputs": [
    {
     "name": "stdout",
     "output_type": "stream",
     "text": [
      "         0 6.754e-10 LLFLLLLLFLLLLLL\n",
      "      1000 1.376e-07 FFFFFFFFFFFFLLL\n",
      "      2000 1.376e-07 FFFFFFFFFFFFLLL\n",
      "      3000 3.020e-07 FFFFFFFFFFFFFFL\n",
      "      4000 3.020e-07 FFFFFFFFFFFFFFL\n",
      "      5000 3.020e-07 FFFFFFFFFFFFFFL\n",
      "      6000 3.020e-07 FFFFFFFFFFFFFFL\n",
      "      7000 3.020e-07 FFFFFFFFFFFFFFL\n",
      "      8000 3.020e-07 FFFFFFFFFFFFFFL\n",
      "      9000 3.020e-07 FFFFFFFFFFFFFFL\n",
      "     10000 3.020e-07 FFFFFFFFFFFFFFL\n",
      "     11000 3.020e-07 FFFFFFFFFFFFFFL\n",
      "     12000 3.020e-07 FFFFFFFFFFFFFFL\n",
      "     13000 3.020e-07 FFFFFFFFFFFFFFL\n",
      "     14000 3.020e-07 FFFFFFFFFFFFFFL\n",
      "     15000 3.020e-07 FFFFFFFFFFFFFFL\n",
      "     16000 3.020e-07 FFFFFFFFFFFFFFL\n",
      "     17000 3.020e-07 FFFFFFFFFFFFFFL\n",
      "     18000 3.020e-07 FFFFFFFFFFFFFFL\n",
      "     19000 1.143e-06 FFFFFFFFFLLLLLL\n"
     ]
    }
   ],
   "source": [
    "import random\n",
    "random.seed(42)\n",
    "states = tuple(P0.keys())\n",
    "best_jp, best_path = 0, None\n",
    "for i in range(20000):\n",
    "    r_path = \"\".join(random.choice(states) for _ in x)\n",
    "    jp = joint_probability(x, r_path, T, E, P0)\n",
    "    if jp > best_jp:\n",
    "        best_jp, best_path = jp, r_path\n",
    "    if not (i % 1000):\n",
    "        print(\"{:10d} {:.3e} {}\".format(i, best_jp, \"\".join(best_path)))\n",
    "    "
   ]
  },
  {
   "cell_type": "code",
   "execution_count": null,
   "metadata": {
    "collapsed": true
   },
   "outputs": [],
   "source": []
  }
 ],
 "metadata": {
  "kernelspec": {
   "display_name": "Python 3",
   "language": "python",
   "name": "python3"
  },
  "language_info": {
   "codemirror_mode": {
    "name": "ipython",
    "version": 3
   },
   "file_extension": ".py",
   "mimetype": "text/x-python",
   "name": "python",
   "nbconvert_exporter": "python",
   "pygments_lexer": "ipython3",
   "version": "3.4.2"
  }
 },
 "nbformat": 4,
 "nbformat_minor": 0
}
