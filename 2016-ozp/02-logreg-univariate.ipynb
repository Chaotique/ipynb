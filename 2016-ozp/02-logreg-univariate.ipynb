{
 "cells": [
  {
   "cell_type": "code",
   "execution_count": 1,
   "metadata": {
    "collapsed": true
   },
   "outputs": [],
   "source": [
    "import numpy as np\n",
    "from sklearn import datasets\n",
    "from matplotlib import pyplot as plt\n",
    "%matplotlib inline\n",
    "from scipy.optimize import fmin_l_bfgs_b"
   ]
  },
  {
   "cell_type": "markdown",
   "metadata": {},
   "source": [
    "# Logistična regresija (univariatni primer)"
   ]
  },
  {
   "cell_type": "markdown",
   "metadata": {},
   "source": [
    "Logistično regresijo smo razvili na enostavnem primeru z enim samim atributom. Ker gre za iskanje modela, ki izhodno spremenljivko y izračuna kot funkcijo ene same vhodne spremenljivke, problem imenujemo [univariatni](https://en.wikipedia.org/wiki/Univariate). V praksi bomo seveda delali s problemi z večimi atributi, torej z multivariatnimi probleme, a je univariaten čisto pučen ker ga je enostavno izrisati."
   ]
  },
  {
   "cell_type": "markdown",
   "metadata": {},
   "source": [
    "## Podatki"
   ]
  },
  {
   "cell_type": "markdown",
   "metadata": {},
   "source": [
    "Pričnemo s podatki, ki jih bomo tokrat kar generirali. Na predavanjih smo omenili, da bi lahko razumeli tako domene kot napovedovanje, ali bo pri določeni temperaturi (vhodna spremenljivka x) deževalo (y=1) ali snežilo (y=0). Pozor: y je tu kategorična spremenljivka; v opisu problema zavzame namreč samo števno število vrednosti. V našem primeru zavzame dve možni vrednosti, ki pa jih v namene izračunljivosti predlaganega modela vseeno predstavimo številčno, torej z 0 in 1."
   ]
  },
  {
   "cell_type": "code",
   "execution_count": 2,
   "metadata": {
    "collapsed": false
   },
   "outputs": [],
   "source": [
    "n1, n0 = 20, 30\n",
    "X = np.concatenate((np.random.normal(0, 1, n0), np.random.normal(3, 1, n1)))\n",
    "X = np.column_stack((np.ones(len(X)), X))\n",
    "y = np.concatenate((np.zeros(n0), np.ones(n1)))"
   ]
  },
  {
   "cell_type": "code",
   "execution_count": 3,
   "metadata": {
    "collapsed": false
   },
   "outputs": [
    {
     "data": {
      "image/png": "[encoded data removed]",
      "text/plain": [
       "<matplotlib.figure.Figure at 0x1084ca0f0>"
      ]
     },
     "metadata": {},
     "output_type": "display_data"
    }
   ],
   "source": [
    "plt.plot(X[:,1], y, \"o\")\n",
    "plt.ylim(-0.2, 1.2);"
   ]
  },
  {
   "cell_type": "markdown",
   "metadata": {},
   "source": [
    "## Linearna regresija"
   ]
  },
  {
   "cell_type": "markdown",
   "metadata": {},
   "source": [
    "Če je y predstavljena številčno, si bi morda lahko drznili podatke vseeno modelirati z linearno regresijo. Bolj za okus, saj je izhodna domena takega modela vsa realna števila. To pa za naš problem, ki je kategoričen, ni najbolje. Napovedani y bi sicer morda lahko razumeli kot neke vrste verjetnost, a imamo tudi tu probleme, saj je za nekatere vrednosti vhodnega atributa x izhod modela ali manjši od 0 ali pa večji kot 1. To bi sicer lahko v modelu popravili (kako?), a potem dobimo funkcijo, ki ni odvedljiva. Hujši problem pa bi bil dodatek primerov, ki recimo pravijo, da dežuje tudi pri visokih temperaturah. H kakšnim spremembam linerarne funkcije bi taki podatki vodili? V čem bi bil problem? \n",
    "\n",
    "Uf, zastavili smo vse polno vprašanj, model pa je pravzaprav preprost (čeprav, kot smo zgoraj nakazali, ne preveč uporaben). A vseeno, za vajo in ponovitev linearne regresije, sledi njena preprosta implementacije (brez regularizacije)."
   ]
  },
  {
   "cell_type": "code",
   "execution_count": 4,
   "metadata": {
    "collapsed": false
   },
   "outputs": [],
   "source": [
    "def J_lin(X, y, theta):\n",
    "    return 0.5 * sum((X.dot(theta) - y)**2)\n",
    "\n",
    "def dJ_lin(X, y, theta):\n",
    "    return (X.dot(theta) - y).dot(X)\n",
    "\n",
    "def lin(X, y):\n",
    "    res = fmin_l_bfgs_b(lambda theta, X=X, y=y: J_lin(X, y, theta),\n",
    "                        np.zeros(X.shape[1]).T,\n",
    "                        lambda theta, X=X, y=y: dJ_lin(X, y, theta))\n",
    "    return res[0]"
   ]
  },
  {
   "cell_type": "code",
   "execution_count": 5,
   "metadata": {
    "collapsed": false
   },
   "outputs": [],
   "source": [
    "theta = lin(X, y)"
   ]
  },
  {
   "cell_type": "markdown",
   "metadata": {},
   "source": [
    "Zmislimo si dve točki (dve vrednosti atributa x), pri katerih izračunamo napoved (y). Zakaj smo že dodali kolono enic?"
   ]
  },
  {
   "cell_type": "code",
   "execution_count": 6,
   "metadata": {
    "collapsed": true
   },
   "outputs": [],
   "source": [
    "T = np.array([[1., -2], [1., 5]])"
   ]
  },
  {
   "cell_type": "code",
   "execution_count": 7,
   "metadata": {
    "collapsed": false
   },
   "outputs": [],
   "source": [
    "yt = T.dot(theta)"
   ]
  },
  {
   "cell_type": "code",
   "execution_count": 8,
   "metadata": {
    "collapsed": false
   },
   "outputs": [
    {
     "data": {
      "image/png": "[encoded data removed]",
      "text/plain": [
       "<matplotlib.figure.Figure at 0x10b314128>"
      ]
     },
     "metadata": {},
     "output_type": "display_data"
    }
   ],
   "source": [
    "plt.plot(X[:,1], y, \"o\")\n",
    "plt.ylim(-0.2, 1.2);\n",
    "plt.plot(T[:,1], yt, \"-\");"
   ]
  },
  {
   "cell_type": "markdown",
   "metadata": {},
   "source": [
    "Še prikaz uporabe modela za neko poljubno vrednost x-a:"
   ]
  },
  {
   "cell_type": "code",
   "execution_count": 9,
   "metadata": {
    "collapsed": false
   },
   "outputs": [
    {
     "data": {
      "text/plain": [
       "-21.074273790071032"
      ]
     },
     "execution_count": 9,
     "metadata": {},
     "output_type": "execute_result"
    }
   ],
   "source": [
    "np.array([1.0, -100]).dot(theta)"
   ]
  },
  {
   "cell_type": "markdown",
   "metadata": {},
   "source": [
    "## Logistična funkcija"
   ]
  },
  {
   "cell_type": "markdown",
   "metadata": {},
   "source": [
    "V namene modeliranja bi bilo fino, da namesto dežja (y=1) ali snega (y=0) napovemo verjetnost dežja. Torej, rabimo model, ki za dano vrednost spremenljivke x vrne vrednost med 0 in 1. Fino je, če bi bila taka napovedna funkcija odvedljiva, torej gladka. To storimo tako, da linearno funkcijo zapakiramo v funkcijo g, sigmoidno funkcijo. Najprej določimo g, tako, da kot njen parameter lahko podamo tako skalar kot tudi vektor. Kaj ta funkcija vrne, če ji kot parameter podamo vektor?"
   ]
  },
  {
   "cell_type": "code",
   "execution_count": 10,
   "metadata": {
    "collapsed": true
   },
   "outputs": [],
   "source": [
    "def g(z):\n",
    "    return 1 / (1 + np.exp(-z))"
   ]
  },
  {
   "cell_type": "code",
   "execution_count": 11,
   "metadata": {
    "collapsed": false
   },
   "outputs": [
    {
     "data": {
      "text/plain": [
       "(0.5, 4.5397868702434395e-05, 0.99995460213129761)"
      ]
     },
     "execution_count": 11,
     "metadata": {},
     "output_type": "execute_result"
    }
   ],
   "source": [
    "g(0), g(-10), g(10)"
   ]
  },
  {
   "cell_type": "code",
   "execution_count": 12,
   "metadata": {
    "collapsed": false
   },
   "outputs": [
    {
     "data": {
      "text/plain": [
       "array([  5.00000000e-01,   4.53978687e-05,   9.99954602e-01])"
      ]
     },
     "execution_count": 12,
     "metadata": {},
     "output_type": "execute_result"
    }
   ],
   "source": [
    "g(np.array([0, -10, 10]))"
   ]
  },
  {
   "cell_type": "code",
   "execution_count": 13,
   "metadata": {
    "collapsed": false
   },
   "outputs": [
    {
     "data": {
      "image/png": "[encoded data removed]",
      "text/plain": [
       "<matplotlib.figure.Figure at 0x10b3af668>"
      ]
     },
     "metadata": {},
     "output_type": "display_data"
    }
   ],
   "source": [
    "z = np.linspace(-10, 10, 100)\n",
    "plt.plot(z, g(z));"
   ]
  },
  {
   "cell_type": "markdown",
   "metadata": {},
   "source": [
    "## Logistična regresija, končno :-)"
   ]
  },
  {
   "cell_type": "markdown",
   "metadata": {},
   "source": [
    "Zdaj pa zares. Na predavanjih smo izpeljali kriterijsko funkcijo in gradient za logistično regresijo. Implementacija obeh je spodaj. Uporabimo ju pri funkciji, ki nam izračuna parametre modela, tako, da je verjetnost opaženih učnih podatkov (X,y), če bi jih ta model generiral, največja."
   ]
  },
  {
   "cell_type": "code",
   "execution_count": 14,
   "metadata": {
    "collapsed": false
   },
   "outputs": [],
   "source": [
    "def J_lr(X, y, theta):\n",
    "    yh = g(X.dot(theta))\n",
    "    return -sum(y*np.log(yh) + (1-y)*np.log(1-yh))\n",
    "\n",
    "def dJ_lr(X, y, theta):\n",
    "    return (g(X.dot(theta))-y).dot(X)\n",
    "\n",
    "def lr(X, y):\n",
    "    res = fmin_l_bfgs_b(lambda theta, X=X, y=y: J_lr(X, y, theta),\n",
    "                        np.zeros(X.shape[1]),\n",
    "                        lambda theta, X=X, y=y: dJ_lr(X, y, theta))\n",
    "    return res[0]"
   ]
  },
  {
   "cell_type": "markdown",
   "metadata": {},
   "source": [
    "Kakšne so koeficienti modela za naše podatke? Kakšna je funkcija, ki preslika vrednost atributa x v verjetnost za dež?"
   ]
  },
  {
   "cell_type": "code",
   "execution_count": 15,
   "metadata": {
    "collapsed": false
   },
   "outputs": [
    {
     "data": {
      "text/plain": [
       "array([-3.3545414 ,  2.04832619])"
      ]
     },
     "execution_count": 15,
     "metadata": {},
     "output_type": "execute_result"
    }
   ],
   "source": [
    "lr(X, y)"
   ]
  },
  {
   "cell_type": "code",
   "execution_count": 16,
   "metadata": {
    "collapsed": false
   },
   "outputs": [
    {
     "data": {
      "image/png": "[encoded data removed]",
      "text/plain": [
       "<matplotlib.figure.Figure at 0x10bc8e978>"
      ]
     },
     "metadata": {},
     "output_type": "display_data"
    }
   ],
   "source": [
    "plt.plot(X[:,1], y, \"o\")\n",
    "plt.ylim(-0.2, 1.2);\n",
    "T = np.linspace(-2, 6, 100)\n",
    "T = np.column_stack((np.ones(len(T)), T))\n",
    "theta = lr(X, y)\n",
    "plt.plot(T[:,1], g(T.dot(theta)));"
   ]
  },
  {
   "cell_type": "markdown",
   "metadata": {
    "collapsed": true
   },
   "source": [
    "## Kaj še?"
   ]
  },
  {
   "cell_type": "markdown",
   "metadata": {},
   "source": [
    "Skušaj spremeniti podatke in opazuj, kaj se dogaja z modelom. Bi znal iz parametrov modela izračunati, pri katerem x ima P(y=1) vrednost 0.5? Zakaj je ta točka pomembna?"
   ]
  }
 ],
 "metadata": {
  "kernelspec": {
   "display_name": "Python 3",
   "language": "python",
   "name": "python3"
  },
  "language_info": {
   "codemirror_mode": {
    "name": "ipython",
    "version": 3
   },
   "file_extension": ".py",
   "mimetype": "text/x-python",
   "name": "python",
   "nbconvert_exporter": "python",
   "pygments_lexer": "ipython3",
   "version": "3.5.0"
  }
 },
 "nbformat": 4,
 "nbformat_minor": 0
}
