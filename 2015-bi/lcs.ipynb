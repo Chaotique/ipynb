{
 "cells": [
  {
   "cell_type": "markdown",
   "metadata": {},
   "source": [
    "##Longest Common Subsequence"
   ]
  },
  {
   "cell_type": "markdown",
   "metadata": {},
   "source": [
    "The longest common subsequence (LCS) of sequences s and t is the longest sequence of elements from s and t that are common between the two sequences and in the same order in each sequence. An LCS of TTCG and TCCGA is thus TCG."
   ]
  },
  {
   "cell_type": "code",
   "execution_count": 49,
   "metadata": {},
   "outputs": [],
   "source": [
    "from collections import defaultdict\n",
    "import random"
   ]
  },
  {
   "cell_type": "code",
   "execution_count": 50,
   "metadata": {},
   "outputs": [],
   "source": [
    "s = \"AACCTTGG\"\n",
    "t = \"ACACTGTGA\"\n",
    "s, t = \"TCCGA\", \"TCG\"\n",
    "# s = \"\".join(random.choice([\"A\", \"C\", \"T\", \"G\"]) for _ in range(1000))\n",
    "# t = \"\".join(random.choice([\"A\", \"C\", \"T\", \"G\"]) for _ in range(1000))"
   ]
  },
  {
   "cell_type": "code",
   "execution_count": 51,
   "metadata": {},
   "outputs": [],
   "source": [
    "def lcs(s, t):\n",
    "    M = defaultdict(int)  # initialisation\n",
    "    prev = {}  # indices of the \"best\" predecessor in the alignment\n",
    "    for i, si in enumerate(s):\n",
    "        for j, tj in enumerate(t):\n",
    "            M[i, j], prev[i, j] = max(\n",
    "                (M[i-1, j-1] + (1 if si == tj else 0), (i-1, j-1)),\n",
    "                (M[i-1, j], (i-1, j)),\n",
    "                (M[i, j-1], (i, j-1))\n",
    "            )\n",
    "    return M, prev"
   ]
  },
  {
   "cell_type": "code",
   "execution_count": 52,
   "metadata": {},
   "outputs": [],
   "source": [
    "def traceback(s, t, table, prev):\n",
    "    i, j = len(s)-1, len(t)-1\n",
    "    res = \"\"\n",
    "    while table[i, j] !=0:\n",
    "        if prev[i, j] == (i-1, j-1) and (s[i]==t[j]):\n",
    "            res = s[i] + res\n",
    "        i, j = prev[i, j]\n",
    "    return res"
   ]
  },
  {
   "cell_type": "code",
   "execution_count": 53,
   "metadata": {},
   "outputs": [
    {
     "name": "stdout",
     "output_type": "stream",
     "text": [
      "LCS has a lenght of 3\n"
     ]
    }
   ],
   "source": [
    "table, prev = lcs(s, t)\n",
    "print(\"LCS has a lenght of\", table[len(s)-1, len(t)-1])"
   ]
  },
  {
   "cell_type": "code",
   "execution_count": 54,
   "metadata": {},
   "outputs": [
    {
     "name": "stdout",
     "output_type": "stream",
     "text": [
      "LCS = TCG\n"
     ]
    }
   ],
   "source": [
    "ss = traceback(s, t, table, prev)\n",
    "print(\"LCS =\", ss)"
   ]
  }
 ],
 "metadata": {
  "kernelspec": {
   "display_name": "Python 3",
   "language": "python",
   "name": "python3"
  },
  "language_info": {
   "codemirror_mode": {
    "name": "ipython",
    "version": 3.0
   },
   "file_extension": ".py",
   "mimetype": "text/x-python",
   "name": "python",
   "nbconvert_exporter": "python",
   "pygments_lexer": "ipython3",
   "version": "3.4.1"
  }
 },
 "nbformat": 4,
 "nbformat_minor": 0
}