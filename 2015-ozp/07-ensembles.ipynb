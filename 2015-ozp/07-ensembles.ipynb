{
 "metadata": {
  "name": "",
  "signature": "sha256:80a7e4dae5cc30b40d1bed587079890b7e203f2ca33b196ada02c839695bf972"
 },
 "nbformat": 3,
 "nbformat_minor": 0,
 "worksheets": [
  {
   "cells": [
    {
     "cell_type": "heading",
     "level": 1,
     "metadata": {},
     "source": [
      "Bagging"
     ]
    },
    {
     "cell_type": "markdown",
     "metadata": {},
     "source": [
      "Najprej preberemo podatke"
     ]
    },
    {
     "cell_type": "code",
     "collapsed": false,
     "input": [
      "import Orange\n",
      "import numpy as np"
     ],
     "language": "python",
     "metadata": {},
     "outputs": [],
     "prompt_number": 41
    },
    {
     "cell_type": "code",
     "collapsed": false,
     "input": [
      "data = Orange.data.Table(\"imp.tab\")\n",
      "selector = Orange.preprocess.fss.SelectRandomFeatures(k=0.2)\n",
      "data = selector(data)\n",
      "# data = Orange.data.Table(\"housing\")\n",
      "print(data.domain.class_var, len(data), len(data.domain.attributes))"
     ],
     "language": "python",
     "metadata": {},
     "outputs": [
      {
       "output_type": "stream",
       "stream": "stdout",
       "text": [
        "INTENSITY/STRENGTH 280 973\n"
       ]
      }
     ],
     "prompt_number": 262
    },
    {
     "cell_type": "markdown",
     "metadata": {},
     "source": [
      "Na podatkih ovrednotimo nekaj osnovnih regresorjev. Uporabimo regresijska drevesa in linearno regresijo. Za ob\u010dutek dodamo \u0161e elastic net, ki bi naj bil najbolj\u0161i."
     ]
    },
    {
     "cell_type": "code",
     "collapsed": false,
     "input": [
      "tree = Orange.classification.SimpleTreeLearner()\n",
      "lr = Orange.regression.RidgeRegressionLearner()\n",
      "mean = Orange.regression.MeanLearner()\n",
      "elastic = Orange.regression.ElasticNetLearner()"
     ],
     "language": "python",
     "metadata": {},
     "outputs": [],
     "prompt_number": 173
    },
    {
     "cell_type": "code",
     "collapsed": false,
     "input": [
      "res = Orange.evaluation.CrossValidation(data, [tree, lr, mean], k=5)"
     ],
     "language": "python",
     "metadata": {},
     "outputs": [],
     "prompt_number": 166
    },
    {
     "cell_type": "code",
     "collapsed": false,
     "input": [
      "Orange.evaluation.RMSE(res)"
     ],
     "language": "python",
     "metadata": {},
     "outputs": [
      {
       "metadata": {},
       "output_type": "pyout",
       "prompt_number": 167,
       "text": [
        "array([ 26.05975277,  36.24023756,  24.75862269])"
       ]
      }
     ],
     "prompt_number": 167
    },
    {
     "cell_type": "markdown",
     "metadata": {},
     "source": [
      "Drevesa in linearna regresija z L2 regulatrizacijo se obneseta slabo, celo slab\u0161e od napovedi z srednjo vrednostjo."
     ]
    },
    {
     "cell_type": "heading",
     "level": 3,
     "metadata": {},
     "source": [
      "Orange-ov razred za Bagging"
     ]
    },
    {
     "cell_type": "markdown",
     "metadata": {},
     "source": [
      "Orange-ova shema za napovedne modele vedno vsebuje Learner in Model. Bagging bomo implementirali za regresijo, torej privzeli, da nam napovedni modeli vra\u010dajo realne vrednost. Pri klasifikaciji bi stvar morali rahlo zakomplicirati, saj nam klasifikatorji lahko vra\u010dajo ali vrednosti ali pa verjetnosti, pri baggingu pa bi bilo smiselno pravilno obravnavati verjetnosti. Za vse skupaj bi porabili dodatnih nekaj vrstic kode, kar prepu\u0161\u010dam bralcu."
     ]
    },
    {
     "cell_type": "code",
     "collapsed": false,
     "input": [
      "class BaggedLearner(Orange.classification.Learner):\n",
      "    def __init__(self, learner, k=3):\n",
      "        self.k = k\n",
      "        self.learner = learner\n",
      "        self.name = \"bagged \" + self.learner.name\n",
      "    \n",
      "    def __call__(self, data):\n",
      "        models = []\n",
      "        for epoch in range(self.k):\n",
      "            indices = np.random.randint(len(data), size=len(data))\n",
      "            models.append(self.learner(data[indices]))\n",
      "        model = BaggedModel(models)\n",
      "        model.name = self.name\n",
      "        return model\n",
      "\n",
      "class BaggedModel(Orange.classification.Model):\n",
      "    def __init__(self, models):\n",
      "        self.models = models\n",
      "    \n",
      "    def __call__(self, data, ret=Orange.classification.Model.Value):\n",
      "        # print([m(data) for m in self.models])\n",
      "        return np.mean([m(data) for m in self.models], axis=0)"
     ],
     "language": "python",
     "metadata": {},
     "outputs": [],
     "prompt_number": 267
    },
    {
     "cell_type": "code",
     "collapsed": false,
     "input": [
      "bag_tree = BaggedLearner(tree, k=50)\n",
      "bag_lr = BaggedLearner(lr, k=50)"
     ],
     "language": "python",
     "metadata": {},
     "outputs": [],
     "prompt_number": 268
    },
    {
     "cell_type": "code",
     "collapsed": false,
     "input": [
      "learners = [mean, tree, lr, elastic, bag_tree, bag_lr]\n",
      "res = Orange.evaluation.CrossValidation(data, learners, k=3)"
     ],
     "language": "python",
     "metadata": {},
     "outputs": [],
     "prompt_number": 271
    },
    {
     "cell_type": "code",
     "collapsed": false,
     "input": [
      "print(\"\\n\".join(\"%20s %5.2f\" % (learner.name, score) for learner, score in zip(learners, Orange.evaluation.RMSE(res))))"
     ],
     "language": "python",
     "metadata": {},
     "outputs": [
      {
       "output_type": "stream",
       "stream": "stdout",
       "text": [
        "                mean 24.73\n",
        "         simple tree 26.48\n",
        "               ridge 35.95\n",
        "             elastic 19.20\n",
        "  bagged simple tree 18.80\n",
        "        bagged ridge 23.25\n"
       ]
      }
     ],
     "prompt_number": 272
    },
    {
     "cell_type": "heading",
     "level": 3,
     "metadata": {},
     "source": [
      "Randomization"
     ]
    },
    {
     "cell_type": "code",
     "collapsed": false,
     "input": [
      "class RandomizedLearner(Orange.classification.Learner):\n",
      "    def __init__(self, learner, k=3, p=0.1):\n",
      "        self.k = k\n",
      "        self.learner = learner\n",
      "        self.name = \"rand \" + self.learner.name\n",
      "        self.selector = Orange.preprocess.fss.SelectRandomFeatures(k=p)\n",
      "    \n",
      "    def __call__(self, data):\n",
      "        models = []\n",
      "        for epoch in range(self.k):\n",
      "            sample = self.selector(data)\n",
      "            models.append(self.learner(sample))\n",
      "        model = BaggedModel(models)\n",
      "        model.name = self.name\n",
      "        return model"
     ],
     "language": "python",
     "metadata": {},
     "outputs": [],
     "prompt_number": 258
    },
    {
     "cell_type": "code",
     "collapsed": false,
     "input": [
      "rnd_lr = RandomizedLearner(lr, k=10)\n",
      "learners = [lr, rnd_lr]\n",
      "res = Orange.evaluation.CrossValidation(data, learners, k=3)"
     ],
     "language": "python",
     "metadata": {},
     "outputs": [],
     "prompt_number": 265
    },
    {
     "cell_type": "code",
     "collapsed": false,
     "input": [
      "print(\"\\n\".join(\"%20s %5.2f\" % (learner.name, score) for learner, score in zip(learners, Orange.evaluation.RMSE(res))))"
     ],
     "language": "python",
     "metadata": {},
     "outputs": [
      {
       "output_type": "stream",
       "stream": "stdout",
       "text": [
        "               ridge 35.95\n",
        "          rand ridge 19.47\n"
       ]
      }
     ],
     "prompt_number": 266
    },
    {
     "cell_type": "heading",
     "level": 3,
     "metadata": {},
     "source": [
      "Random forest"
     ]
    },
    {
     "cell_type": "code",
     "collapsed": false,
     "input": [
      "forest = Orange.classification.RandomForestLearner(n_estimators=10)\n",
      "forest = Orange.classification.SimpleRandomForestLearner(n_estimators=10)\n",
      "learners = [tree, forest, elastic, rnd_lr]\n",
      "res = Orange.evaluation.CrossValidation(data, learners, k=3)"
     ],
     "language": "python",
     "metadata": {},
     "outputs": [],
     "prompt_number": 263
    },
    {
     "cell_type": "code",
     "collapsed": false,
     "input": [
      "print(\"\\n\".join(\"%20s %5.2f\" % (learner.name, score) for learner, score in zip(learners, Orange.evaluation.RMSE(res))))"
     ],
     "language": "python",
     "metadata": {},
     "outputs": [
      {
       "output_type": "stream",
       "stream": "stdout",
       "text": [
        "         simple tree 26.48\n",
        "           simple rf 20.26\n",
        "             elastic 19.20\n",
        "          rand ridge 20.11\n"
       ]
      }
     ],
     "prompt_number": 264
    },
    {
     "cell_type": "code",
     "collapsed": false,
     "input": [],
     "language": "python",
     "metadata": {},
     "outputs": []
    }
   ],
   "metadata": {}
  }
 ]
}