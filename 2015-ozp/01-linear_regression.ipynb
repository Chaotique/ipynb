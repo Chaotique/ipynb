{
 "cells": [
  {
   "cell_type": "code",
   "execution_count": 2,
   "metadata": {
    "collapsed": false
   },
   "outputs": [],
   "source": [
    "import numpy as np\n",
    "from matplotlib import pyplot as plt\n",
    "%matplotlib inline"
   ]
  },
  {
   "cell_type": "markdown",
   "metadata": {},
   "source": [
    "# Create Some Data"
   ]
  },
  {
   "cell_type": "code",
   "execution_count": 5,
   "metadata": {
    "collapsed": false
   },
   "outputs": [],
   "source": [
    "np.random.seed(42)\n",
    "x = np.random.random_sample(30)\n",
    "y = 0.5 + x + np.random.normal(0, 0.1, len(x))"
   ]
  },
  {
   "cell_type": "code",
   "execution_count": 6,
   "metadata": {
    "collapsed": false
   },
   "outputs": [
    {
     "data": {
      "image/png": "[encoded data removed]",
      "text/plain": [
       "<matplotlib.figure.Figure at 0x107b73940>"
      ]
     },
     "metadata": {},
     "output_type": "display_data"
    }
   ],
   "source": [
    "plt.plot(x, y, \"o\");"
   ]
  },
  {
   "cell_type": "code",
   "execution_count": 4,
   "metadata": {
    "collapsed": false
   },
   "outputs": [],
   "source": [
    "X = np.column_stack((np.ones(len(x)), x))"
   ]
  },
  {
   "cell_type": "code",
   "execution_count": 5,
   "metadata": {
    "collapsed": false
   },
   "outputs": [
    {
     "data": {
      "text/plain": [
       "array([[ 1.        ,  0.37454012],\n",
       "       [ 1.        ,  0.95071431],\n",
       "       [ 1.        ,  0.73199394],\n",
       "       [ 1.        ,  0.59865848],\n",
       "       [ 1.        ,  0.15601864],\n",
       "       [ 1.        ,  0.15599452],\n",
       "       [ 1.        ,  0.05808361],\n",
       "       [ 1.        ,  0.86617615],\n",
       "       [ 1.        ,  0.60111501],\n",
       "       [ 1.        ,  0.70807258]])"
      ]
     },
     "execution_count": 5,
     "metadata": {},
     "output_type": "execute_result"
    }
   ],
   "source": [
    "X"
   ]
  },
  {
   "cell_type": "markdown",
   "metadata": {},
   "source": [
    "# Linear Regression"
   ]
  },
  {
   "cell_type": "code",
   "execution_count": 6,
   "metadata": {
    "collapsed": false
   },
   "outputs": [],
   "source": [
    "def gradient_descent(X, y, alpha=0.01, epochs=1000):\n",
    "    \"\"\"For a matrix x and vector y return a linear regression model.\"\"\"\n",
    "    theta = np.zeros(X.shape[1]).T\n",
    "    for i in range(epochs):\n",
    "        theta = theta - alpha * (X.dot(theta) - y).dot(X)\n",
    "    return theta"
   ]
  },
  {
   "cell_type": "code",
   "execution_count": 7,
   "metadata": {
    "collapsed": false
   },
   "outputs": [],
   "source": [
    "theta = gradient_descent(X, y)"
   ]
  },
  {
   "cell_type": "code",
   "execution_count": 8,
   "metadata": {
    "collapsed": false
   },
   "outputs": [
    {
     "data": {
      "image/png": "[encoded data removed]",
      "text/plain": [
       "<matplotlib.figure.Figure at 0x10f078780>"
      ]
     },
     "metadata": {},
     "output_type": "display_data"
    }
   ],
   "source": [
    "%matplotlib inline\n",
    "mm = np.array([min(X[:, 1]), max(X[:, 1])])\n",
    "Xmm = np.column_stack((np.ones(len(mm)), mm))\n",
    "plt.plot(x, y, \"o\");\n",
    "plt.plot(Xmm, Xmm.dot(theta));"
   ]
  },
  {
   "cell_type": "code",
   "execution_count": 9,
   "metadata": {
    "collapsed": false
   },
   "outputs": [
    {
     "name": "stdout",
     "output_type": "stream",
     "text": [
      "Populating the interactive namespace from numpy and matplotlib\n"
     ]
    }
   ],
   "source": [
    "%pylab osx\n",
    "def traced_gradient_descent(X, y, alpha=0.01, epochs=1000):\n",
    "    \"\"\"For a matrix x and vector y return a linear regression model.\"\"\"\n",
    "    theta = np.zeros(X.shape[1]).T\n",
    "    for i in range(epochs):\n",
    "        theta = theta - alpha * (X.dot(theta) - y).dot(X)\n",
    "        mm = np.array([min(X[:, 1]), max(X[:, 1])])\n",
    "        Xmm = np.column_stack((np.ones(len(mm)), mm))\n",
    "        plt.close()\n",
    "        plt.plot(x, y, \"o\");\n",
    "        plt.plot(xmm, Xmm.dot(theta))\n",
    "        plt.savefig(\"tmp/%03d.png\" % i)\n",
    "    return theta\n",
    "%matplotlib inline"
   ]
  },
  {
   "cell_type": "markdown",
   "metadata": {},
   "source": [
    "# Exact Solution"
   ]
  },
  {
   "cell_type": "code",
   "execution_count": 10,
   "metadata": {
    "collapsed": false
   },
   "outputs": [],
   "source": [
    "def analytical(X, y):\n",
    "    return numpy.linalg.inv(X.T.dot(X)).dot(X.T.dot(y))"
   ]
  },
  {
   "cell_type": "markdown",
   "metadata": {},
   "source": [
    "# Polynomial Regression"
   ]
  },
  {
   "cell_type": "code",
   "execution_count": 11,
   "metadata": {
    "collapsed": false
   },
   "outputs": [],
   "source": [
    "def poly_expand(X, k=9):\n",
    "    for _ in range(k-1):\n",
    "        X = np.hstack((X, np.multiply(X[:, 1], X[:, -1]).reshape(len(X), 1)))\n",
    "    return X"
   ]
  },
  {
   "cell_type": "code",
   "execution_count": 20,
   "metadata": {
    "collapsed": false
   },
   "outputs": [],
   "source": [
    "poly_degree = 6\n",
    "Z = poly_expand(X, poly_degree)\n",
    "theta = analytical(Z, y)"
   ]
  },
  {
   "cell_type": "code",
   "execution_count": 21,
   "metadata": {
    "collapsed": false
   },
   "outputs": [
    {
     "data": {
      "image/png": "[encoded data removed]",
      "text/plain": [
       "<matplotlib.figure.Figure at 0x10f296240>"
      ]
     },
     "metadata": {},
     "output_type": "display_data"
    }
   ],
   "source": [
    "plt.plot(Z[:, 1], y, \"o\")\n",
    "xmin, xmax = Z[:, 1].min(), Z[:, 1].max()\n",
    "x_e = np.arange(xmin, xmax, (xmax-xmin)/100.)\n",
    "x_e = np.vstack((np.ones(len(x_e)), x_e)).T\n",
    "x_e = poly_expand(x_e, poly_degree)\n",
    "plt.plot(x_e[:, 1], x_e.dot(theta));"
   ]
  },
  {
   "cell_type": "code",
   "execution_count": 14,
   "metadata": {
    "collapsed": false
   },
   "outputs": [
    {
     "data": {
      "text/plain": [
       "array([  8.16367802e+00,  -2.39058280e+02,   2.45538574e+03,\n",
       "        -1.13030795e+04,   2.69855591e+04,  -3.48087313e+04,\n",
       "         2.30411548e+04,  -6.14050687e+03])"
      ]
     },
     "execution_count": 14,
     "metadata": {},
     "output_type": "execute_result"
    }
   ],
   "source": [
    "theta"
   ]
  },
  {
   "cell_type": "markdown",
   "metadata": {},
   "source": [
    "# Regularization"
   ]
  },
  {
   "cell_type": "code",
   "execution_count": 15,
   "metadata": {
    "collapsed": false
   },
   "outputs": [],
   "source": [
    "def regularized(X, y, r=0.1):\n",
    "    L = np.eye(X.shape[1]) * r\n",
    "    L[0] = 0\n",
    "    return numpy.linalg.pinv(X.T.dot(X) + L).dot(X.T.dot(y))"
   ]
  },
  {
   "cell_type": "code",
   "execution_count": 16,
   "metadata": {
    "collapsed": false
   },
   "outputs": [
    {
     "data": {
      "text/plain": [
       "array([ 0.66666565,  0.70289269, -0.1217962 , -0.28924435, -0.24671833,\n",
       "       -0.15534204, -0.05860226,  0.03240896,  0.11507416,  0.18886789])"
      ]
     },
     "execution_count": 16,
     "metadata": {},
     "output_type": "execute_result"
    }
   ],
   "source": [
    "poly_degree = 9\n",
    "Z = poly_expand(X, poly_degree)\n",
    "theta = regularized(Z, y, r=0.01)\n",
    "theta"
   ]
  },
  {
   "cell_type": "code",
   "execution_count": 17,
   "metadata": {
    "collapsed": false
   },
   "outputs": [
    {
     "data": {
      "image/png": "[encoded data removed]",
      "text/plain": [
       "<matplotlib.figure.Figure at 0x10f1d89b0>"
      ]
     },
     "metadata": {},
     "output_type": "display_data"
    }
   ],
   "source": [
    "plt.plot(Z[:, 1], y, \"o\")\n",
    "xmin, xmax = Z[:, 1].min(), Z[:, 1].max()\n",
    "x_e = np.arange(xmin, xmax, (xmax-xmin)/100.)\n",
    "x_e = np.vstack((np.ones(len(x_e)), x_e)).T\n",
    "x_e = poly_expand(x_e, poly_degree)\n",
    "plt.plot(x_e[:, 1], x_e.dot(theta));"
   ]
  }
 ],
 "metadata": {
  "kernelspec": {
   "display_name": "Python 3",
   "language": "python",
   "name": "python3"
  },
  "language_info": {
   "codemirror_mode": {
    "name": "ipython",
    "version": 3
   },
   "file_extension": ".py",
   "mimetype": "text/x-python",
   "name": "python",
   "nbconvert_exporter": "python",
   "pygments_lexer": "ipython3",
   "version": "3.4.1"
  }
 },
 "nbformat": 4,
 "nbformat_minor": 0
}
