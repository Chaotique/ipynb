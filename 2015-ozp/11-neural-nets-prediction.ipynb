{
 "metadata": {
  "name": "",
  "signature": "sha256:a7658bc07ea199bcf7f4e9732457e1169d7cc9de9632d7584e9dfcb97b68992a"
 },
 "nbformat": 3,
 "nbformat_minor": 0,
 "worksheets": [
  {
   "cells": [
    {
     "cell_type": "heading",
     "level": 1,
     "metadata": {},
     "source": [
      "Nevronske mre\u017ee: construkcija mre\u017ee in parametrov za funkcijo XOR"
     ]
    },
    {
     "cell_type": "code",
     "collapsed": false,
     "input": [
      "import numpy as np\n",
      "from matplotlib import pyplot as plt\n",
      "%matplotlib inline"
     ],
     "language": "python",
     "metadata": {},
     "outputs": [],
     "prompt_number": 1
    },
    {
     "cell_type": "code",
     "collapsed": false,
     "input": [
      "def g(z):\n",
      "    return 1/(1+np.exp(-z))"
     ],
     "language": "python",
     "metadata": {},
     "outputs": [],
     "prompt_number": 2
    },
    {
     "cell_type": "code",
     "collapsed": false,
     "input": [
      "x = np.arange(-5, 5, 0.1)\n",
      "plt.plot(x, g(x));"
     ],
     "language": "python",
     "metadata": {},
     "outputs": [
      {
       "metadata": {},
       "output_type": "display_data",
       "png": "[encoded data removed]",
       "text": [
        "<matplotlib.figure.Figure at 0x10926c208>"
       ]
      }
     ],
     "prompt_number": 3
    },
    {
     "cell_type": "code",
     "collapsed": false,
     "input": [
      "X = np.array([[0, 0], [0, 1], [1, 0], [1, 1]])\n",
      "def add_ones(X):\n",
      "    return np.column_stack((np.ones(len(X)), X))\n",
      "X = add_ones(X)"
     ],
     "language": "python",
     "metadata": {},
     "outputs": [],
     "prompt_number": 4
    },
    {
     "cell_type": "heading",
     "level": 3,
     "metadata": {},
     "source": [
      "AND"
     ]
    },
    {
     "cell_type": "code",
     "collapsed": false,
     "input": [
      "theta = np.array([-30, 20, 20])\n",
      "y = g(X.dot(theta))"
     ],
     "language": "python",
     "metadata": {},
     "outputs": [],
     "prompt_number": 5
    },
    {
     "cell_type": "code",
     "collapsed": false,
     "input": [
      "for x in X:\n",
      "    print(\"%d %d -> %3.1f\" % (x[1], x[2], g(x.dot(theta))))"
     ],
     "language": "python",
     "metadata": {},
     "outputs": [
      {
       "output_type": "stream",
       "stream": "stdout",
       "text": [
        "0 0 -> 0.0\n",
        "0 1 -> 0.0\n",
        "1 0 -> 0.0\n",
        "1 1 -> 1.0\n"
       ]
      }
     ],
     "prompt_number": 6
    },
    {
     "cell_type": "heading",
     "level": 3,
     "metadata": {},
     "source": [
      "OR"
     ]
    },
    {
     "cell_type": "code",
     "collapsed": false,
     "input": [
      "theta = np.array([-10, 20, 20])\n",
      "for x in X:\n",
      "    print(\"%d %d -> %3.1f\" % (x[1], x[2], g(x.dot(theta))))"
     ],
     "language": "python",
     "metadata": {},
     "outputs": [
      {
       "output_type": "stream",
       "stream": "stdout",
       "text": [
        "0 0 -> 0.0\n",
        "0 1 -> 1.0\n",
        "1 0 -> 1.0\n",
        "1 1 -> 1.0\n"
       ]
      }
     ],
     "prompt_number": 7
    },
    {
     "cell_type": "heading",
     "level": 3,
     "metadata": {},
     "source": [
      "NOR"
     ]
    },
    {
     "cell_type": "code",
     "collapsed": false,
     "input": [
      "theta = np.array([10, -20, -20])\n",
      "for x in X:\n",
      "    print(\"%d %d -> %3.1f\" % (x[1], x[2], g(x.dot(theta))))"
     ],
     "language": "python",
     "metadata": {},
     "outputs": [
      {
       "output_type": "stream",
       "stream": "stdout",
       "text": [
        "0 0 -> 1.0\n",
        "0 1 -> 0.0\n",
        "1 0 -> 0.0\n",
        "1 1 -> 0.0\n"
       ]
      }
     ],
     "prompt_number": 8
    },
    {
     "cell_type": "heading",
     "level": 3,
     "metadata": {},
     "source": [
      "NOT"
     ]
    },
    {
     "cell_type": "code",
     "collapsed": false,
     "input": [
      "theta = np.array([10, -20, 0])\n",
      "for x in X:\n",
      "    print(\"%d %d -> %3.1f\" % (x[1], x[2], g(x.dot(theta))))"
     ],
     "language": "python",
     "metadata": {},
     "outputs": [
      {
       "output_type": "stream",
       "stream": "stdout",
       "text": [
        "0 0 -> 1.0\n",
        "0 1 -> 1.0\n",
        "1 0 -> 0.0\n",
        "1 1 -> 0.0\n"
       ]
      }
     ],
     "prompt_number": 9
    },
    {
     "cell_type": "heading",
     "level": 3,
     "metadata": {},
     "source": [
      "XOR"
     ]
    },
    {
     "cell_type": "markdown",
     "metadata": {},
     "source": [
      "Funkcijo XOR(x1, x2) bomo implementirali kot AND(x1, x2) OR NOR(x1, x2) = OR(AND(x1, x2), NOR(x1, x2))"
     ]
    },
    {
     "cell_type": "code",
     "collapsed": false,
     "input": [
      "X = np.array([[0, 0], [0, 1], [1, 0], [1, 1]])\n",
      "a1 = add_ones(X)\n",
      "theta1 = np.array([[-30, 10], [20, -20], [20, -20]])\n",
      "z2 = a1.dot(theta1)\n",
      "a2 = add_ones(g(z2))\n",
      "theta2 = np.array([[-10], [20], [20]])\n",
      "z3 = a2.dot(theta2)\n",
      "a3 = g(z3)\n",
      "y = a3"
     ],
     "language": "python",
     "metadata": {},
     "outputs": [],
     "prompt_number": 10
    },
    {
     "cell_type": "code",
     "collapsed": false,
     "input": [
      "for xi, yi in zip(X, y):\n",
      "    print(\"%d %d -> %3.1f\" % (xi[0], xi[1], yi))"
     ],
     "language": "python",
     "metadata": {},
     "outputs": [
      {
       "output_type": "stream",
       "stream": "stdout",
       "text": [
        "0 0 -> 1.0\n",
        "0 1 -> 0.0\n",
        "1 0 -> 0.0\n",
        "1 1 -> 1.0\n"
       ]
      }
     ],
     "prompt_number": 11
    },
    {
     "cell_type": "code",
     "collapsed": false,
     "input": [
      "class FeedForward:\n",
      "    def __init__(self, theta1, theta2):\n",
      "        self.theta1 = theta1\n",
      "        self.theta2 = theta2\n",
      "        \n",
      "    def __call__(self, x):\n",
      "        a1 = add_ones(x)\n",
      "        z2 = a1.dot(theta1)\n",
      "        a2 = add_ones(g(z2))\n",
      "        z3 = a2.dot(theta2)\n",
      "        return g(z3)"
     ],
     "language": "python",
     "metadata": {},
     "outputs": [],
     "prompt_number": 12
    },
    {
     "cell_type": "code",
     "collapsed": false,
     "input": [
      "theta1 = np.array([[-25, 15], [20, -20], [20, -20]])\n",
      "theta2 = np.array([[-10], [20], [20]])\n",
      "ff = FeedForward(theta1, theta2)"
     ],
     "language": "python",
     "metadata": {},
     "outputs": [],
     "prompt_number": 13
    },
    {
     "cell_type": "code",
     "collapsed": false,
     "input": [
      "X = np.array([[0, 0], [0, 1], [1, 0], [1, 1]])\n",
      "ff(X)"
     ],
     "language": "python",
     "metadata": {},
     "outputs": [
      {
       "metadata": {},
       "output_type": "pyout",
       "prompt_number": 14,
       "text": [
        "array([[  9.99954602e-01],\n",
        "       [  5.93329772e-05],\n",
        "       [  5.93329772e-05],\n",
        "       [  9.99954602e-01]])"
       ]
      }
     ],
     "prompt_number": 14
    },
    {
     "cell_type": "code",
     "collapsed": false,
     "input": [
      "n = 50\n",
      "X = np.array(list(zip(np.random.rand(n), np.random.rand(n))))"
     ],
     "language": "python",
     "metadata": {},
     "outputs": [],
     "prompt_number": 15
    },
    {
     "cell_type": "code",
     "collapsed": false,
     "input": [
      "cls = [int(yi>=0.5) for yi in ff(X).reshape(-1)]\n",
      "plt.scatter(X[:, 0], X[:, 1], color=np.array([\"g\", \"b\"])[cls]);"
     ],
     "language": "python",
     "metadata": {},
     "outputs": [
      {
       "metadata": {},
       "output_type": "display_data",
       "png": "[encoded data removed]",
       "text": [
        "<matplotlib.figure.Figure at 0x10926c160>"
       ]
      }
     ],
     "prompt_number": 16
    },
    {
     "cell_type": "markdown",
     "metadata": {},
     "source": [
      "Te podatke lahko shranimo in jih drugje uporabimo za testiranje u\u010dnega algoritma, ki ga bomo napisali pri doma\u010di nalogi. Kak\u0161ne parametre modela (thete) bi moral iz teh podatkov na\u0161 u\u010dni algoritem dobiti?"
     ]
    },
    {
     "cell_type": "code",
     "collapsed": false,
     "input": [
      "import Orange\n",
      "data = Orange.data.Table(X, cls)\n",
      "data.save(\"xor.tab\")"
     ],
     "language": "python",
     "metadata": {},
     "outputs": [],
     "prompt_number": 17
    }
   ],
   "metadata": {}
  }
 ]
}