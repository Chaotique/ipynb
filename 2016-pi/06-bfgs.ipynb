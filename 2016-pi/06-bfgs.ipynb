{
 "cells": [
  {
   "cell_type": "code",
   "execution_count": 1,
   "metadata": {
    "collapsed": false
   },
   "outputs": [],
   "source": [
    "import numpy as np\n",
    "from scipy.optimize import fmin_l_bfgs_b\n",
    "import matplotlib.pyplot as plt\n",
    "%matplotlib inline"
   ]
  },
  {
   "cell_type": "markdown",
   "metadata": {},
   "source": [
    "# Minimum funkcije in algoritem BFGS"
   ]
  },
  {
   "cell_type": "markdown",
   "metadata": {},
   "source": [
    "Iščemo mimum funkcije $(\\theta_0-2)^2+(\\theta_1-3)^2-42$. Funkcijo in njen gradient zapišemo tako, da ima kot parametre vektor $\\Theta$."
   ]
  },
  {
   "cell_type": "code",
   "execution_count": 2,
   "metadata": {
    "collapsed": true
   },
   "outputs": [],
   "source": [
    "def cost(theta):\n",
    "    return (theta[0]-2)**2 + (theta[1]-3)**2 - 42\n",
    "\n",
    "def grad(theta):\n",
    "    return np.array([2*(theta[0]-2), 2*(theta[1]-3)])"
   ]
  },
  {
   "cell_type": "code",
   "execution_count": 3,
   "metadata": {
    "collapsed": false
   },
   "outputs": [
    {
     "data": {
      "text/plain": [
       "(-29, array([-4, -6]))"
      ]
     },
     "execution_count": 3,
     "metadata": {},
     "output_type": "execute_result"
    }
   ],
   "source": [
    "theta = np.array([0, 0])\n",
    "cost(theta), grad(theta)"
   ]
  },
  {
   "cell_type": "markdown",
   "metadata": {},
   "source": [
    "Za iskanje minimuma uporabimo funkcijo fmin_l_bfgs_b ki implementira algoritem [Broyden–Fletcher–Goldfarb–Shanno z omejenim spominom](https://en.wikipedia.org/wiki/Limited-memory_BFGS)."
   ]
  },
  {
   "cell_type": "code",
   "execution_count": 4,
   "metadata": {
    "collapsed": false
   },
   "outputs": [
    {
     "data": {
      "text/plain": [
       "(array([ 2.,  3.]),\n",
       " -42.0,\n",
       " {'funcalls': 3,\n",
       "  'grad': array([ 0.,  0.]),\n",
       "  'nit': 2,\n",
       "  'task': b'CONVERGENCE: NORM_OF_PROJECTED_GRADIENT_<=_PGTOL',\n",
       "  'warnflag': 0})"
      ]
     },
     "execution_count": 4,
     "metadata": {},
     "output_type": "execute_result"
    }
   ],
   "source": [
    "theta0 = np.array([0, 0])\n",
    "res = fmin_l_bfgs_b(cost, theta0, grad)\n",
    "res"
   ]
  },
  {
   "cell_type": "markdown",
   "metadata": {},
   "source": [
    "Rezultati se ujemajo s pričakovanji. Naša cenovna funkcija ima minimum v točki [2, 3], vrednost funkcije v tej točki je -17, konvergenca algoritma pa je izjemno hitra, saj je minimum našel s samo tremi klici kriterijske funkcije in njenega gradienta."
   ]
  },
  {
   "cell_type": "markdown",
   "metadata": {},
   "source": [
    "# Metoda končnih razlik"
   ]
  },
  {
   "cell_type": "markdown",
   "metadata": {},
   "source": [
    "Vedno se splača preveriti, ali smo funkcijo, ki izračuna gradient, implenentirali pravilno oziroma ali je analitična rešitev (izračun gradienta) prava glede na cenovno funkcijo. Eden od načinov, kako to preverimo je, da gradient izračunamo z metodo končnih razlik. Gradient računamo pri izbrani vrednosti parametrov $\\Theta$. Če bi imeli opravka s funkcijo enega samega parametra, bi z metodo končnih razlik odvod ocenili kot $f((\\theta+\\epsilon)-f(\\theta-\\epsilon)/(2\\epsilon)$. Ker pa imamo opravka s funkcijo več parametrov ($\\Theta$ je vektor) parcialne odvode izračunamo tako, da vsakič spreminjamo enega izmed parametrov."
   ]
  },
  {
   "cell_type": "code",
   "execution_count": 5,
   "metadata": {
    "collapsed": true
   },
   "outputs": [],
   "source": [
    "def grad_approx(f, theta, e=1e-3):\n",
    "    return np.array([(f(theta+eps) - f(theta-eps))/(2*e)\n",
    "                     for eps in np.identity(len(theta)) * e])"
   ]
  },
  {
   "cell_type": "code",
   "execution_count": 6,
   "metadata": {
    "collapsed": false
   },
   "outputs": [
    {
     "data": {
      "text/plain": [
       "(array([-4., -6.]), array([-4, -6]))"
      ]
     },
     "execution_count": 6,
     "metadata": {},
     "output_type": "execute_result"
    }
   ],
   "source": [
    "grad_approx(cost, theta0), grad(theta0)"
   ]
  },
  {
   "cell_type": "markdown",
   "metadata": {},
   "source": [
    "Dela! Gradienta sta enaka. Seveda bo pri bolj kompleksnih kriterijskih funkcijah ta enakost približna in tudi odvisna od vrednosti $\\epsilon$."
   ]
  },
  {
   "cell_type": "markdown",
   "metadata": {},
   "source": [
    "# Linearna regresija"
   ]
  },
  {
   "cell_type": "markdown",
   "metadata": {},
   "source": [
    "Algoritma L-BFGS sedaj uporabimo za linearno regresijo. Za podatke uporabimo zbirko housing."
   ]
  },
  {
   "cell_type": "code",
   "execution_count": 7,
   "metadata": {
    "collapsed": false
   },
   "outputs": [
    {
     "name": "stdout",
     "output_type": "stream",
     "text": [
      "Examples: 506\n",
      "Attributes: 13\n"
     ]
    }
   ],
   "source": [
    "import Orange\n",
    "data = Orange.data.Table(\"housing\")\n",
    "print(\"Examples: %d\" % len(data))\n",
    "print(\"Attributes: %d\" % len(data.domain.attributes))"
   ]
  },
  {
   "cell_type": "markdown",
   "metadata": {},
   "source": [
    "Orange-ov objekt `data` vsebuje opis spremenljivk ter dve tabeli, tabelo atributov $X$ in vektor razredov $y$. Ker bomo tu potrebovali samo ta dva zapisa, in ker sta ta že v zapisu numpy, uvedemo novi spremenljivki, ki kažeta na te objekte. Matriko $X$ razširimo s kolono enic za računanje $\\theta_0$."
   ]
  },
  {
   "cell_type": "code",
   "execution_count": 8,
   "metadata": {
    "collapsed": false
   },
   "outputs": [],
   "source": [
    "X, y = data.X, data.Y\n",
    "X = np.column_stack((np.ones(len(X)), X))"
   ]
  },
  {
   "cell_type": "markdown",
   "metadata": {},
   "source": [
    "Za linearno regresijo zapišemo cenovno funkcijo in funkcijo, ki vrača gradient."
   ]
  },
  {
   "cell_type": "code",
   "execution_count": 9,
   "metadata": {
    "collapsed": false
   },
   "outputs": [],
   "source": [
    "def J(theta, X, y):\n",
    "    return (1 / (2 * len(data))) * np.sum((X.dot(theta) - y)**2)\n",
    "\n",
    "def grad(theta, X, y):\n",
    "    return (1 / len(data)) * (X.dot(theta) - y).dot(X)"
   ]
  },
  {
   "cell_type": "code",
   "execution_count": 10,
   "metadata": {
    "collapsed": false
   },
   "outputs": [],
   "source": [
    "theta0 = np.zeros(X.shape[1])"
   ]
  },
  {
   "cell_type": "code",
   "execution_count": 11,
   "metadata": {
    "collapsed": false
   },
   "outputs": [
    {
     "data": {
      "text/plain": [
       "(array([  3.57967712e+01,  -1.08093081e-01,   4.66882362e-02,\n",
       "          2.13456086e-02,   2.64074512e+00,  -1.77178974e+01,\n",
       "          3.85310804e+00,   8.50473295e-04,  -1.47132044e+00,\n",
       "          3.03650373e-01,  -1.22674708e-02,  -9.38811529e-01,\n",
       "          9.42404540e-03,  -5.22704439e-01]),\n",
       " 10.948023361492092,\n",
       " {'funcalls': 2557,\n",
       "  'grad': array([-0.00088407, -0.00499033,  0.00982557,  0.00709474, -0.00335345,\n",
       "         -0.00076431,  0.0021781 ,  0.03443767,  0.00132969,  0.00575186,\n",
       "          0.30465147,  0.02588604,  0.21551422,  0.0034818 ]),\n",
       "  'nit': 2212,\n",
       "  'task': b'CONVERGENCE: REL_REDUCTION_OF_F_<=_FACTR*EPSMCH',\n",
       "  'warnflag': 0})"
      ]
     },
     "execution_count": 11,
     "metadata": {},
     "output_type": "execute_result"
    }
   ],
   "source": [
    "res = fmin_l_bfgs_b(J, x0=theta0, args=(X, y), fprime=grad)\n",
    "res"
   ]
  },
  {
   "cell_type": "markdown",
   "metadata": {},
   "source": [
    "Tudi tu je, glede na velikost podatkov, konvergenca hitra. Ne vemo sicer, kako dober je model. V tej točki bi morali oceniti napovedno točno modela (prečno preverjanje) ter pregledati, ali je model skladen z domenskim znanjem oziroma ali so uteži atributov ($\\Theta$) smiselne. Za končno uporabo in interpretacijo bi morali podatke ustrezno normalizirati (vsaki koloni odštejemo povprečne vrednosti in delimo s standardno deviacijo)."
   ]
  },
  {
   "cell_type": "markdown",
   "metadata": {},
   "source": [
    "## Preiskus delovanja na sintetični podatkih"
   ]
  },
  {
   "cell_type": "markdown",
   "metadata": {},
   "source": [
    "Ker ni lepo, da ostanemo samo z nekim seznamom parametrov (zgoraj), tu preverimo delovanje linearne regresije, kot smo jo implementirali, na sintetičnih podatkih. In sicer bomo te generirali za funkcijo $y=3x+42$, kjer pa bomo poleg kolone z vrednostjo $x$ dodali tudi kolono z naključnimi števili. Lahko bi takih, naključnih kolon dodali več, a boo tu dodali eno samo."
   ]
  },
  {
   "cell_type": "code",
   "execution_count": 12,
   "metadata": {
    "collapsed": false
   },
   "outputs": [],
   "source": [
    "m = 10\n",
    "xs = np.arange(0, m, 1)\n",
    "y = (3 * xs + 42)  + np.random.normal(0, 3, m)\n",
    "X = np.array([[i, np.random.rand()*m] for i in xs])\n",
    "X = np.column_stack((np.ones(len(X)), X))"
   ]
  },
  {
   "cell_type": "code",
   "execution_count": 13,
   "metadata": {
    "collapsed": false
   },
   "outputs": [
    {
     "data": {
      "text/plain": [
       "(array([ 43.23395491,   2.27972901,   0.52357615]),\n",
       " 0.039912864085048398,\n",
       " {'funcalls': 12,\n",
       "  'grad': array([  8.48707069e-11,   4.17596357e-10,   6.32623714e-10]),\n",
       "  'nit': 10,\n",
       "  'task': b'CONVERGENCE: NORM_OF_PROJECTED_GRADIENT_<=_PGTOL',\n",
       "  'warnflag': 0})"
      ]
     },
     "execution_count": 13,
     "metadata": {},
     "output_type": "execute_result"
    }
   ],
   "source": [
    "theta0 = np.zeros(X.shape[1])\n",
    "res = fmin_l_bfgs_b(J, x0=theta0, args=(X, y), fprime=grad)\n",
    "res"
   ]
  },
  {
   "cell_type": "code",
   "execution_count": 14,
   "metadata": {
    "collapsed": false
   },
   "outputs": [
    {
     "data": {
      "image/png": "[encoded data removed]",
      "text/plain": [
       "<matplotlib.figure.Figure at 0x1091b50b8>"
      ]
     },
     "metadata": {},
     "output_type": "display_data"
    }
   ],
   "source": [
    "plt.plot(X[:, 1], y, \"o\")\n",
    "p = np.array([[1, 0, 0], [1, 10, 0]])\n",
    "plt.plot(p[:, 1], p.dot(res[0]));"
   ]
  },
  {
   "cell_type": "markdown",
   "metadata": {},
   "source": [
    "Dela. Tudi parametre modela kar dobro zadane, glede na to, da je primerov samo 10. Z zvišanjem števila primerov dobimo še boljo oceno parametrov. Poskusi!"
   ]
  }
 ],
 "metadata": {
  "kernelspec": {
   "display_name": "Python 3",
   "language": "python",
   "name": "python3"
  },
  "language_info": {
   "codemirror_mode": {
    "name": "ipython",
    "version": 3
   },
   "file_extension": ".py",
   "mimetype": "text/x-python",
   "name": "python",
   "nbconvert_exporter": "python",
   "pygments_lexer": "ipython3",
   "version": "3.5.2"
  }
 },
 "nbformat": 4,
 "nbformat_minor": 1
}
