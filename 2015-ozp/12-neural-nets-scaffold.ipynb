{
 "cells": [
  {
   "cell_type": "markdown",
   "metadata": {},
   "source": [
    "# Nevronska Mreža"
   ]
  },
  {
   "cell_type": "markdown",
   "metadata": {},
   "source": [
    "Spodaj je delna implementacija nevronske mreže, kot smo jo pričeli snovati na predavanjih. Manjka ključni del: implementacija algoritma za učenje. Za domačo nalogo bo tudi potreben popravek, ki mrežo prilagodi za večrazredne probleme (če se ne motim, bo ta potreben samo za eno vrstico v funkciji predict). Objekta za učenje in napovedovanje sta pisana skladno z zahtevami za tovrstne objekte v Orange-u, prilagoditve za sklearn vam ne bi smele vzeti dosti časa."
   ]
  },
  {
   "cell_type": "markdown",
   "metadata": {},
   "source": [
    "### Sigmoidna funkcija in dodajanje enic"
   ]
  },
  {
   "cell_type": "code",
   "execution_count": 1,
   "metadata": {
    "collapsed": true
   },
   "outputs": [],
   "source": [
    "import numpy as np\n",
    "import Orange\n",
    "\n",
    "def g(z):\n",
    "    return 1/(1+np.exp(-z))\n",
    "\n",
    "def add_ones(X):\n",
    "    return np.column_stack((np.ones(len(X)), X))"
   ]
  },
  {
   "cell_type": "markdown",
   "metadata": {},
   "source": [
    "### Learner"
   ]
  },
  {
   "cell_type": "code",
   "execution_count": 2,
   "metadata": {
    "collapsed": true
   },
   "outputs": [],
   "source": [
    "class NeuralNetLearner(Orange.classification.Learner):\n",
    "    def __init__(self, arch, lambda_=1e-5):\n",
    "        super().__init__()\n",
    "        self.arch = arch\n",
    "        self.lambda_ = lambda_\n",
    "        self.name = \"ann\"\n",
    "\n",
    "        self.theta_shape = np.array([(arch[i]+1, arch[i+1])\n",
    "                                     for i in range(len(arch)-1)])\n",
    "        ind = np.array([s1*s2 for s1, s2 in self.theta_shape])\n",
    "        self.theta_ind = np.cumsum(ind[:-1])\n",
    "        self.theta_len = sum(ind)\n",
    "\n",
    "    def init_thetas(self, epsilon=1e-5):\n",
    "        return np.random.rand(self.theta_len) * 2 * epsilon - epsilon\n",
    "\n",
    "    def shape_thetas(self, thetas):\n",
    "        t = np.split(thetas, self.theta_ind)\n",
    "        return [t[i].reshape(shape) for i, shape in enumerate(self.theta_shape)]\n",
    "\n",
    "    def h(self, a, thetas):\n",
    "        \"\"\"feed forward, prediction\"\"\"\n",
    "        thetas = self.shape_thetas(thetas)\n",
    "        for theta in thetas:\n",
    "            a = g(add_ones(a).dot(theta))\n",
    "        return a\n",
    "\n",
    "    def J(self, thetas):\n",
    "        # use matrix and vector operations. could be written in a single line\n",
    "        # use self.m as stored by the fit function\n",
    "        pass\n",
    "\n",
    "    def grad_approx(self, thetas, e=1e-1):\n",
    "        return np.array([(self.J(thetas+eps) - self.J(thetas-eps))/(2*e)\n",
    "                         for eps in np.identity(len(thetas)) * e])\n",
    "\n",
    "    def backprop(self, thetas):\n",
    "        # cca 10 lines of code\n",
    "        pass\n",
    "\n",
    "    def fit(self, X, y, W=None):\n",
    "        self.X, self.y = X, y\n",
    "        self.m = self.X.shape[0]\n",
    "        thetas = self.init_thetas()\n",
    "\n",
    "        thetas, fmin, info = fmin_l_bfgs_b(self.J, thetas, self.backprop,\n",
    "                                           callback=self.callback,\n",
    "                                           factr=10)\n",
    "\n",
    "        model = NeuralNetClassifier(self.domain, thetas)\n",
    "        model.h = self.h\n",
    "        return model\n",
    "\n",
    "    def test(self, a):\n",
    "        thetas = np.array([-30, 10, 20, -20, 20, -20, -10, 20, 20])\n",
    "        print(self.h(a, thetas))"
   ]
  },
  {
   "cell_type": "markdown",
   "metadata": {},
   "source": [
    "### Classifier"
   ]
  },
  {
   "cell_type": "code",
   "execution_count": 3,
   "metadata": {
    "collapsed": true
   },
   "outputs": [],
   "source": [
    "class NeuralNetClassifier(Orange.classification.Model):\n",
    "    \"\"\"Neural network classifier based on a set of binary classifiers.\"\"\"\n",
    "    def __init__(self, domain, thetas):\n",
    "        super().__init__(domain)\n",
    "        self.thetas = thetas  # model parameters\n",
    "\n",
    "    def predict(self, X):\n",
    "        y_hat = np.ravel(self.h(X, self.thetas))\n",
    "        # following works only for binary classifiers, correct it for multiclass\n",
    "        return np.vstack((1-y_hat, y_hat)).T"
   ]
  },
  {
   "cell_type": "markdown",
   "metadata": {},
   "source": [
    "### Testiranje"
   ]
  },
  {
   "cell_type": "markdown",
   "metadata": {},
   "source": [
    "Ne pozabite preveriti vsako vrstico, ki jo napišete. Prav tako ne priporočam, da vašo kodo za učenje pišete neposredno v zgornje ogrodje. Najprej skušajte kodo za učenje spisati vrstico za vrstico v Pythonovski lupini, preglejte, če so vaše matrike in vektorji pričakovanih dimenzij. Vse skupaj najprej implementirajte za mrežo z enim samim skritim nivojem in šele potem, ko stvar delaju, razvijte splošno različico za poljubno število nivojev."
   ]
  },
  {
   "cell_type": "markdown",
   "metadata": {},
   "source": [
    "Ne pozabite skalirati podatkov!"
   ]
  },
  {
   "cell_type": "markdown",
   "metadata": {},
   "source": [
    "Enostavno testiranje z zelo majhnimi podatki bi bilo možno na primer z:"
   ]
  },
  {
   "cell_type": "code",
   "execution_count": null,
   "metadata": {
    "collapsed": true
   },
   "outputs": [],
   "source": [
    "data = Orange.data.Table(\"xor\")\n",
    "np.random.seed(42)\n",
    "train, test = Orange.evaluation.sample(data, 5)\n",
    "\n",
    "ann = NeuralNetLearner((data.X.shape[1], 5, 4), lambda_=0.1)"
   ]
  },
  {
   "cell_type": "markdown",
   "metadata": {},
   "source": [
    "V končni različici bi lahko delovala tudi spodnja koda"
   ]
  },
  {
   "cell_type": "code",
   "execution_count": null,
   "metadata": {
    "collapsed": true
   },
   "outputs": [],
   "source": [
    "res = Orange.evaluation.CrossValidation(data, [ann], k=5)\n",
    "print(Orange.evaluation.AUC(res))"
   ]
  }
 ],
 "metadata": {
  "kernelspec": {
   "display_name": "Python 3",
   "language": "python",
   "name": "python3"
  },
  "language_info": {
   "codemirror_mode": {
    "name": "ipython",
    "version": 3
   },
   "file_extension": ".py",
   "mimetype": "text/x-python",
   "name": "python",
   "nbconvert_exporter": "python",
   "pygments_lexer": "ipython3",
   "version": "3.4.3"
  }
 },
 "nbformat": 4,
 "nbformat_minor": 0
}
