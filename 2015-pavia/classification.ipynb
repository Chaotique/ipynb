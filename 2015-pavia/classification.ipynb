{
 "metadata": {
  "name": "",
  "signature": "sha256:5835949610637009c95ed14b1ae3b751ce968e9752bc2be3339667fa9e3f8119"
 },
 "nbformat": 3,
 "nbformat_minor": 0,
 "worksheets": [
  {
   "cells": [
    {
     "cell_type": "markdown",
     "metadata": {},
     "source": [
      "Machine Learning in Python<br>\n",
      "A three-day course at University of Pavia<br>\n",
      "Bla\u017e Zupan and Marinka \u017ditnik<br>\n",
      "with many thanks to all the members of Biolab in Ljubljana\n",
      "\n",
      "Day One\n",
      "======="
     ]
    },
    {
     "cell_type": "heading",
     "level": 2,
     "metadata": {},
     "source": [
      "Data Input and Basic Exploration"
     ]
    },
    {
     "cell_type": "markdown",
     "metadata": {},
     "source": [
      "* Loading the data (small sample like iris, look how the data looks in tab format, load data in orange)\n",
      "* Simple data exploration (size, domain, attributes)\n",
      "* Same simple statistics (range, distribution, box-plot, class-comparison of box plot)"
     ]
    },
    {
     "cell_type": "code",
     "collapsed": false,
     "input": [
      "%matplotlib inline\n",
      "import Orange\n",
      "import matplotlib.pyplot as plt\n",
      "import numpy as np\n",
      "import scipy.stats\n",
      "\n",
      "iris = Orange.data.Table(\"iris\")"
     ],
     "language": "python",
     "metadata": {},
     "outputs": [],
     "prompt_number": 1
    },
    {
     "cell_type": "code",
     "collapsed": false,
     "input": [
      "iris.domain.variables"
     ],
     "language": "python",
     "metadata": {},
     "outputs": [
      {
       "metadata": {},
       "output_type": "pyout",
       "prompt_number": 2,
       "text": [
        "(ContinuousVariable('sepal length'),\n",
        " ContinuousVariable('sepal width'),\n",
        " ContinuousVariable('petal length'),\n",
        " ContinuousVariable('petal width'),\n",
        " DiscreteVariable('iris', values=['Iris-setosa', 'Iris-versicolor', 'Iris-virginica']))"
       ]
      }
     ],
     "prompt_number": 2
    },
    {
     "cell_type": "code",
     "collapsed": false,
     "input": [
      "iris.domain.class_var"
     ],
     "language": "python",
     "metadata": {},
     "outputs": [
      {
       "metadata": {},
       "output_type": "pyout",
       "prompt_number": 3,
       "text": [
        "DiscreteVariable('iris', values=['Iris-setosa', 'Iris-versicolor', 'Iris-virginica'])"
       ]
      }
     ],
     "prompt_number": 3
    },
    {
     "cell_type": "code",
     "collapsed": false,
     "input": [
      "print(iris[:5])"
     ],
     "language": "python",
     "metadata": {},
     "outputs": [
      {
       "output_type": "stream",
       "stream": "stdout",
       "text": [
        "[[5.1, 3.5, 1.4, 0.2 | Iris-setosa],\n",
        " [4.9, 3.0, 1.4, 0.2 | Iris-setosa],\n",
        " [4.7, 3.2, 1.3, 0.2 | Iris-setosa],\n",
        " [4.6, 3.1, 1.5, 0.2 | Iris-setosa],\n",
        " [5.0, 3.6, 1.4, 0.2 | Iris-setosa]\n"
       ]
      }
     ],
     "prompt_number": 4
    },
    {
     "cell_type": "markdown",
     "metadata": {},
     "source": [
      "This is a comment. \"\"\"Check\"\"\" it down."
     ]
    },
    {
     "cell_type": "code",
     "collapsed": false,
     "input": [
      "c = iris.domain['iris']\n",
      "c.values"
     ],
     "language": "python",
     "metadata": {},
     "outputs": [
      {
       "metadata": {},
       "output_type": "pyout",
       "prompt_number": 5,
       "text": [
        "['Iris-setosa', 'Iris-versicolor', 'Iris-virginica']"
       ]
      }
     ],
     "prompt_number": 5
    },
    {
     "cell_type": "code",
     "collapsed": false,
     "input": [
      "x1 = [d['sepal width'] for d in iris if d['iris']=='Iris-versicolor']\n",
      "x2 = [d['sepal width'] for d in iris if d['iris']=='Iris-setosa']\n",
      "plt.boxplot([x1, x2], 1);"
     ],
     "language": "python",
     "metadata": {},
     "outputs": [
      {
       "metadata": {},
       "output_type": "display_data",
       "png": "[encoded data removed]",
       "text": [
        "<matplotlib.figure.Figure at 0x107db9a20>"
       ]
      }
     ],
     "prompt_number": 6
    },
    {
     "cell_type": "code",
     "collapsed": false,
     "input": [
      "id = 0\n",
      "xs = [iris.X[iris.Y.flatten()==i, id] for i in range(len(iris.domain['iris'].values))]\n",
      "plt.boxplot(xs,1);\n",
      "labels = [v[5:] for v in iris.domain[\"iris\"].values]\n",
      "plt.xticks([1,2,3], labels);\n",
      "plt.title(iris.domain.attributes[id].name);"
     ],
     "language": "python",
     "metadata": {},
     "outputs": [
      {
       "metadata": {},
       "output_type": "display_data",
       "png": "[encoded data removed]",
       "text": [
        "<matplotlib.figure.Figure at 0x109d26cc0>"
       ]
      }
     ],
     "prompt_number": 7
    },
    {
     "cell_type": "code",
     "collapsed": false,
     "input": [
      "idx, idy = 2, 3\n",
      "plt.scatter(iris.X[:, idx], iris.X[:, idy], c=iris.Y.flatten());"
     ],
     "language": "python",
     "metadata": {},
     "outputs": [
      {
       "metadata": {},
       "output_type": "display_data",
       "png": "[encoded data removed]",
       "text": [
        "<matplotlib.figure.Figure at 0x1068d5b70>"
       ]
      }
     ],
     "prompt_number": 8
    },
    {
     "cell_type": "code",
     "collapsed": false,
     "input": [
      "for i in range(len(iris.domain.class_var.values)):\n",
      "    data = iris[iris.Y == i]\n",
      "    plt.plot(data.X[:, idx], data.X[:, idy], \"o\", label=str(iris.domain.class_var.values[i]))\n",
      "plt.legend(numpoints=1, loc=4);"
     ],
     "language": "python",
     "metadata": {},
     "outputs": [
      {
       "metadata": {},
       "output_type": "display_data",
       "png": "[encoded data removed]",
       "text": [
        "<matplotlib.figure.Figure at 0x109eea128>"
       ]
      }
     ],
     "prompt_number": 9
    },
    {
     "cell_type": "heading",
     "level": 2,
     "metadata": {},
     "source": [
      "Classification"
     ]
    },
    {
     "cell_type": "heading",
     "level": 3,
     "metadata": {},
     "source": [
      "Introduction on learners and classifiers"
     ]
    },
    {
     "cell_type": "markdown",
     "metadata": {},
     "source": [
      "* construct naive bayesian learner (nb)\n",
      "* on iris data construct a classifier\n",
      "* compute classification accuracy on the training set (ok, this is wrong, but just for a start)"
     ]
    },
    {
     "cell_type": "code",
     "collapsed": false,
     "input": [
      "nb = Orange.classification.NaiveBayesLearner()\n",
      "classifier = nb(iris)\n",
      "classifier(iris[0:3])"
     ],
     "language": "python",
     "metadata": {},
     "outputs": [
      {
       "metadata": {},
       "output_type": "pyout",
       "prompt_number": 10,
       "text": [
        "array([0, 0, 0])"
       ]
      }
     ],
     "prompt_number": 10
    },
    {
     "cell_type": "code",
     "collapsed": false,
     "input": [
      "iris.Y[0:3]"
     ],
     "language": "python",
     "metadata": {},
     "outputs": [
      {
       "metadata": {},
       "output_type": "pyout",
       "prompt_number": 11,
       "text": [
        "array([ 0.,  0.,  0.])"
       ]
      }
     ],
     "prompt_number": 11
    },
    {
     "cell_type": "code",
     "collapsed": false,
     "input": [
      "classifier(iris[0:3], True)"
     ],
     "language": "python",
     "metadata": {},
     "outputs": [
      {
       "metadata": {},
       "output_type": "pyout",
       "prompt_number": 12,
       "text": [
        "array([[  9.99985579e-01,   6.55509029e-06,   7.86610835e-06],\n",
        "       [  9.99603896e-01,   2.79304076e-04,   1.16799886e-04],\n",
        "       [  9.99896842e-01,   6.25199282e-05,   4.06379533e-05]])"
       ]
      }
     ],
     "prompt_number": 12
    },
    {
     "cell_type": "code",
     "collapsed": false,
     "input": [
      "classifier(iris)"
     ],
     "language": "python",
     "metadata": {},
     "outputs": [
      {
       "metadata": {},
       "output_type": "pyout",
       "prompt_number": 13,
       "text": [
        "array([0, 0, 0, 0, 0, 0, 0, 0, 0, 0, 0, 0, 0, 0, 0, 0, 0, 0, 0, 0, 0, 0, 0,\n",
        "       0, 0, 0, 0, 0, 0, 0, 0, 0, 0, 0, 0, 0, 0, 0, 0, 0, 0, 0, 0, 0, 0, 0,\n",
        "       0, 0, 0, 0, 2, 1, 2, 1, 2, 1, 1, 1, 1, 1, 1, 1, 1, 1, 1, 2, 1, 1, 1,\n",
        "       1, 1, 1, 1, 1, 1, 2, 2, 2, 1, 1, 1, 1, 1, 1, 1, 2, 2, 1, 1, 1, 1, 1,\n",
        "       1, 1, 1, 1, 1, 1, 1, 1, 2, 2, 2, 2, 2, 2, 1, 2, 2, 2, 2, 2, 2, 2, 2,\n",
        "       2, 2, 2, 2, 1, 2, 2, 2, 1, 2, 2, 1, 1, 2, 2, 2, 2, 2, 1, 2, 2, 2, 2,\n",
        "       1, 2, 2, 2, 2, 2, 2, 2, 2, 2, 2, 1])"
       ]
      }
     ],
     "prompt_number": 13
    },
    {
     "cell_type": "code",
     "collapsed": false,
     "input": [
      "correct = classifier(iris) == iris.Y\n",
      "sum(correct) / len(iris)"
     ],
     "language": "python",
     "metadata": {},
     "outputs": [
      {
       "metadata": {},
       "output_type": "pyout",
       "prompt_number": 14,
       "text": [
        "0.88666666666666671"
       ]
      }
     ],
     "prompt_number": 14
    },
    {
     "cell_type": "code",
     "collapsed": false,
     "input": [
      "plt.plot(iris.X[~correct][:, idx], iris.X[~correct][:, idy], \"o\", c=\"k\");\n",
      "plt.plot(iris.X[correct][:, idx], iris.X[correct][:, idy], \"o\", c=\"w\");"
     ],
     "language": "python",
     "metadata": {},
     "outputs": [
      {
       "metadata": {},
       "output_type": "display_data",
       "png": "[encoded data removed]",
       "text": [
        "<matplotlib.figure.Figure at 0x10a7af630>"
       ]
      }
     ],
     "prompt_number": 15
    },
    {
     "cell_type": "markdown",
     "metadata": {},
     "source": [
      "Looks like Iris setosa is easy to classify. Let's leave it out."
     ]
    },
    {
     "cell_type": "code",
     "collapsed": false,
     "input": [
      "data = iris[iris.Y != 0]\n",
      "len(data)"
     ],
     "language": "python",
     "metadata": {},
     "outputs": [
      {
       "metadata": {},
       "output_type": "pyout",
       "prompt_number": 16,
       "text": [
        "100"
       ]
      }
     ],
     "prompt_number": 16
    },
    {
     "cell_type": "markdown",
     "metadata": {},
     "source": [
      "sanity check, also see page on [colormaps](http://matplotlib.org/examples/color/colormaps_reference.html)"
     ]
    },
    {
     "cell_type": "code",
     "collapsed": false,
     "input": [
      "import matplotlib.cm as cm\n",
      "plt.scatter(data.X[:, idx], data.X[:, idy], c=data.Y.flatten(), cmap=cm.hot, s=80);"
     ],
     "language": "python",
     "metadata": {},
     "outputs": [
      {
       "metadata": {},
       "output_type": "display_data",
       "png": "[encoded data removed]",
       "text": [
        "<matplotlib.figure.Figure at 0x10a7cd518>"
       ]
      }
     ],
     "prompt_number": 17
    },
    {
     "cell_type": "code",
     "collapsed": false,
     "input": [
      "from numpy import linspace, meshgrid\n",
      "from matplotlib.mlab import griddata\n",
      "\n",
      "def grid(x, y, z, resX=100, resY=100):\n",
      "    \"\"\"Convert 3 column data to matplotlib grid.\"\"\"\n",
      "    xi = linspace(min(x), max(x), resX)\n",
      "    yi = linspace(min(y), max(y), resY)\n",
      "    Z = griddata(x, y, z, xi, yi, interp='linear')\n",
      "    X, Y = meshgrid(xi, yi)\n",
      "    return X, Y, Z\n",
      "\n",
      "data = iris[iris.Y != 0]\n",
      "learner = Orange.classification.NaiveBayesLearner()\n",
      "# higher C, lower regularization (inverse of reg strength)\n",
      "learner = Orange.classification.LogisticRegressionLearner(C=0.011)\n",
      "# learner = Orange.classification.TreeLearner(min_samples_split=20)\n",
      "classifier = learner(iris)\n",
      "z = classifier(data, True)[:, 2]\n",
      "\n",
      "idx, idy = 2, 3\n",
      "X, Y, Z = grid(data.X[:, idx], data.X[:, idy], z)\n",
      "plt.scatter(data.X[:, idx], data.X[:, idy], c=data.Y.flatten(), cmap=cm.hot, s=80)\n",
      "CS = plt.contour(X, Y, Z, [0.5, 0.4, 0.6], colors=\"k\");\n",
      "plt.clabel(CS, inline=1, fontsize=10);"
     ],
     "language": "python",
     "metadata": {},
     "outputs": [
      {
       "output_type": "stream",
       "stream": "stderr",
       "text": [
        "/Users/blaz/.env/p3/lib/python3.4/site-packages/matplotlib/tri/triangulation.py:110: FutureWarning: comparison to `None` will result in an elementwise object comparison in the future.\n",
        "  self._neighbors)\n"
       ]
      },
      {
       "metadata": {},
       "output_type": "display_data",
       "png": "[encoded data removed]",
       "text": [
        "<matplotlib.figure.Figure at 0x109ef8f28>"
       ]
      }
     ],
     "prompt_number": 18
    },
    {
     "cell_type": "code",
     "collapsed": false,
     "input": [
      "plt.hist(z, 20, range=[0, 1.]);"
     ],
     "language": "python",
     "metadata": {},
     "outputs": [
      {
       "metadata": {},
       "output_type": "display_data",
       "png": "[encoded data removed]",
       "text": [
        "<matplotlib.figure.Figure at 0x10a828ef0>"
       ]
      }
     ],
     "prompt_number": 19
    },
    {
     "cell_type": "heading",
     "level": 3,
     "metadata": {},
     "source": [
      "Training and testing"
     ]
    },
    {
     "cell_type": "code",
     "collapsed": false,
     "input": [
      "data = iris\n",
      "train, test = Orange.evaluation.sample(data, 0.7)\n",
      "learner = Orange.classification.LogisticRegressionLearner(C=0.1)\n",
      "classifier = learner(train)\n",
      "sum(classifier(test)==test.Y)/len(test)"
     ],
     "language": "python",
     "metadata": {},
     "outputs": [
      {
       "metadata": {},
       "output_type": "pyout",
       "prompt_number": 20,
       "text": [
        "0.82222222222222219"
       ]
      }
     ],
     "prompt_number": 20
    },
    {
     "cell_type": "code",
     "collapsed": false,
     "input": [
      "learner = Orange.classification.LogisticRegressionLearner(C=10)\n",
      "learner = Orange.classification.NaiveBayesLearner()\n",
      "learner = Orange.classification.TreeLearner()\n",
      "n_tests = 20\n",
      "acc = []\n",
      "for i in range(n_tests):\n",
      "    train, test = Orange.evaluation.sample(data, 0.7)\n",
      "    classifier = learner(train)\n",
      "    acc.append(sum(classifier(test)==test.Y)/len(test))\n",
      "sum(acc)/n_tests"
     ],
     "language": "python",
     "metadata": {},
     "outputs": [
      {
       "metadata": {},
       "output_type": "pyout",
       "prompt_number": 21,
       "text": [
        "0.95444444444444443"
       ]
      }
     ],
     "prompt_number": 21
    },
    {
     "cell_type": "code",
     "collapsed": false,
     "input": [
      "data = Orange.data.Table(\"titanic\")\n",
      "train, test = Orange.evaluation.sample(data, 0.7)\n",
      "\n",
      "lr10 = Orange.classification.LogisticRegressionLearner(C=10)\n",
      "nbc = Orange.classification.NaiveBayesLearner()\n",
      "tree = Orange.classification.TreeLearner()\n",
      "learners = [lr10, nbc, tree]\n",
      "learners = [nbc]\n",
      "\n",
      "res = Orange.evaluation.TestOnTestData(train, test, learners)\n",
      "Orange.evaluation.CA(res)"
     ],
     "language": "python",
     "metadata": {},
     "outputs": [
      {
       "metadata": {},
       "output_type": "pyout",
       "prompt_number": 22,
       "text": [
        "array([ 0.77004539])"
       ]
      }
     ],
     "prompt_number": 22
    },
    {
     "cell_type": "code",
     "collapsed": false,
     "input": [
      "data = Orange.data.Table(\"titanic\")\n",
      "res = Orange.evaluation.CrossValidation(data, learners)\n",
      "Orange.evaluation.CA(res)"
     ],
     "language": "python",
     "metadata": {},
     "outputs": [
      {
       "metadata": {},
       "output_type": "pyout",
       "prompt_number": 23,
       "text": [
        "array([ 0.77873694])"
       ]
      }
     ],
     "prompt_number": 23
    },
    {
     "cell_type": "code",
     "collapsed": false,
     "input": [
      "Orange.evaluation.AUC(res)"
     ],
     "language": "python",
     "metadata": {},
     "outputs": [
      {
       "metadata": {},
       "output_type": "pyout",
       "prompt_number": 24,
       "text": [
        "array([ 0.70389379])"
       ]
      }
     ],
     "prompt_number": 24
    },
    {
     "cell_type": "heading",
     "level": 3,
     "metadata": {},
     "source": [
      "Experiments with GEO data sets"
     ]
    },
    {
     "cell_type": "code",
     "collapsed": false,
     "input": [
      "import orangecontrib.bio.geo as geo"
     ],
     "language": "python",
     "metadata": {},
     "outputs": [],
     "prompt_number": 25
    },
    {
     "cell_type": "code",
     "collapsed": false,
     "input": [
      "info = geo.GDSInfo()\n",
      "ds = set([x for x in info\n",
      "          if (info[x]['sample_count'] > 100 and\n",
      "              len(set(sub[\"type\"] for sub in info[x][\"subsets\"])) == 1)])\n",
      "len(ds)"
     ],
     "language": "python",
     "metadata": {},
     "outputs": [
      {
       "metadata": {},
       "output_type": "pyout",
       "prompt_number": 26,
       "text": [
        "24"
       ]
      }
     ],
     "prompt_number": 26
    },
    {
     "cell_type": "code",
     "collapsed": false,
     "input": [
      "gds = geo.GDS(\"GDS2960\")\n",
      "print(\"{0}\\n{1}\".format(gds.info[\"title\"], gds.info[\"description\"]))"
     ],
     "language": "python",
     "metadata": {},
     "outputs": [
      {
       "output_type": "stream",
       "stream": "stdout",
       "text": [
        "Marfan syndrome: cultured skin fibroblasts\n",
        "Analysis of cultured skin fibroblasts prepared from patients with Marfan syndrome (MFS). MFS is a heritable connective tissue disorder caused by mutations in the fibrillin-1 gene. Results provide insight into the molecular pathogenesis of MFS.\n"
       ]
      }
     ],
     "prompt_number": 27
    },
    {
     "cell_type": "code",
     "collapsed": false,
     "input": [
      "data = gds.getdata(sample_type=\"disease state\", transpose=True, report_genes=True)"
     ],
     "language": "python",
     "metadata": {},
     "outputs": [],
     "prompt_number": 28
    },
    {
     "cell_type": "code",
     "collapsed": false,
     "input": [
      "\"Data instances: {0:d}, Genes: {1:d}\".format(len(data), len(data.domain.attributes))"
     ],
     "language": "python",
     "metadata": {},
     "outputs": [
      {
       "metadata": {},
       "output_type": "pyout",
       "prompt_number": 29,
       "text": [
        "'Data instances: 101, Genes: 4068'"
       ]
      }
     ],
     "prompt_number": 29
    },
    {
     "cell_type": "code",
     "collapsed": false,
     "input": [
      "import bottlechest as bn\n",
      "[(name, c) for name, c in zip(data.domain.class_var.values, bn.bincount(data.Y, max(data.Y))[0])]"
     ],
     "language": "python",
     "metadata": {},
     "outputs": [
      {
       "metadata": {},
       "output_type": "pyout",
       "prompt_number": 30,
       "text": [
        "[('Marfan syndrome', 60.0), ('control', 41.0)]"
       ]
      }
     ],
     "prompt_number": 30
    },
    {
     "cell_type": "code",
     "collapsed": false,
     "input": [
      "lr = Orange.classification.LogisticRegressionLearner(C=1.0)\n",
      "tree = Orange.classification.SimpleTreeLearner()\n",
      "svm = Orange.classification.SVMLearner(probability=True)\n",
      "rf = Orange.classification.RandomForestLearner()\n",
      "learners = [tree]\n",
      "res = Orange.evaluation.CrossValidation(data, learners, k=5)\n",
      "Orange.evaluation.AUC(res)"
     ],
     "language": "python",
     "metadata": {},
     "outputs": [
      {
       "metadata": {},
       "output_type": "pyout",
       "prompt_number": 36,
       "text": [
        "array([ 0.72222222])"
       ]
      }
     ],
     "prompt_number": 36
    },
    {
     "cell_type": "code",
     "collapsed": false,
     "input": [
      "lr(data)"
     ],
     "language": "python",
     "metadata": {},
     "outputs": [
      {
       "metadata": {},
       "output_type": "pyout",
       "prompt_number": 37,
       "text": [
        "logreg {'C': 1.0, 'tol': 0.0001, 'random_state': None, 'intercept_scaling': 1, 'class_weight': None, 'dual': False, 'penalty': 'l2', 'fit_intercept': True}"
       ]
      }
     ],
     "prompt_number": 37
    },
    {
     "cell_type": "heading",
     "level": 3,
     "metadata": {},
     "source": [
      "Critical distance graph"
     ]
    },
    {
     "cell_type": "code",
     "collapsed": false,
     "input": [
      "ion = Orange.data.Table(\"ionosphere\")\n",
      "iris = Orange.data.Table(\"iris\")\n",
      "titanic = Orange.data.Table(\"titanic\")\n",
      "balance = Orange.data.Table(\"balance-scale\")\n",
      "# cancer = Orange.data.Table(\"breast-cancer-wisconsin\")\n",
      "wdbc = Orange.data.Table(\"wdbc\")\n",
      "wine = Orange.data.Table(\"wine\")\n",
      "\n",
      "lr = Orange.classification.LogisticRegressionLearner(C=0.01)\n",
      "tree = Orange.classification.SimpleTreeLearner()\n",
      "svm = Orange.classification.SVMLearner(probability=True)\n",
      "rf = Orange.classification.RandomForestLearner(n_estimators=50)\n",
      "rf.name = \"rf50\"\n",
      "rf50 = Orange.classification.RandomForestLearner(n_estimators=50)\n",
      "rf50.name = \"rf50\"\n",
      "rfs = Orange.classification.SimpleRandomForestLearner()\n",
      "rfs50 = Orange.classification.SimpleRandomForestLearner(50)\n",
      "rfs50.name = \"srf50\"\n",
      "maj = Orange.classification.MajorityLearner()\n",
      "\n",
      "learners = [svm, tree, lr, rfs, rfs50, rf, rf50, maj]\n",
      "datasets = [ion, iris, titanic, balance, wdbc, wine]\n",
      "\n",
      "ranks = np.zeros((len(datasets), len(learners)))\n",
      "for i, data in enumerate(datasets):\n",
      "    res = Orange.evaluation.CrossValidation(data, learners, k=5)\n",
      "    auc = Orange.evaluation.AUC(res)\n",
      "    ranks[i] = scipy.stats.rankdata(-auc)\n",
      "\n",
      "ave_ranks = np.mean(ranks, axis=0)\n",
      "print(\"\\n\".join(\"%-15s: %4.2f\" % (l.name, r) for l, r in zip(learners, ave_ranks)))"
     ],
     "language": "python",
     "metadata": {},
     "outputs": [
      {
       "output_type": "stream",
       "stream": "stdout",
       "text": [
        "svm            : 2.25\n",
        "simple tree    : 5.42\n",
        "logreg         : 6.00\n",
        "simple rf      : 3.83\n",
        "srf50          : 3.67\n",
        "rf50           : 3.17\n",
        "rf50           : 3.67\n",
        "majority       : 8.00\n"
       ]
      }
     ],
     "prompt_number": 38
    },
    {
     "cell_type": "code",
     "collapsed": false,
     "input": [
      "ave_ranks = np.mean(ranks, axis=0);\n",
      "cd = Orange.evaluation.compute_CD(ave_ranks, len(datasets));\n",
      "Orange.evaluation.graph_ranks(ave_ranks, [x.name for x in learners], cd=cd, width=6, textspace=1.5)"
     ],
     "language": "python",
     "metadata": {},
     "outputs": [
      {
       "metadata": {},
       "output_type": "display_data",
       "png": "[encoded data removed]",
       "text": [
        "<matplotlib.figure.Figure at 0x10d6bd6a0>"
       ]
      }
     ],
     "prompt_number": 39
    },
    {
     "cell_type": "code",
     "collapsed": false,
     "input": [],
     "language": "python",
     "metadata": {},
     "outputs": []
    }
   ],
   "metadata": {}
  }
 ]
}